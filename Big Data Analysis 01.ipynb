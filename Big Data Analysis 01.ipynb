{
  "nbformat": 4,
  "nbformat_minor": 0,
  "metadata": {
    "colab": {
      "name": "Tithra_SIT742Task1.ipynb",
      "provenance": [],
      "collapsed_sections": []
    },
    "kernelspec": {
      "display_name": "Python 3",
      "language": "python",
      "name": "python3"
    },
    "language_info": {
      "codemirror_mode": {
        "name": "ipython",
        "version": 3
      },
      "file_extension": ".py",
      "mimetype": "text/x-python",
      "name": "python",
      "nbconvert_exporter": "python",
      "pygments_lexer": "ipython3",
      "version": "3.9.2"
    },
    "name": "SampleCode",
    "notebookId": 2691131752868967
  },
  "cells": [
    {
      "cell_type": "markdown",
      "metadata": {
        "id": "3D514Ei_kSUS"
      },
      "source": [
        "# SIT742: Modern Data Science \n",
        "**(2021 Assessment Task 01 - Data Manipulation)**\n",
        "\n",
        "---\n",
        "- Please refer to the CloudDeakin for the detailed assessment requirements.\n",
        "- Please submit to Clouddeakin before the due date.\n",
        "- Students with difficulty in meeting the deadline because of illness, etc. must apply for an assignment extension (up to 3 days) no later than *12:00pm on 16/04/2021 (Friday)*.\n",
        "\n",
        "\n",
        "Prepared by **SIT742 Teaching Team**\n",
        "\n",
        "\n",
        "---\n",
        "\n",
        "<div class=\"alert alert-block alert-info\">\n",
        "Enter your information in the following cell. Please make sure you fill your Student ID and Name correctly.  \n",
        "</div>\n",
        "\n",
        "**Student Information:** Please fill your information below\n",
        "\n",
        "- Name:  Tithra Chap\n",
        "- Student ID:  220051603\n",
        "- Email:  tchap@deakin.edu.au\n",
        "- Lab Session and Tutor (for on campus students): \n",
        "\n",
        "---"
      ]
    },
    {
      "cell_type": "markdown",
      "metadata": {
        "id": "1X7L24t43CoU"
      },
      "source": [
        "# Part I - Web Log Data\n",
        "\n",
        "## Overview\n",
        "\n",
        "Hotel TULIP a five-star hotel located at Deakin University, and its CIO Dr Bear Guts has asked the Team-SIT742 team to analyse the weblogs files. As an employee for Hotel Tulip, working in the Information Technology Division, it is required to prepare a set of documentation for Team-SIT742 to allow them to understand the data being dealt with. Throughout this report, some source codes are to explore the weblog, which afterwards the information is presented to Dr Bear Guts in the format of a report.\n",
        "\n",
        "In this part, you are required to use give dataset to finish some required analysis, with the exploreation data analytics skills as well as visuilization skill.\n",
        "\n",
        "\n",
        "You will be required to complete the coding to answer the questions with a neat and clean format, and you must keep outputs for code. Your commenting and adherence to code standards will also be considered when marking. Further information on Python standards, please visit https://www.python.org/dev/peps/pep-0008/ \n",
        "\n",
        "\n",
        "**Note**: You are not necessary to stick to the partial code provided, and you can write your own code to implement the required tasks. But you should provide sufficient comments.\n"
      ]
    },
    {
      "cell_type": "markdown",
      "metadata": {
        "id": "r85LNibZkSUZ"
      },
      "source": [
        "\n",
        "\n",
        "## 1.  Data ETL"
      ]
    },
    {
      "cell_type": "markdown",
      "metadata": {
        "id": "HtL_9QR27_Iu"
      },
      "source": [
        "### 1.1 Data Loading"
      ]
    },
    {
      "cell_type": "code",
      "metadata": {
        "colab": {
          "base_uri": "https://localhost:8080/"
        },
        "id": "z-QEXuGQEi_O",
        "outputId": "1c9dda6f-6f2c-4dba-f8a7-e291be009f13"
      },
      "source": [
        "from google.colab import drive\n",
        "drive.mount('/content/drive')"
      ],
      "execution_count": null,
      "outputs": [
        {
          "output_type": "stream",
          "text": [
            "Drive already mounted at /content/drive; to attempt to forcibly remount, call drive.mount(\"/content/drive\", force_remount=True).\n"
          ],
          "name": "stdout"
        }
      ]
    },
    {
      "cell_type": "code",
      "metadata": {
        "id": "19EhpLspkSUZ"
      },
      "source": [
        "import numpy as np\n",
        "import pandas as pd\n",
        "import time\n",
        "import datetime\n",
        "from scipy import stats\n",
        "import matplotlib.pyplot as plt\n",
        "import seaborn as sb\n"
      ],
      "execution_count": null,
      "outputs": []
    },
    {
      "cell_type": "markdown",
      "metadata": {
        "id": "jY2Br4cBN956"
      },
      "source": [
        " <div class=\"alert alert-block alert-info\">\n",
        "\n",
        "**Code**: \n",
        "    You are required to load Hotel TULIP data into dataframe df_ht and check how many files are loaded.\n",
        "    <br>\n",
        "    *Keep the outputs for code in your notebook.\n",
        "</div>\n",
        "\n"
      ]
    },
    {
      "cell_type": "code",
      "metadata": {
        "colab": {
          "base_uri": "https://localhost:8080/"
        },
        "id": "IIB_xH-hOqEj",
        "outputId": "25ebf0a5-38ba-43b3-fe85-ef9e556a5bd3"
      },
      "source": [
        "# Load the zipfile into [files] variable\n",
        "from zipfile import ZipFile\n",
        "files =  ZipFile('/content/drive/MyDrive/Colab Notebooks/HTWebLog_p1.zip')\n",
        "print('Task 1.1: Data Loading')\n",
        "print('-'*60)\n",
        "print('The total files loaded is: {}'.format(len(files.namelist())))\n",
        "\n"
      ],
      "execution_count": null,
      "outputs": [
        {
          "output_type": "stream",
          "text": [
            "Task 1.1: Data Loading\n",
            "------------------------------------------------------------\n",
            "The total files loaded is: 120\n"
          ],
          "name": "stdout"
        }
      ]
    },
    {
      "cell_type": "markdown",
      "metadata": {
        "id": "Dyt9lwm_QKFV"
      },
      "source": [
        " <div class=\"alert alert-block alert-info\">\n",
        "\n",
        "**Code**: \n",
        "    Check the data statistics and general information by printing its top 5 rows.\n",
        "    <br>\n",
        "    *Keep the outputs for code in your notebook.\n",
        "</div>\n",
        "\n",
        "<div class=\"alert alert-block alert-warning\">\n",
        "    \n",
        "**Report**: \n",
        "    **Part I 1.1** Please include your result for this coding task into your SIT742-DataDictionary.xlsx, then add to your report - Part I with proper section title '1.1.1' and '1.1.2'.\n",
        "</div>\n",
        "    </div>\n"
      ]
    },
    {
      "cell_type": "code",
      "metadata": {
        "colab": {
          "base_uri": "https://localhost:8080/"
        },
        "id": "1h7LqSGgQRUb",
        "outputId": "e9229e67-f766-49c3-94e9-279ef6ec1a38"
      },
      "source": [
        "\n",
        "#Load all files in [files] variable into dataframe [df]\n",
        "#======================================================\n",
        "\n",
        "#Get the header of the dataset\n",
        "def logic(index):\n",
        "    if index == 3:\n",
        "       return False\n",
        "    return True\n",
        "header_list = pd.read_csv(files.open(files.namelist()[0]),header=None,sep=\"\\s+\",skiprows= lambda x: logic(x))\n",
        "header_list.drop(columns=0,inplace=True)\n",
        "\n",
        "#Load the files into dataframe [df]\n",
        "df = pd.DataFrame()\n",
        "  #The file reading will ignore # tag, use whitespace as delimiter\n",
        "for i in files.namelist():\n",
        "  df = df.append(pd.read_csv(files.open(i),sep='\\s+',names=header_list.iloc[0,:],comment='#', encoding='iso-8859-1',header=None,na_filter=False,low_memory=False,error_bad_lines=False),ignore_index=True)\n",
        "\n",
        "#Fill the '-' and 'None' with NAs\n",
        "df.replace(to_replace=['-','None',''], value=np.nan,inplace=True)\n",
        "print('Now the datasets in the files have been loaded into dataframe [df].')"
      ],
      "execution_count": null,
      "outputs": [
        {
          "output_type": "stream",
          "text": [
            "Now the datasets in the files have been loaded into dataframe [df].\n"
          ],
          "name": "stdout"
        }
      ]
    },
    {
      "cell_type": "code",
      "metadata": {
        "colab": {
          "base_uri": "https://localhost:8080/",
          "height": 511
        },
        "id": "uFFN5wqGZXxI",
        "outputId": "e8677932-19ca-44a7-9b32-581c51e3e35d"
      },
      "source": [
        "print('Name of the dataset HTWebLog_p1.zip')\n",
        "print('Size of dataset: {}, including index column'.format(df.memory_usage(index=True).sum()))\n",
        "print('Date of release: from {} to {}'.format(df.iloc[0,0],df.iloc[len(df)-2,0]))\n",
        "print('Number of files: {}'.format(len(files.namelist())))\n",
        "print('Number of attributes: {}'.format(len(df.columns)))\n",
        "print('Number of records: {}'.format(len(df)))\n",
        "print('-'*60)\n",
        "print('The first 5 rows of the dataset:')\n",
        "df.head()"
      ],
      "execution_count": null,
      "outputs": [
        {
          "output_type": "stream",
          "text": [
            "Name of the dataset HTWebLog_p1.zip\n",
            "Size of dataset: 1012671728, including index column\n",
            "Date of release: from 2006-11-01 to 2007-02-28\n",
            "Number of files: 120\n",
            "Number of attributes: 15\n",
            "Number of records: 8438930\n",
            "------------------------------------------------------------\n",
            "The first 5 rows of the dataset:\n"
          ],
          "name": "stdout"
        },
        {
          "output_type": "execute_result",
          "data": {
            "text/html": [
              "<div>\n",
              "<style scoped>\n",
              "    .dataframe tbody tr th:only-of-type {\n",
              "        vertical-align: middle;\n",
              "    }\n",
              "\n",
              "    .dataframe tbody tr th {\n",
              "        vertical-align: top;\n",
              "    }\n",
              "\n",
              "    .dataframe thead th {\n",
              "        text-align: right;\n",
              "    }\n",
              "</style>\n",
              "<table border=\"1\" class=\"dataframe\">\n",
              "  <thead>\n",
              "    <tr style=\"text-align: right;\">\n",
              "      <th></th>\n",
              "      <th>date</th>\n",
              "      <th>time</th>\n",
              "      <th>s-sitename</th>\n",
              "      <th>s-ip</th>\n",
              "      <th>cs-method</th>\n",
              "      <th>cs-uri-stem</th>\n",
              "      <th>cs-uri-query</th>\n",
              "      <th>s-port</th>\n",
              "      <th>cs-username</th>\n",
              "      <th>c-ip</th>\n",
              "      <th>cs(User-Agent)</th>\n",
              "      <th>cs(Referer)</th>\n",
              "      <th>sc-status</th>\n",
              "      <th>sc-substatus</th>\n",
              "      <th>sc-win32-status</th>\n",
              "    </tr>\n",
              "  </thead>\n",
              "  <tbody>\n",
              "    <tr>\n",
              "      <th>0</th>\n",
              "      <td>2006-11-01</td>\n",
              "      <td>00:00:08</td>\n",
              "      <td>W3SVC1</td>\n",
              "      <td>127.0.0.1</td>\n",
              "      <td>GET</td>\n",
              "      <td>/Default.aspx</td>\n",
              "      <td>NaN</td>\n",
              "      <td>80</td>\n",
              "      <td>NaN</td>\n",
              "      <td>70.80.84.76</td>\n",
              "      <td>Mozilla/4.0+(compatible;+MSIE+6.0;+Windows+NT+...</td>\n",
              "      <td>http://www.google.com/search?sourceid=navclien...</td>\n",
              "      <td>200</td>\n",
              "      <td>0</td>\n",
              "      <td>0</td>\n",
              "    </tr>\n",
              "    <tr>\n",
              "      <th>1</th>\n",
              "      <td>2006-11-01</td>\n",
              "      <td>00:00:08</td>\n",
              "      <td>W3SVC1</td>\n",
              "      <td>127.0.0.1</td>\n",
              "      <td>GET</td>\n",
              "      <td>/Tulip/home/en-us/home_index.aspx</td>\n",
              "      <td>NaN</td>\n",
              "      <td>80</td>\n",
              "      <td>NaN</td>\n",
              "      <td>70.80.84.76</td>\n",
              "      <td>Mozilla/4.0+(compatible;+MSIE+6.0;+Windows+NT+...</td>\n",
              "      <td>NaN</td>\n",
              "      <td>200</td>\n",
              "      <td>0</td>\n",
              "      <td>0</td>\n",
              "    </tr>\n",
              "    <tr>\n",
              "      <th>2</th>\n",
              "      <td>2006-11-01</td>\n",
              "      <td>00:00:08</td>\n",
              "      <td>W3SVC1</td>\n",
              "      <td>127.0.0.1</td>\n",
              "      <td>GET</td>\n",
              "      <td>/Tulip/includes/js/CommonUtil.js</td>\n",
              "      <td>NaN</td>\n",
              "      <td>80</td>\n",
              "      <td>NaN</td>\n",
              "      <td>70.80.84.76</td>\n",
              "      <td>Mozilla/4.0+(compatible;+MSIE+6.0;+Windows+NT+...</td>\n",
              "      <td>http://www.hotelTulip.com.hk/Tulip/home/en-us/...</td>\n",
              "      <td>200</td>\n",
              "      <td>0</td>\n",
              "      <td>0</td>\n",
              "    </tr>\n",
              "    <tr>\n",
              "      <th>3</th>\n",
              "      <td>2006-11-01</td>\n",
              "      <td>00:00:09</td>\n",
              "      <td>W3SVC1</td>\n",
              "      <td>127.0.0.1</td>\n",
              "      <td>GET</td>\n",
              "      <td>/Tulip/common/common_style.aspx</td>\n",
              "      <td>lang=en-us</td>\n",
              "      <td>80</td>\n",
              "      <td>NaN</td>\n",
              "      <td>70.80.84.76</td>\n",
              "      <td>Mozilla/4.0+(compatible;+MSIE+6.0;+Windows+NT+...</td>\n",
              "      <td>http://www.hotelTulip.com.hk/Tulip/home/en-us/...</td>\n",
              "      <td>200</td>\n",
              "      <td>0</td>\n",
              "      <td>0</td>\n",
              "    </tr>\n",
              "    <tr>\n",
              "      <th>4</th>\n",
              "      <td>2006-11-01</td>\n",
              "      <td>00:00:09</td>\n",
              "      <td>W3SVC1</td>\n",
              "      <td>127.0.0.1</td>\n",
              "      <td>GET</td>\n",
              "      <td>/Tulip/common/en-us/images/top_img.jpg</td>\n",
              "      <td>NaN</td>\n",
              "      <td>80</td>\n",
              "      <td>NaN</td>\n",
              "      <td>70.80.84.76</td>\n",
              "      <td>Mozilla/4.0+(compatible;+MSIE+6.0;+Windows+NT+...</td>\n",
              "      <td>http://www.hotelTulip.com.hk/Tulip/home/en-us/...</td>\n",
              "      <td>200</td>\n",
              "      <td>0</td>\n",
              "      <td>0</td>\n",
              "    </tr>\n",
              "  </tbody>\n",
              "</table>\n",
              "</div>"
            ],
            "text/plain": [
              "         date      time s-sitename  ... sc-status sc-substatus sc-win32-status\n",
              "0  2006-11-01  00:00:08     W3SVC1  ...       200            0               0\n",
              "1  2006-11-01  00:00:08     W3SVC1  ...       200            0               0\n",
              "2  2006-11-01  00:00:08     W3SVC1  ...       200            0               0\n",
              "3  2006-11-01  00:00:09     W3SVC1  ...       200            0               0\n",
              "4  2006-11-01  00:00:09     W3SVC1  ...       200            0               0\n",
              "\n",
              "[5 rows x 15 columns]"
            ]
          },
          "metadata": {
            "tags": []
          },
          "execution_count": 7
        }
      ]
    },
    {
      "cell_type": "markdown",
      "metadata": {
        "id": "jDUDzs7lkSUa"
      },
      "source": [
        "### 1.2 Data Cleaning"
      ]
    },
    {
      "cell_type": "markdown",
      "metadata": {
        "id": "En0WOURqp7dB"
      },
      "source": [
        "#### Remove all NAs from data"
      ]
    },
    {
      "cell_type": "markdown",
      "metadata": {
        "id": "Efxzawa7Xdv9"
      },
      "source": [
        "\n",
        "<div class=\"alert alert-block alert-warning\">\n",
        "\n",
        "**Code**: \n",
        "    1. Check which columns have NAs, <br>\n",
        "    2. For each of those columns, display the number of NA records, <br> \n",
        "    3. emove all records with any NAs.\n",
        "    <br>\n",
        "    *Keep the outputs for code in your notebook.\n",
        "</div> \n",
        "\n",
        "<div class=\"alert alert-block alert-warning\">\n",
        "    \n",
        "**Report**: \n",
        "    **Part I 1.2** Please include your result for this coding task into your report Part I, with proper section title '1.2'.\n",
        "</div>\n",
        "    </div>\n"
      ]
    },
    {
      "cell_type": "code",
      "metadata": {
        "colab": {
          "base_uri": "https://localhost:8080/"
        },
        "id": "GX3BeD361pTw",
        "outputId": "cf50514c-d11b-42e6-e97f-64a5313bf95e"
      },
      "source": [
        "# Task 1.2 Data Cleaning\n",
        "print('Task 1.2: Data Cleaning')\n",
        "print('-'*60)\n",
        "#heck which columns have NAs\n",
        "print('1. Column with NAs are:')\n",
        "column_with_NAs = pd.DataFrame(columns={'names','values'})\n",
        "for col in df.columns:\n",
        "  if (df[col].isna().sum()>0):\n",
        "    column_with_NAs = column_with_NAs.append({'names':df[col].name,'values':df[col].isna().sum()/len(df)*100},ignore_index=True)\n",
        "    print('\\t- {:14} : {:0.5f}%'.format(df[col].name,df[col].isna().sum()/len(df)*100))\n",
        "\n",
        "#For each of those columns, display the number of NA records\n",
        "print('\\n2. Number of NAs in each column:')\n",
        "print(df.isnull().sum())\n",
        "\n",
        "#Remove all records with any NAs\n",
        "print('\\n3. Remove all records with any NAs:')\n",
        "print('\\t- Remove Columns with at least 15% of NAs')\n",
        "\n",
        "#Remove Columns with at least 15% of NAs\n",
        "df = df.drop(columns = column_with_NAs[column_with_NAs['values']>15]['names'])\n",
        "print('\\t\\t Now dataset has only {} columns'.format(len(df.columns)))\n",
        "print('\\t- Remove NAs from all records')\n",
        "print('\\t\\t Total records before NAs removal: {}'.format(len(df)))\n",
        "\n",
        "#Remove NAs from all records\n",
        "df = df.dropna(how = 'any')\n",
        "print('\\t\\t Total records after NAs removal: {}'.format(len(df)))\n",
        "#Remove out of scope record (at the last record)\n",
        "df = df.drop(df.tail(1).index)\n",
        "print('\\tNOTE: An additional record has also been removed since it belongs to 2007-03-01 session which is not the focus of our study')\n",
        "print('\\t\\t Now total records is: {}'.format(len(df)))\n",
        "\n",
        "#Prepare and convert the dataset to an apropriate setting:\n",
        "df = df.set_index(pd.to_datetime(df['date'] + ' ' + df['time']))\n",
        "df = df.drop(['date','time'], axis=1)\n",
        "df['s-port'] = df['s-port'].astype(int)\n",
        "df['sc-status'] = df['sc-status'].astype(int)\n",
        "df['sc-substatus'] = df['sc-substatus'].astype(int)\n",
        "df['sc-win32-status'] = df['sc-win32-status'].astype(int)\n"
      ],
      "execution_count": null,
      "outputs": [
        {
          "output_type": "stream",
          "text": [
            "Task 1.2: Data Cleaning\n",
            "------------------------------------------------------------\n",
            "1. Column with NAs are:\n",
            "\t- date           : 0.00002%\n",
            "\t- time           : 0.00002%\n",
            "\t- s-sitename     : 0.00002%\n",
            "\t- s-ip           : 0.00002%\n",
            "\t- cs-method      : 0.00002%\n",
            "\t- cs-uri-stem    : 0.00002%\n",
            "\t- cs-uri-query   : 93.45419%\n",
            "\t- s-port         : 0.00002%\n",
            "\t- cs-username    : 100.00000%\n",
            "\t- c-ip           : 0.00002%\n",
            "\t- cs(User-Agent) : 0.04182%\n",
            "\t- cs(Referer)    : 15.51924%\n",
            "\t- sc-status      : 0.00898%\n",
            "\t- sc-substatus   : 0.00898%\n",
            "\t- sc-win32-status : 0.00898%\n",
            "\n",
            "2. Number of NAs in each column:\n",
            "date                     2\n",
            "time                     2\n",
            "s-sitename               2\n",
            "s-ip                     2\n",
            "cs-method                2\n",
            "cs-uri-stem              2\n",
            "cs-uri-query       7886534\n",
            "s-port                   2\n",
            "cs-username        8438930\n",
            "c-ip                     2\n",
            "cs(User-Agent)        3529\n",
            "cs(Referer)        1309658\n",
            "sc-status              758\n",
            "sc-substatus           758\n",
            "sc-win32-status        758\n",
            "dtype: int64\n",
            "\n",
            "3. Remove all records with any NAs:\n",
            "\t- Remove Columns with at least 15% of NAs\n",
            "\t\t Now dataset has only 12 columns\n",
            "\t- Remove NAs from all records\n",
            "\t\t Total records before NAs removal: 8438930\n",
            "\t\t Total records after NAs removal: 8434645\n",
            "\tNOTE: An additional record has also been removed since it belongs to 2007-03-01 session which is not the focus of our study\n",
            "\t\t Now total records is: 8434644\n"
          ],
          "name": "stdout"
        }
      ]
    },
    {
      "cell_type": "markdown",
      "metadata": {
        "id": "mq3sWOXtrZhF"
      },
      "source": [
        "## 2. Data Statistics Description"
      ]
    },
    {
      "cell_type": "markdown",
      "metadata": {
        "id": "BJuh1nsirmOy"
      },
      "source": [
        "### 2.1 Traffic Analysis"
      ]
    },
    {
      "cell_type": "markdown",
      "metadata": {
        "id": "vzey2OZygD8u"
      },
      "source": [
        "\n",
        "<div class=\"alert alert-block alert-warning\">\n",
        "\n",
        "**Code**: \n",
        "    Discover on the traffics by analysing hourly requests, then plot it into Bar Chart.\n",
        "    <br>\n",
        "    *Keep the outputs for code in your notebook.\n",
        "</div> \n",
        "\n",
        "<div class=\"alert alert-block alert-warning\">\n",
        "    \n",
        "**Report**: \n",
        "    **Part I 2.1.A** Please include your result for this coding task into your report Part I, with proper section title '2.1.A'.\n",
        "</div>\n",
        "    </div>\n"
      ]
    },
    {
      "cell_type": "markdown",
      "metadata": {
        "id": "EpEeaqZtxIZg"
      },
      "source": [
        "#### By day and plot \n",
        "\n"
      ]
    },
    {
      "cell_type": "code",
      "metadata": {
        "colab": {
          "base_uri": "https://localhost:8080/",
          "height": 968
        },
        "id": "DAH1IrWbfQQW",
        "outputId": "a8436b35-95f6-4886-9d7e-fef046516929"
      },
      "source": [
        "# Create a bar chart of the number of server requests by hour of the day\n",
        "#=======================================================================\n",
        "print('Task 2.1 A: Traffic Analysis')\n",
        "print('-'*60)\n",
        "\n",
        "#Get number of hours and group them\n",
        "time_cat = df.groupby(df.index.hour).size()\n",
        "\n",
        "#Plot the bar chart of user request time\n",
        "print('Plotting the bar chart of time frequency of user requests\\n')\n",
        "plt.figure(figsize=(10,6))\n",
        "plt.bar(time_cat.index,time_cat.values)\n",
        "plt.title('Frequency of User Request Time')\n",
        "plt.xlabel('Time Categories')\n",
        "plt.ylabel('Frequency')\n",
        "plt.xticks(time_cat.index)\n",
        "plt.show()\n",
        "\n",
        "print('\\nTime categories with their respective frequencies')\n",
        "print(time_cat)"
      ],
      "execution_count": null,
      "outputs": [
        {
          "output_type": "stream",
          "text": [
            "Task 2.1 A: Traffic Analysis\n",
            "------------------------------------------------------------\n",
            "Plotting the bar chart of time frequency of user requests\n",
            "\n"
          ],
          "name": "stdout"
        },
        {
          "output_type": "display_data",
          "data": {
            "image/png": "[encoded data removed]",
            "text/plain": [
              "<Figure size 720x432 with 1 Axes>"
            ]
          },
          "metadata": {
            "tags": [],
            "needs_background": "light"
          }
        },
        {
          "output_type": "stream",
          "text": [
            "\n",
            "Time categories with their respective frequencies\n",
            "0     155875\n",
            "1     344287\n",
            "2     432289\n",
            "3     546655\n",
            "4     529352\n",
            "5     487306\n",
            "6     544711\n",
            "7     522365\n",
            "8     550744\n",
            "9     553564\n",
            "10    443413\n",
            "11    368947\n",
            "12    367635\n",
            "13    442414\n",
            "14    493693\n",
            "15    472843\n",
            "16    387276\n",
            "17    250269\n",
            "18    159375\n",
            "19     93829\n",
            "20     72559\n",
            "21     66474\n",
            "22     65136\n",
            "23     83633\n",
            "dtype: int64\n"
          ],
          "name": "stdout"
        }
      ]
    },
    {
      "cell_type": "markdown",
      "metadata": {
        "id": "aFEJDPvEy8ZR"
      },
      "source": [
        "\n",
        "<div class=\"alert alert-block alert-warning\">\n",
        "\n",
        "**Code**: \n",
        "    You are required to filter the hourly requests by removing any below 490,000 and above 400,000. (hourly_request_amount >= 400000 & hourly_request_amount <= 490000)    \n",
        "    <br>\n",
        "    *Keep the outputs for code in your notebook.\n",
        "</div> \n",
        "\n",
        "<div class=\"alert alert-block alert-warning\">\n",
        "    \n",
        "**Report**: \n",
        "    **Part I 2.1.B** Please include your result for this coding task into your report, with proper section title '2.1.B'.\n",
        "</div>\n",
        "    </div>\n"
      ]
    },
    {
      "cell_type": "code",
      "metadata": {
        "colab": {
          "base_uri": "https://localhost:8080/",
          "height": 713
        },
        "id": "TLArAkrH0rig",
        "outputId": "e960557c-a801-4e36-a936-6bb5f5a66cc0"
      },
      "source": [
        "#Task 2.1 B:\n",
        "#=================================================\n",
        "\n",
        "#Find and remove the hourly-request numbers that are >=400000 and <=490000\n",
        "result = time_cat.where((time_cat<400000)|(time_cat>490000)).dropna()\n",
        "result_table = pd.DataFrame(result,columns={'Frequency'})\n",
        "result_table.index.name = 'Time'\n",
        "print('- Below are the table showing time categories and their total numbers of hourly requests.')\n",
        "print('- The total numbers of hourly requests EXCLUDE the range of between 400000 and 490000.')\n",
        "display(result_table)"
      ],
      "execution_count": 38,
      "outputs": [
        {
          "output_type": "stream",
          "text": [
            "- Below are the table showing time categories and their total numbers of hourly requests.\n",
            "- The total numbers of hourly requests EXCLUDE the range of between 400000 and 490000.\n"
          ],
          "name": "stdout"
        },
        {
          "output_type": "display_data",
          "data": {
            "text/html": [
              "<div>\n",
              "<style scoped>\n",
              "    .dataframe tbody tr th:only-of-type {\n",
              "        vertical-align: middle;\n",
              "    }\n",
              "\n",
              "    .dataframe tbody tr th {\n",
              "        vertical-align: top;\n",
              "    }\n",
              "\n",
              "    .dataframe thead th {\n",
              "        text-align: right;\n",
              "    }\n",
              "</style>\n",
              "<table border=\"1\" class=\"dataframe\">\n",
              "  <thead>\n",
              "    <tr style=\"text-align: right;\">\n",
              "      <th></th>\n",
              "      <th>Frequency</th>\n",
              "    </tr>\n",
              "    <tr>\n",
              "      <th>Time</th>\n",
              "      <th></th>\n",
              "    </tr>\n",
              "  </thead>\n",
              "  <tbody>\n",
              "    <tr>\n",
              "      <th>0</th>\n",
              "      <td>155875.0</td>\n",
              "    </tr>\n",
              "    <tr>\n",
              "      <th>1</th>\n",
              "      <td>344287.0</td>\n",
              "    </tr>\n",
              "    <tr>\n",
              "      <th>3</th>\n",
              "      <td>546655.0</td>\n",
              "    </tr>\n",
              "    <tr>\n",
              "      <th>4</th>\n",
              "      <td>529352.0</td>\n",
              "    </tr>\n",
              "    <tr>\n",
              "      <th>6</th>\n",
              "      <td>544711.0</td>\n",
              "    </tr>\n",
              "    <tr>\n",
              "      <th>7</th>\n",
              "      <td>522365.0</td>\n",
              "    </tr>\n",
              "    <tr>\n",
              "      <th>8</th>\n",
              "      <td>550744.0</td>\n",
              "    </tr>\n",
              "    <tr>\n",
              "      <th>9</th>\n",
              "      <td>553564.0</td>\n",
              "    </tr>\n",
              "    <tr>\n",
              "      <th>11</th>\n",
              "      <td>368947.0</td>\n",
              "    </tr>\n",
              "    <tr>\n",
              "      <th>12</th>\n",
              "      <td>367635.0</td>\n",
              "    </tr>\n",
              "    <tr>\n",
              "      <th>14</th>\n",
              "      <td>493693.0</td>\n",
              "    </tr>\n",
              "    <tr>\n",
              "      <th>16</th>\n",
              "      <td>387276.0</td>\n",
              "    </tr>\n",
              "    <tr>\n",
              "      <th>17</th>\n",
              "      <td>250269.0</td>\n",
              "    </tr>\n",
              "    <tr>\n",
              "      <th>18</th>\n",
              "      <td>159375.0</td>\n",
              "    </tr>\n",
              "    <tr>\n",
              "      <th>19</th>\n",
              "      <td>93829.0</td>\n",
              "    </tr>\n",
              "    <tr>\n",
              "      <th>20</th>\n",
              "      <td>72559.0</td>\n",
              "    </tr>\n",
              "    <tr>\n",
              "      <th>21</th>\n",
              "      <td>66474.0</td>\n",
              "    </tr>\n",
              "    <tr>\n",
              "      <th>22</th>\n",
              "      <td>65136.0</td>\n",
              "    </tr>\n",
              "    <tr>\n",
              "      <th>23</th>\n",
              "      <td>83633.0</td>\n",
              "    </tr>\n",
              "  </tbody>\n",
              "</table>\n",
              "</div>"
            ],
            "text/plain": [
              "      Frequency\n",
              "Time           \n",
              "0      155875.0\n",
              "1      344287.0\n",
              "3      546655.0\n",
              "4      529352.0\n",
              "6      544711.0\n",
              "7      522365.0\n",
              "8      550744.0\n",
              "9      553564.0\n",
              "11     368947.0\n",
              "12     367635.0\n",
              "14     493693.0\n",
              "16     387276.0\n",
              "17     250269.0\n",
              "18     159375.0\n",
              "19      93829.0\n",
              "20      72559.0\n",
              "21      66474.0\n",
              "22      65136.0\n",
              "23      83633.0"
            ]
          },
          "metadata": {
            "tags": []
          }
        }
      ]
    },
    {
      "cell_type": "markdown",
      "metadata": {
        "id": "xwKZ2IAr9IR_"
      },
      "source": [
        "### 2.2 Server Analysis"
      ]
    },
    {
      "cell_type": "markdown",
      "metadata": {
        "id": "n2sojLZStPBh"
      },
      "source": [
        "<div class=\"alert alert-block alert-warning\">\n",
        "\n",
        "**Code**: \n",
        "    Discover on the server status using 'sc-status' from DataFrame, then plot it into Pie Chart. <br>\n",
        "    *Keep the outputs for code in your notebook.\n",
        "</div> \n",
        "\n",
        "<div class=\"alert alert-block alert-warning\">\n",
        "    \n",
        "**Report**: \n",
        "    **Part I 2.2** Please include your results for this coding task into your report Part I section '2.2', <br>\n",
        "    1. How many types of status reported? <br>\n",
        "    2. Figure 'Server Status' in pie chart. <br>\n",
        "</div>"
      ]
    },
    {
      "cell_type": "markdown",
      "metadata": {
        "id": "jOy7bisdx6iB"
      },
      "source": [
        "#### Server Status"
      ]
    },
    {
      "cell_type": "code",
      "metadata": {
        "colab": {
          "base_uri": "https://localhost:8080/",
          "height": 513
        },
        "id": "9nVWlMSXrHQg",
        "outputId": "6433b0fe-819b-4a2f-af2e-598114e2ed20"
      },
      "source": [
        "#Task 2.2: Server Analysis\n",
        "#======================================\n",
        "\n",
        "print('Task: 2.2: Server Analysis')\n",
        "print('-'*60)\n",
        "print('There are {} types of server status'.format(len(df['sc-status'].unique())))\n",
        "\n",
        "#Get the proportion of server status\n",
        "status_cat = df.groupby(df['sc-status']).size()\n",
        "\n",
        "#plot the pie chart\n",
        "#Need to put % values in legend since data labels are crowded in the pie\n",
        "print('\\nPlotting the pie chart of proportion of server status types\\n')\n",
        "percent = 100.*status_cat.values/status_cat.values.sum()\n",
        "labels = ['{0} - {1:1.2f} %'.format(i,j) for i,j in zip(status_cat.index, percent)]\n",
        "plt.title('Server Status')\n",
        "plt.pie(status_cat.values,labels=status_cat.index,startangle=90,radius=2)\n",
        "plt.legend(title = 'Type of Status',loc='center',labels=labels)\n",
        "plt.show()\n"
      ],
      "execution_count": null,
      "outputs": [
        {
          "output_type": "stream",
          "text": [
            "Task: 2.2: Server Analysis\n",
            "------------------------------------------------------------\n",
            "There are 12 types of server status\n",
            "\n",
            "Plotting the pie chart of proportion of server status types\n",
            "\n"
          ],
          "name": "stdout"
        },
        {
          "output_type": "display_data",
          "data": {
            "image/png": "[encoded data removed]",
            "text/plain": [
              "<Figure size 432x288 with 1 Axes>"
            ]
          },
          "metadata": {
            "tags": []
          }
        }
      ]
    },
    {
      "cell_type": "markdown",
      "metadata": {
        "id": "bxT49TgGpwrw"
      },
      "source": [
        "### 2.3 Geographic Analysis"
      ]
    },
    {
      "cell_type": "markdown",
      "metadata": {
        "id": "MpEve4Zgvtc9"
      },
      "source": [
        "Clinet's IP addresses can reflect geographic information. Since different IP are from different countries even citys, we can find out the demographics information from them. You may use **DbIpCity** from **ip2geotools** to find the geolocation information from given IPs.\n",
        "\n",
        "**Notes:**\n",
        "There are some attributes in ip2geotools can help: <br>\n",
        "*ip_address*: IP address <br>\n",
        "*city*: city where IP address is located <br>\n",
        "*region*: region where IP address is located <br>\n",
        "*country*: country where IP address is located (two letters country code) <br>"
      ]
    },
    {
      "cell_type": "markdown",
      "metadata": {
        "id": "AvUQUKGCqLhJ"
      },
      "source": [
        "#### 2.3.A Requests by Country\n",
        "<div class=\"alert alert-block alert-warning\">\n",
        "\n",
        "**Code**: \n",
        "    Build your code with the following requirements <br>\n",
        "    1. Select all requests at 01 Jan 2007 from 20:00:00 pm to 20:59:59. <br>\n",
        "    2. Discover on the demographics by analysing requests from country level. <br>\n",
        "    3. Plot countries of all requests in pie chart. <br>\n",
        "    4. List top 3 with the numbers of requests. <br>\n",
        "    *Keep the outputs for code in your notebook.\n",
        "</div> \n",
        "\n",
        "<div class=\"alert alert-block alert-warning\">\n",
        "    \n",
        "**Report**: \n",
        "    **Part I 2.3.A** Please include your results for this coding task into your report Part I section '2.3.A', <br>\n",
        "    1. How many requests raised in the period of time? <br>\n",
        "    2. How many countries are invlolved? <br>\n",
        "    3. Figure 'Request by Country' in pie chart. <br>\n",
        "    4. top 3 countries with request numbers. <br>\n",
        "</div>"
      ]
    },
    {
      "cell_type": "code",
      "metadata": {
        "colab": {
          "base_uri": "https://localhost:8080/",
          "height": 1000
        },
        "id": "Gt5zWVzNGKk-",
        "outputId": "5e551236-fcbc-4b95-a64e-cf53160b4367"
      },
      "source": [
        "!pip install ip2geotools"
      ],
      "execution_count": null,
      "outputs": [
        {
          "output_type": "stream",
          "text": [
            "Collecting ip2geotools\n",
            "  Downloading https://files.pythonhosted.org/packages/54/7d/b7e3252625443b5900feb009eb70527c65c2e5948b0eb7d0ffc063833441/ip2geotools-0.1.5-py3-none-any.whl\n",
            "Collecting pkginfo>=1.4.2\n",
            "  Downloading https://files.pythonhosted.org/packages/b0/9a/d78e7c299eb5659bc3a036e5a968a399c62bfe0b2aa18baf7d13f43373ba/pkginfo-1.7.0-py2.py3-none-any.whl\n",
            "Requirement already satisfied: six>=1.11.0 in /usr/local/lib/python3.7/dist-packages (from ip2geotools) (1.15.0)\n",
            "Collecting typed-ast>=1.1.0\n",
            "\u001b[?25l  Downloading https://files.pythonhosted.org/packages/65/b3/573d2f1fecbbe8f82a8d08172e938c247f99abe1be3bef3da2efaa3810bf/typed_ast-1.4.3-cp37-cp37m-manylinux1_x86_64.whl (743kB)\n",
            "\u001b[K     |████████████████████████████████| 747kB 8.6MB/s \n",
            "\u001b[?25hRequirement already satisfied: wrapt>=1.10.11 in /usr/local/lib/python3.7/dist-packages (from ip2geotools) (1.12.1)\n",
            "Requirement already satisfied: webencodings>=0.5.1 in /usr/local/lib/python3.7/dist-packages (from ip2geotools) (0.5.1)\n",
            "Collecting geocoder>=1.38.1\n",
            "\u001b[?25l  Downloading https://files.pythonhosted.org/packages/4f/6b/13166c909ad2f2d76b929a4227c952630ebaf0d729f6317eb09cbceccbab/geocoder-1.38.1-py2.py3-none-any.whl (98kB)\n",
            "\u001b[K     |████████████████████████████████| 102kB 5.4MB/s \n",
            "\u001b[?25hCollecting dicttoxml>=1.7.4\n",
            "  Downloading https://files.pythonhosted.org/packages/74/36/534db111db9e7610a41641a1f6669a964aacaf51858f466de264cc8dcdd9/dicttoxml-1.7.4.tar.gz\n",
            "Collecting future>=0.17.1\n",
            "\u001b[?25l  Downloading https://files.pythonhosted.org/packages/45/0b/38b06fd9b92dc2b68d58b75f900e97884c45bedd2ff83203d933cf5851c9/future-0.18.2.tar.gz (829kB)\n",
            "\u001b[K     |████████████████████████████████| 829kB 31.8MB/s \n",
            "\u001b[?25hCollecting pyquery>=1.4.0\n",
            "  Downloading https://files.pythonhosted.org/packages/58/0b/85d15e21f660a8ea68b1e0286168938857391f4ec9f6d204d91c9e013826/pyquery-1.4.3-py3-none-any.whl\n",
            "Collecting requests-toolbelt>=0.8.0\n",
            "\u001b[?25l  Downloading https://files.pythonhosted.org/packages/60/ef/7681134338fc097acef8d9b2f8abe0458e4d87559c689a8c306d0957ece5/requests_toolbelt-0.9.1-py2.py3-none-any.whl (54kB)\n",
            "\u001b[K     |████████████████████████████████| 61kB 3.6MB/s \n",
            "\u001b[?25hCollecting lazy-object-proxy>=1.3.1\n",
            "\u001b[?25l  Downloading https://files.pythonhosted.org/packages/6e/b0/f055db25fd68ab4859832a887c8b304274fc12dd5a3f8e83e61250733aeb/lazy_object_proxy-1.6.0-cp37-cp37m-manylinux1_x86_64.whl (55kB)\n",
            "\u001b[K     |████████████████████████████████| 61kB 3.7MB/s \n",
            "\u001b[?25hRequirement already satisfied: decorator>=4.3.0 in /usr/local/lib/python3.7/dist-packages (from ip2geotools) (4.4.2)\n",
            "Collecting typing>=3.6.6\n",
            "\u001b[?25l  Downloading https://files.pythonhosted.org/packages/05/d9/6eebe19d46bd05360c9a9aae822e67a80f9242aabbfc58b641b957546607/typing-3.7.4.3.tar.gz (78kB)\n",
            "\u001b[K     |████████████████████████████████| 81kB 5.4MB/s \n",
            "\u001b[?25hRequirement already satisfied: tqdm>=4.28.1 in /usr/local/lib/python3.7/dist-packages (from ip2geotools) (4.41.1)\n",
            "Requirement already satisfied: certifi>=2018.10.15 in /usr/local/lib/python3.7/dist-packages (from ip2geotools) (2020.12.5)\n",
            "Collecting cssselect>=1.0.3\n",
            "  Downloading https://files.pythonhosted.org/packages/3b/d4/3b5c17f00cce85b9a1e6f91096e1cc8e8ede2e1be8e96b87ce1ed09e92c5/cssselect-1.1.0-py2.py3-none-any.whl\n",
            "Requirement already satisfied: pyparsing>=2.3.0 in /usr/local/lib/python3.7/dist-packages (from ip2geotools) (2.4.7)\n",
            "Collecting mccabe>=0.6.1\n",
            "  Downloading https://files.pythonhosted.org/packages/87/89/479dc97e18549e21354893e4ee4ef36db1d237534982482c3681ee6e7b57/mccabe-0.6.1-py2.py3-none-any.whl\n",
            "Collecting pylint>=2.2.0\n",
            "\u001b[?25l  Downloading https://files.pythonhosted.org/packages/6f/93/c710ecf2dd7098e9e15a0760c3afa31ae0b586beb4184bf4b14341c36848/pylint-2.7.4-py3-none-any.whl (346kB)\n",
            "\u001b[K     |████████████████████████████████| 348kB 48.4MB/s \n",
            "\u001b[?25hCollecting readme-renderer>=24.0\n",
            "  Downloading https://files.pythonhosted.org/packages/39/a5/459adfa22ea237f6e8d0fa95ad29d7369579a5eec26f016ab34bb7f8359c/readme_renderer-29.0-py2.py3-none-any.whl\n",
            "Collecting selenium>=3.141.0\n",
            "\u001b[?25l  Downloading https://files.pythonhosted.org/packages/80/d6/4294f0b4bce4de0abf13e17190289f9d0613b0a44e5dd6a7f5ca98459853/selenium-3.141.0-py2.py3-none-any.whl (904kB)\n",
            "\u001b[K     |████████████████████████████████| 911kB 25.2MB/s \n",
            "\u001b[?25hRequirement already satisfied: urllib3>=1.24.1 in /usr/local/lib/python3.7/dist-packages (from ip2geotools) (1.24.3)\n",
            "Collecting autopep8>=1.4.3\n",
            "\u001b[?25l  Downloading https://files.pythonhosted.org/packages/5e/41/5bfb10d1a480556ff114cce2ba124416b86197ef7bd6e600b021477856d9/autopep8-1.5.6-py2.py3-none-any.whl (44kB)\n",
            "\u001b[K     |████████████████████████████████| 51kB 3.1MB/s \n",
            "\u001b[?25hRequirement already satisfied: chardet>=3.0.4 in /usr/local/lib/python3.7/dist-packages (from ip2geotools) (3.0.4)\n",
            "Requirement already satisfied: bleach>=3.0.2 in /usr/local/lib/python3.7/dist-packages (from ip2geotools) (3.3.0)\n",
            "Requirement already satisfied: docutils>=0.14 in /usr/local/lib/python3.7/dist-packages (from ip2geotools) (0.17)\n",
            "Requirement already satisfied: packaging>=18.0 in /usr/local/lib/python3.7/dist-packages (from ip2geotools) (20.9)\n",
            "Requirement already satisfied: idna>=2.7 in /usr/local/lib/python3.7/dist-packages (from ip2geotools) (2.10)\n",
            "Requirement already satisfied: Pygments>=2.3.0 in /usr/local/lib/python3.7/dist-packages (from ip2geotools) (2.6.1)\n",
            "Collecting isort>=4.3.4\n",
            "\u001b[?25l  Downloading https://files.pythonhosted.org/packages/d9/47/0ec3ec948b7b3a0ba44e62adede4dca8b5985ba6aaee59998bed0916bd17/isort-5.8.0-py3-none-any.whl (103kB)\n",
            "\u001b[K     |████████████████████████████████| 112kB 68.4MB/s \n",
            "\u001b[?25hCollecting astroid>=2.1.0\n",
            "\u001b[?25l  Downloading https://files.pythonhosted.org/packages/03/e3/9f9c3ad230d706dbf2d0314f5cff92f6d3cc7d65226af2854ea59d000c43/astroid-2.5.3-py3-none-any.whl (226kB)\n",
            "\u001b[K     |████████████████████████████████| 235kB 55.5MB/s \n",
            "\u001b[?25hCollecting ratelim>=0.1.6\n",
            "  Downloading https://files.pythonhosted.org/packages/f2/98/7e6d147fd16a10a5f821db6e25f192265d6ecca3d82957a4fdd592cad49c/ratelim-0.1.6-py2.py3-none-any.whl\n",
            "Requirement already satisfied: requests>=2.20.1 in /usr/local/lib/python3.7/dist-packages (from ip2geotools) (2.23.0)\n",
            "Collecting twine>=1.12.1\n",
            "  Downloading https://files.pythonhosted.org/packages/42/ad/713372978a8de58a43c507bf62b9c30c3d7b5cda4e972d563b881620a511/twine-3.4.1-py3-none-any.whl\n",
            "Collecting maxminddb>=1.4.1\n",
            "\u001b[?25l  Downloading https://files.pythonhosted.org/packages/51/90/e1718dc14b9ecc7e1ef627f577d92d644a4acebcb4d97f6a6918e12591ba/maxminddb-2.0.3.tar.gz (286kB)\n",
            "\u001b[K     |████████████████████████████████| 286kB 51.3MB/s \n",
            "\u001b[?25hCollecting pycodestyle>=2.4.0\n",
            "\u001b[?25l  Downloading https://files.pythonhosted.org/packages/de/cc/227251b1471f129bc35e966bb0fceb005969023926d744139642d847b7ae/pycodestyle-2.7.0-py2.py3-none-any.whl (41kB)\n",
            "\u001b[K     |████████████████████████████████| 51kB 3.6MB/s \n",
            "\u001b[?25hCollecting pip-review>=1.0\n",
            "  Downloading https://files.pythonhosted.org/packages/30/ef/f54555f7999efc5b7bd60a2d25692fa713f2f3e12276ed8aa814c3b96e95/pip_review-1.1.0-py3-none-any.whl\n",
            "Requirement already satisfied: Click>=7.0 in /usr/local/lib/python3.7/dist-packages (from ip2geotools) (7.1.2)\n",
            "Collecting geoip2>=2.9.0\n",
            "  Downloading https://files.pythonhosted.org/packages/15/85/c170af85a6a096fbe7a8ee3f6abcea7497113a70798398267d3cad8fabf1/geoip2-4.1.0-py2.py3-none-any.whl\n",
            "Requirement already satisfied: lxml>=4.2.5 in /usr/local/lib/python3.7/dist-packages (from ip2geotools) (4.2.6)\n",
            "Collecting IP2Location>=8.0.3\n",
            "  Downloading https://files.pythonhosted.org/packages/87/00/4da6e42e05b3f219c0cf8efd995d88881a109b030dc70dfd45a0383e27fe/IP2Location-8.5.1-py3-none-any.whl\n",
            "Requirement already satisfied: toml>=0.7.1 in /usr/local/lib/python3.7/dist-packages (from pylint>=2.2.0->ip2geotools) (0.10.2)\n",
            "Collecting colorama>=0.4.3\n",
            "  Downloading https://files.pythonhosted.org/packages/44/98/5b86278fbbf250d239ae0ecb724f8572af1c91f4a11edf4d36a206189440/colorama-0.4.4-py2.py3-none-any.whl\n",
            "Collecting keyring>=15.1\n",
            "  Downloading https://files.pythonhosted.org/packages/26/f9/41230ac47f738f1ba66676dc8d3b30ca5b1f9eb0230fc204bcd9836c4ae9/keyring-23.0.1-py3-none-any.whl\n",
            "Collecting rfc3986>=1.4.0\n",
            "  Downloading https://files.pythonhosted.org/packages/78/be/7b8b99fd74ff5684225f50dd0e865393d2265656ef3b4ba9eaaaffe622b8/rfc3986-1.4.0-py2.py3-none-any.whl\n",
            "Requirement already satisfied: importlib-metadata>=3.6 in /usr/local/lib/python3.7/dist-packages (from twine>=1.12.1->ip2geotools) (3.10.0)\n",
            "Requirement already satisfied: pip in /usr/local/lib/python3.7/dist-packages (from pip-review>=1.0->ip2geotools) (19.3.1)\n",
            "Collecting aiohttp<4.0.0,>=3.6.2\n",
            "\u001b[?25l  Downloading https://files.pythonhosted.org/packages/88/c0/5890b4c8b04a79b7360e8fe4490feb0bb3ab179743f199f0e6220cebd568/aiohttp-3.7.4.post0-cp37-cp37m-manylinux2014_x86_64.whl (1.3MB)\n",
            "\u001b[K     |████████████████████████████████| 1.3MB 52.2MB/s \n",
            "\u001b[?25hCollecting jeepney>=0.4.2; sys_platform == \"linux\"\n",
            "\u001b[?25l  Downloading https://files.pythonhosted.org/packages/51/b0/a6ea72741aaac3f37fb96d195e4ee576a103c4c04e279bc6b446a70960e1/jeepney-0.6.0-py3-none-any.whl (45kB)\n",
            "\u001b[K     |████████████████████████████████| 51kB 3.7MB/s \n",
            "\u001b[?25hCollecting SecretStorage>=3.2; sys_platform == \"linux\"\n",
            "  Downloading https://files.pythonhosted.org/packages/d9/1e/29cd69fdac7391aa51510dfd42aa70b4e6a826c8cd019ee2a8ab9ec0777f/SecretStorage-3.3.1-py3-none-any.whl\n",
            "Requirement already satisfied: zipp>=0.5 in /usr/local/lib/python3.7/dist-packages (from importlib-metadata>=3.6->twine>=1.12.1->ip2geotools) (3.4.1)\n",
            "Requirement already satisfied: typing-extensions>=3.6.4; python_version < \"3.8\" in /usr/local/lib/python3.7/dist-packages (from importlib-metadata>=3.6->twine>=1.12.1->ip2geotools) (3.7.4.3)\n",
            "Collecting async-timeout<4.0,>=3.0\n",
            "  Downloading https://files.pythonhosted.org/packages/e1/1e/5a4441be21b0726c4464f3f23c8b19628372f606755a9d2e46c187e65ec4/async_timeout-3.0.1-py3-none-any.whl\n",
            "Collecting yarl<2.0,>=1.0\n",
            "\u001b[?25l  Downloading https://files.pythonhosted.org/packages/f1/62/046834c5fc998c88ab2ef722f5d42122230a632212c8afa76418324f53ff/yarl-1.6.3-cp37-cp37m-manylinux2014_x86_64.whl (294kB)\n",
            "\u001b[K     |████████████████████████████████| 296kB 50.7MB/s \n",
            "\u001b[?25hRequirement already satisfied: attrs>=17.3.0 in /usr/local/lib/python3.7/dist-packages (from aiohttp<4.0.0,>=3.6.2->geoip2>=2.9.0->ip2geotools) (20.3.0)\n",
            "Collecting multidict<7.0,>=4.5\n",
            "\u001b[?25l  Downloading https://files.pythonhosted.org/packages/7c/a6/4123b8165acbe773d1a8dc8e3f0d1edea16d29f7de018eda769abb56bd30/multidict-5.1.0-cp37-cp37m-manylinux2014_x86_64.whl (142kB)\n",
            "\u001b[K     |████████████████████████████████| 143kB 45.8MB/s \n",
            "\u001b[?25hCollecting cryptography>=2.0\n",
            "\u001b[?25l  Downloading https://files.pythonhosted.org/packages/b2/26/7af637e6a7e87258b963f1731c5982fb31cd507f0d90d91836e446955d02/cryptography-3.4.7-cp36-abi3-manylinux2014_x86_64.whl (3.2MB)\n",
            "\u001b[K     |████████████████████████████████| 3.2MB 31.6MB/s \n",
            "\u001b[?25hRequirement already satisfied: cffi>=1.12 in /usr/local/lib/python3.7/dist-packages (from cryptography>=2.0->SecretStorage>=3.2; sys_platform == \"linux\"->keyring>=15.1->twine>=1.12.1->ip2geotools) (1.14.5)\n",
            "Requirement already satisfied: pycparser in /usr/local/lib/python3.7/dist-packages (from cffi>=1.12->cryptography>=2.0->SecretStorage>=3.2; sys_platform == \"linux\"->keyring>=15.1->twine>=1.12.1->ip2geotools) (2.20)\n",
            "Building wheels for collected packages: dicttoxml, future, typing, maxminddb\n",
            "  Building wheel for dicttoxml (setup.py) ... \u001b[?25l\u001b[?25hdone\n",
            "  Created wheel for dicttoxml: filename=dicttoxml-1.7.4-cp37-none-any.whl size=17452 sha256=5019f141edbc94d41f65bc40639c70c3bfc287a2a15755c932afaa7a801ef263\n",
            "  Stored in directory: /root/.cache/pip/wheels/62/4f/a3/afd4a68f5add45a668c14efa53b64d5cffb2be6bacf993c151\n",
            "  Building wheel for future (setup.py) ... \u001b[?25l\u001b[?25hdone\n",
            "  Created wheel for future: filename=future-0.18.2-cp37-none-any.whl size=491058 sha256=4dff7778784aa6598456f217951bb2ec551de43d2938c0f0ef51dd639c0e7006\n",
            "  Stored in directory: /root/.cache/pip/wheels/8b/99/a0/81daf51dcd359a9377b110a8a886b3895921802d2fc1b2397e\n",
            "  Building wheel for typing (setup.py) ... \u001b[?25l\u001b[?25hdone\n",
            "  Created wheel for typing: filename=typing-3.7.4.3-cp37-none-any.whl size=26308 sha256=eb35fb1f03e6a62ad7bd0a09f034a762254a581b6fac17f3070496fcadd65c07\n",
            "  Stored in directory: /root/.cache/pip/wheels/2d/04/41/8e1836e79581989c22eebac3f4e70aaac9af07b0908da173be\n",
            "  Building wheel for maxminddb (setup.py) ... \u001b[?25l\u001b[?25hdone\n",
            "  Created wheel for maxminddb: filename=maxminddb-2.0.3-py2.py3-none-any.whl size=15284 sha256=8072f6dbd1e756bc896fe87b3b721a0f682c1dd4888c85316102fcc996c0d4e8\n",
            "  Stored in directory: /root/.cache/pip/wheels/55/0e/56/d16e8c8c19aced8bbd51b3e40f84208f023f9a90328c6b450f\n",
            "Successfully built dicttoxml future typing maxminddb\n",
            "\u001b[31mERROR: geoip2 4.1.0 has requirement requests<3.0.0,>=2.24.0, but you'll have requests 2.23.0 which is incompatible.\u001b[0m\n",
            "\u001b[31mERROR: geoip2 4.1.0 has requirement urllib3<2.0.0,>=1.25.2, but you'll have urllib3 1.24.3 which is incompatible.\u001b[0m\n",
            "Installing collected packages: pkginfo, typed-ast, ratelim, future, geocoder, dicttoxml, cssselect, pyquery, requests-toolbelt, lazy-object-proxy, typing, mccabe, astroid, isort, pylint, readme-renderer, selenium, pycodestyle, autopep8, colorama, jeepney, cryptography, SecretStorage, keyring, rfc3986, twine, maxminddb, pip-review, async-timeout, multidict, yarl, aiohttp, geoip2, IP2Location, ip2geotools\n",
            "  Found existing installation: future 0.16.0\n",
            "    Uninstalling future-0.16.0:\n",
            "      Successfully uninstalled future-0.16.0\n",
            "Successfully installed IP2Location-8.5.1 SecretStorage-3.3.1 aiohttp-3.7.4.post0 astroid-2.5.3 async-timeout-3.0.1 autopep8-1.5.6 colorama-0.4.4 cryptography-3.4.7 cssselect-1.1.0 dicttoxml-1.7.4 future-0.18.2 geocoder-1.38.1 geoip2-4.1.0 ip2geotools-0.1.5 isort-5.8.0 jeepney-0.6.0 keyring-23.0.1 lazy-object-proxy-1.6.0 maxminddb-2.0.3 mccabe-0.6.1 multidict-5.1.0 pip-review-1.1.0 pkginfo-1.7.0 pycodestyle-2.7.0 pylint-2.7.4 pyquery-1.4.3 ratelim-0.1.6 readme-renderer-29.0 requests-toolbelt-0.9.1 rfc3986-1.4.0 selenium-3.141.0 twine-3.4.1 typed-ast-1.4.3 typing-3.7.4.3 yarl-1.6.3\n"
          ],
          "name": "stdout"
        },
        {
          "output_type": "display_data",
          "data": {
            "application/vnd.colab-display-data+json": {
              "pip_warning": {
                "packages": [
                  "typing"
                ]
              }
            }
          },
          "metadata": {
            "tags": []
          }
        }
      ]
    },
    {
      "cell_type": "code",
      "metadata": {
        "colab": {
          "base_uri": "https://localhost:8080/",
          "height": 823
        },
        "id": "UVGWRAmU27EQ",
        "outputId": "1228b3e2-83bc-4dd8-a375-c3d73927b58c"
      },
      "source": [
        "from ip2geotools.databases.noncommercial import DbIpCity\n",
        "\n",
        "#Task 2.3 A:\n",
        "#========================================\n",
        "print('Task 2.3 A: Geographical Analysis: Requests by country ')\n",
        "print('-'*60)\n",
        "print('Condition: Only requests at 01 Jan 2007 from 20:00:00 pm to 20:59:59\\n')\n",
        "\n",
        "#Find the countries of requests on 2007-01-01 between 20:00:00-20:59:59\n",
        "target_df = pd.DataFrame()\n",
        "target_df = df.loc['2007-01-01 20:00:00':'2007-01-01 20:59:59'].copy()\n",
        "\n",
        "#Get the country from ip addresses\n",
        "target_df['country'] = target_df.apply(lambda row: DbIpCity.get(row['c-ip'], api_key='free').country, axis=1)\n",
        "\n",
        "#Group the countries and their frequencies\n",
        "countries = target_df.groupby(['country']).size()\n",
        "\n",
        "#How many countries involved?\n",
        "print('There are : {} counties invloved, with total requests {}:'.format(countries.count(),countries.sum()))\n",
        "print('Their names and request frequencies:')\n",
        "print(countries)\n",
        "\n",
        "\n",
        "#Plot the pie chart\n",
        "percent = 100.*countries/countries.sum()\n",
        "labels = ['{0} - {1:1.2f} %'.format(i,j) for i,j in zip(countries.index, percent)]\n",
        "print('Plot the countries of requests and their frequencies\\n')\n",
        "plt.title('Number of Requests by Countries')\n",
        "plt.pie(countries,labels=countries.index,startangle=90,radius=2)\n",
        "plt.legend(title = 'Countries',labels=labels,loc='center')\n",
        "plt.show()\n",
        "\n",
        "#Top 3 countries\n",
        "print('\\nThe top 3 countries are: ')\n",
        "print(countries.sort_values(ascending=False)[0:3])\n"
      ],
      "execution_count": null,
      "outputs": [
        {
          "output_type": "stream",
          "text": [
            "Task 2.3 A: Geographical Analysis: Requests by country \n",
            "------------------------------------------------------------\n",
            "Condition: Only requests at 01 Jan 2007 from 20:00:00 pm to 20:59:59\n",
            "\n",
            "There are : 5 counties invloved, with total requests 214:\n",
            "Their names and request frequencies:\n",
            "country\n",
            "AU      1\n",
            "CN     25\n",
            "HK    169\n",
            "IT      3\n",
            "US     16\n",
            "dtype: int64\n",
            "Plot the countries of requests and their frequencies\n",
            "\n"
          ],
          "name": "stdout"
        },
        {
          "output_type": "display_data",
          "data": {
            "image/png": "[encoded data removed]",
            "text/plain": [
              "<Figure size 432x288 with 1 Axes>"
            ]
          },
          "metadata": {
            "tags": []
          }
        },
        {
          "output_type": "stream",
          "text": [
            "\n",
            "The top 3 countries are: \n",
            "country\n",
            "HK    169\n",
            "CN     25\n",
            "US     16\n",
            "dtype: int64\n"
          ],
          "name": "stdout"
        }
      ]
    },
    {
      "cell_type": "markdown",
      "metadata": {
        "id": "Qhf-g91_umxF"
      },
      "source": [
        "#### 2.3.B Requests by City\n",
        "<div class=\"alert alert-block alert-warning\">\n",
        "\n",
        "**Code**: \n",
        "    Using the selected requests from 2.3.A and build your code with the following requirements <br>\n",
        "    1. Discover on the demographics by analysing requests from city level. <br>\n",
        "    2. Plot cities of all requests in pie chart. <br>\n",
        "    3. List top 3 with the numbers of requests. <br>\n",
        "    *Keep the outputs for code in your notebook.\n",
        "</div> \n",
        "\n",
        "<div class=\"alert alert-block alert-warning\">\n",
        "    \n",
        "**Report**: \n",
        "    **Part I 2.3.B** Please include your results for this coding task into your report Part I section '2.3.B', <br>\n",
        "    1. How many cites are invlolved? <br>\n",
        "    2. Figure 'Request by City' in pie chart. <br>\n",
        "    3. Top 3 cities with request numbers. <br>\n",
        "</div>"
      ]
    },
    {
      "cell_type": "code",
      "metadata": {
        "colab": {
          "base_uri": "https://localhost:8080/",
          "height": 927
        },
        "id": "g7p39EpEBqaj",
        "outputId": "2a98fc73-e9d5-4264-9db3-f03a6979f99a"
      },
      "source": [
        "#Task 2.3 B:\n",
        "#========================================\n",
        "print('Task 2.3 B: Geographical Analysis: Requests by city ')\n",
        "print('-'*60)\n",
        "print('Condition: Only requests at 01 Jan 2007 from 20:00:00 pm to 20:59:59\\n')\n",
        "\n",
        "#Get the country from ip addresses\n",
        "target_df['city'] = target_df.apply(lambda row: DbIpCity.get(row['c-ip'], api_key='free').city, axis=1)\n",
        "\n",
        "#Group the cities and their frequencies\n",
        "cities = target_df.groupby('city').size()\n",
        "\n",
        "#How many countries involved?\n",
        "print('There are : {} cities invloved, with total requests {}:'.format(cities.count(),cities.sum()))\n",
        "print('Their names and request frequencies:')\n",
        "print(cities)\n",
        "\n",
        "#Plot the pie chart\n",
        "percent = 100.*cities/cities.sum()\n",
        "labels = ['{0} - {1:1.2f} %'.format(i,j) for i,j in zip(cities.index, percent)]\n",
        "print('Plot all cities of requests and their frequencies\\n')\n",
        "plt.title('Number of Requests by Cities')\n",
        "plt.pie(cities,labels=cities.index,startangle=90,radius=2)\n",
        "plt.legend(title = 'City', labels = labels,loc='center')\n",
        "plt.show()\n",
        "\n",
        "#Top 3 countries\n",
        "print('\\nThe top 3 countries are: ')\n",
        "print(cities.sort_values(ascending=False)[0:3])\n"
      ],
      "execution_count": null,
      "outputs": [
        {
          "output_type": "stream",
          "text": [
            "Task 2.3 B: Geographical Analysis: Requests by city \n",
            "------------------------------------------------------------\n",
            "Condition: Only requests at 01 Jan 2007 from 20:00:00 pm to 20:59:59\n",
            "\n",
            "There are : 11 cities invloved, with total requests 214:\n",
            "Their names and request frequencies:\n",
            "city\n",
            "Beijing                                15\n",
            "Ha Kwai Chung                         166\n",
            "Hangzhou                                1\n",
            "Hong Kong                               2\n",
            "Jinrongjie (Xicheng District)           9\n",
            "Mountain View                           1\n",
            "New York                               14\n",
            "Quarry Bay                              1\n",
            "San Francisco (Financial District)      1\n",
            "Sydney                                  1\n",
            "Valcanneto                              3\n",
            "dtype: int64\n",
            "Plot all cities of requests and their frequencies\n",
            "\n"
          ],
          "name": "stdout"
        },
        {
          "output_type": "display_data",
          "data": {
            "image/png": "[encoded data removed]",
            "text/plain": [
              "<Figure size 432x288 with 1 Axes>"
            ]
          },
          "metadata": {
            "tags": []
          }
        },
        {
          "output_type": "stream",
          "text": [
            "\n",
            "The top 3 countries are: \n",
            "city\n",
            "Ha Kwai Chung    166\n",
            "Beijing           15\n",
            "New York          14\n",
            "dtype: int64\n"
          ],
          "name": "stdout"
        }
      ]
    },
    {
      "cell_type": "markdown",
      "metadata": {
        "id": "UOLvHKdZtcto"
      },
      "source": [
        "# Part II - Web Crawling\n",
        "\n",
        "## Overview\n",
        "To better introduce all the professors including the emeritus professor, the professor and also associate professor in Deakin University School of IT, faculty will need to know all the citation information on all professors. Google Scholar is a web search engine that freely indexes the metadata of articles on many authors. Majority of the professors choose to use google scholar to track their publications and research works. Therefore,  the web crawling on google scholar will be able to have the citation information obtained across all the professors (who have the google scholar profile).\n"
      ]
    },
    {
      "cell_type": "markdown",
      "metadata": {
        "id": "gqbiN3nAw0tS"
      },
      "source": [
        "## 3. Professor List Generation"
      ]
    },
    {
      "cell_type": "markdown",
      "metadata": {
        "id": "Bm7eq9Iywjc-"
      },
      "source": [
        "### 3.1 Import and install web crawling library. \n",
        "\n",
        "<div class=\"alert alert-block alert-warning\">\n",
        "\n",
        "**Code**: \n",
        "    Import and install your web crawling library here. \n",
        "</div> \n",
        "\n",
        "<div class=\"alert alert-block alert-warning\">\n",
        "    \n",
        "**Report**: \n",
        "    **Part II 3.1** Please include your result for this coding task into your report Part II, with proper section title '3.1'.\n",
        "</div>\n",
        "\n",
        "*hint: you could use selenium by doing the pip install selenium, download the webdriver for chromedriver and define your webdriver for crawling. But you are free to use any other library*\n",
        "\n"
      ]
    },
    {
      "cell_type": "code",
      "metadata": {
        "id": "rHKPhKwUwtyI",
        "colab": {
          "base_uri": "https://localhost:8080/"
        },
        "outputId": "c88ee4df-1845-4032-d651-3985eac9bf7a"
      },
      "source": [
        "# write your import and necessary web crawling libary here\n",
        "print('Task 3.1: Import and install web crawling library')\n",
        "!apt-get update\n",
        "!apt install chromium-chromedriver\n",
        "!cp /usr/lib/chromium-browser/chromedriver /usr/bin\n",
        "!pip install selenium"
      ],
      "execution_count": null,
      "outputs": [
        {
          "output_type": "stream",
          "text": [
            "Task 3.1: Import and install web crawling library\n",
            "Get:1 http://ppa.launchpad.net/c2d4u.team/c2d4u4.0+/ubuntu bionic InRelease [15.9 kB]\n",
            "Hit:2 http://archive.ubuntu.com/ubuntu bionic InRelease\n",
            "Get:3 http://archive.ubuntu.com/ubuntu bionic-updates InRelease [88.7 kB]\n",
            "Get:4 https://cloud.r-project.org/bin/linux/ubuntu bionic-cran40/ InRelease [3,626 B]\n",
            "Hit:5 http://ppa.launchpad.net/cran/libgit2/ubuntu bionic InRelease\n",
            "Get:6 http://archive.ubuntu.com/ubuntu bionic-backports InRelease [74.6 kB]\n",
            "Get:7 http://ppa.launchpad.net/deadsnakes/ppa/ubuntu bionic InRelease [15.9 kB]\n",
            "Hit:8 http://ppa.launchpad.net/graphics-drivers/ppa/ubuntu bionic InRelease\n",
            "Get:9 http://security.ubuntu.com/ubuntu bionic-security InRelease [88.7 kB]\n",
            "Ign:10 https://developer.download.nvidia.com/compute/cuda/repos/ubuntu1804/x86_64  InRelease\n",
            "Ign:11 https://developer.download.nvidia.com/compute/machine-learning/repos/ubuntu1804/x86_64  InRelease\n",
            "Get:12 https://developer.download.nvidia.com/compute/cuda/repos/ubuntu1804/x86_64  Release [697 B]\n",
            "Hit:13 https://developer.download.nvidia.com/compute/machine-learning/repos/ubuntu1804/x86_64  Release\n",
            "Get:14 https://developer.download.nvidia.com/compute/cuda/repos/ubuntu1804/x86_64  Release.gpg [836 B]\n",
            "Get:15 http://archive.ubuntu.com/ubuntu bionic-updates/multiverse amd64 Packages [31.4 kB]\n",
            "Get:16 http://archive.ubuntu.com/ubuntu bionic-updates/restricted amd64 Packages [425 kB]\n",
            "Get:17 http://archive.ubuntu.com/ubuntu bionic-updates/main amd64 Packages [2,543 kB]\n",
            "Get:18 http://archive.ubuntu.com/ubuntu bionic-updates/universe amd64 Packages [2,179 kB]\n",
            "Get:19 http://ppa.launchpad.net/c2d4u.team/c2d4u4.0+/ubuntu bionic/main Sources [1,751 kB]\n",
            "Get:20 http://ppa.launchpad.net/c2d4u.team/c2d4u4.0+/ubuntu bionic/main amd64 Packages [896 kB]\n",
            "Get:21 http://ppa.launchpad.net/deadsnakes/ppa/ubuntu bionic/main amd64 Packages [39.5 kB]\n",
            "Get:23 http://security.ubuntu.com/ubuntu bionic-security/main amd64 Packages [2,112 kB]\n",
            "Ign:24 https://developer.download.nvidia.com/compute/cuda/repos/ubuntu1804/x86_64  Packages\n",
            "Get:24 https://developer.download.nvidia.com/compute/cuda/repos/ubuntu1804/x86_64  Packages [696 kB]\n",
            "Get:25 http://security.ubuntu.com/ubuntu bionic-security/multiverse amd64 Packages [24.5 kB]\n",
            "Get:26 http://security.ubuntu.com/ubuntu bionic-security/restricted amd64 Packages [395 kB]\n",
            "Get:27 http://security.ubuntu.com/ubuntu bionic-security/universe amd64 Packages [1,408 kB]\n",
            "Fetched 12.8 MB in 4s (3,554 kB/s)\n",
            "Reading package lists... Done\n",
            "Reading package lists... Done\n",
            "Building dependency tree       \n",
            "Reading state information... Done\n",
            "The following additional packages will be installed:\n",
            "  chromium-browser chromium-browser-l10n chromium-codecs-ffmpeg-extra\n",
            "Suggested packages:\n",
            "  webaccounts-chromium-extension unity-chromium-extension\n",
            "The following NEW packages will be installed:\n",
            "  chromium-browser chromium-browser-l10n chromium-chromedriver\n",
            "  chromium-codecs-ffmpeg-extra\n",
            "0 upgraded, 4 newly installed, 0 to remove and 50 not upgraded.\n",
            "Need to get 83.2 MB of archives.\n",
            "After this operation, 282 MB of additional disk space will be used.\n",
            "Get:1 http://archive.ubuntu.com/ubuntu bionic-updates/universe amd64 chromium-codecs-ffmpeg-extra amd64 89.0.4389.90-0ubuntu0.18.04.2 [1,127 kB]\n",
            "Get:2 http://archive.ubuntu.com/ubuntu bionic-updates/universe amd64 chromium-browser amd64 89.0.4389.90-0ubuntu0.18.04.2 [73.6 MB]\n",
            "Get:3 http://archive.ubuntu.com/ubuntu bionic-updates/universe amd64 chromium-browser-l10n all 89.0.4389.90-0ubuntu0.18.04.2 [3,809 kB]\n",
            "Get:4 http://archive.ubuntu.com/ubuntu bionic-updates/universe amd64 chromium-chromedriver amd64 89.0.4389.90-0ubuntu0.18.04.2 [4,697 kB]\n",
            "Fetched 83.2 MB in 2s (49.6 MB/s)\n",
            "Selecting previously unselected package chromium-codecs-ffmpeg-extra.\n",
            "(Reading database ... 160983 files and directories currently installed.)\n",
            "Preparing to unpack .../chromium-codecs-ffmpeg-extra_89.0.4389.90-0ubuntu0.18.04.2_amd64.deb ...\n",
            "Unpacking chromium-codecs-ffmpeg-extra (89.0.4389.90-0ubuntu0.18.04.2) ...\n",
            "Selecting previously unselected package chromium-browser.\n",
            "Preparing to unpack .../chromium-browser_89.0.4389.90-0ubuntu0.18.04.2_amd64.deb ...\n",
            "Unpacking chromium-browser (89.0.4389.90-0ubuntu0.18.04.2) ...\n",
            "Selecting previously unselected package chromium-browser-l10n.\n",
            "Preparing to unpack .../chromium-browser-l10n_89.0.4389.90-0ubuntu0.18.04.2_all.deb ...\n",
            "Unpacking chromium-browser-l10n (89.0.4389.90-0ubuntu0.18.04.2) ...\n",
            "Selecting previously unselected package chromium-chromedriver.\n",
            "Preparing to unpack .../chromium-chromedriver_89.0.4389.90-0ubuntu0.18.04.2_amd64.deb ...\n",
            "Unpacking chromium-chromedriver (89.0.4389.90-0ubuntu0.18.04.2) ...\n",
            "Setting up chromium-codecs-ffmpeg-extra (89.0.4389.90-0ubuntu0.18.04.2) ...\n",
            "Setting up chromium-browser (89.0.4389.90-0ubuntu0.18.04.2) ...\n",
            "update-alternatives: using /usr/bin/chromium-browser to provide /usr/bin/x-www-browser (x-www-browser) in auto mode\n",
            "update-alternatives: using /usr/bin/chromium-browser to provide /usr/bin/gnome-www-browser (gnome-www-browser) in auto mode\n",
            "Setting up chromium-chromedriver (89.0.4389.90-0ubuntu0.18.04.2) ...\n",
            "Setting up chromium-browser-l10n (89.0.4389.90-0ubuntu0.18.04.2) ...\n",
            "Processing triggers for man-db (2.8.3-2ubuntu0.1) ...\n",
            "Processing triggers for hicolor-icon-theme (0.17-2) ...\n",
            "Processing triggers for mime-support (3.60ubuntu1) ...\n",
            "Processing triggers for libc-bin (2.27-3ubuntu1.2) ...\n",
            "/sbin/ldconfig.real: /usr/local/lib/python3.7/dist-packages/ideep4py/lib/libmkldnn.so.0 is not a symbolic link\n",
            "\n",
            "cp: '/usr/lib/chromium-browser/chromedriver' and '/usr/bin/chromedriver' are the same file\n",
            "Requirement already satisfied: selenium in /usr/local/lib/python3.7/dist-packages (3.141.0)\n",
            "Requirement already satisfied: urllib3 in /usr/local/lib/python3.7/dist-packages (from selenium) (1.24.3)\n"
          ],
          "name": "stdout"
        }
      ]
    },
    {
      "cell_type": "markdown",
      "metadata": {
        "id": "ZX4OQIsfwwk_"
      },
      "source": [
        "### 3.2 Find all professors in School of IT and save it as csv. \n",
        "\n",
        "<div class=\"alert alert-block alert-warning\">\n",
        "\n",
        "**Code**: \n",
        "    Find all professors in Schoolf of IT and save it as csv. The csv must have the full name of the professor (in one column), the title of the professor and University Name.\n",
        "</div> \n",
        "\n",
        "<div class=\"alert alert-block alert-warning\">\n",
        "    \n",
        "**Report**: \n",
        "    **Part II 3.2** Please include your result for this coding task into your report Part II, with proper section title '3.2'.\n",
        "</div>\n",
        "\n",
        "\n",
        "\n",
        "*hint: the url of the staff list for school of IT is https://www.deakin.edu.au/information-technology/staff-listing. you may need to iteratively find out html tag by table in the page to start crawl all the text from td (td is the elements in html table, check https://www.w3schools.com/html/html_tables.asp)*"
      ]
    },
    {
      "cell_type": "code",
      "metadata": {
        "id": "vII6Na-1xEAh"
      },
      "source": [
        "# here we first define the parsing method, you will need to use this parsing method to format the professor full name and title from the staff page.\n",
        "# the name of the professor from staff page will be split by space and last two words are full name \n",
        "\n",
        "from selenium import webdriver\n",
        "from selenium.webdriver.common.by import By\n",
        "from selenium.webdriver.support.ui import WebDriverWait\n",
        "from selenium.webdriver.support import expected_conditions as EC\n",
        "\n",
        "#split string function\n",
        "def parse_name(stringtext):\n",
        "  return \" \".join(stringtext.split(\" \")[-2:]),\" \".join(stringtext.split(\" \")[:-2])\n",
        "\n",
        "# Establish chrome driver and go to report site URL\n",
        "# set options to be headless, ..\n",
        "options = webdriver.ChromeOptions()\n",
        "options.add_argument('--headless')\n",
        "options.add_argument('--no-sandbox')\n",
        "options.add_argument('--disable-dev-shm-usage')\n",
        "\n",
        "# open it, go to a website, and get results\n",
        "url = 'https://www.deakin.edu.au/information-technology/staff-listing'\n",
        "driver = webdriver.Chrome('chromedriver',options=options)\n",
        "driver.get(url)\n",
        "\n",
        "#get the table id that contain the staff info\n",
        "table = driver.find_elements_by_id('table09355')\n",
        "\n",
        "#Each staff name is wrapped within an anchor inside the above tables\n",
        "#So we can target the anchor\n",
        "anchor = list()\n",
        "for i in table:\n",
        "  anchor.append(i.find_elements_by_tag_name('a'))\n",
        "\n",
        "#collect all staffs from the <tables><anchors> and put into a professor_list\n",
        "professor_list = list()\n",
        "for i in anchor:\n",
        "  for j in i:\n",
        "    professor_list.append(j.get_attribute('innerHTML'))\n",
        "\n",
        "#Remove names that have no relation with professor title\n",
        "professor_list = [i for i in professor_list if \"Professor\" in i]\n"
      ],
      "execution_count": null,
      "outputs": []
    },
    {
      "cell_type": "code",
      "metadata": {
        "id": "RmLHQyKbxIEL",
        "colab": {
          "base_uri": "https://localhost:8080/",
          "height": 1000
        },
        "outputId": "4f143469-68ee-43a0-9e95-343202f3daab"
      },
      "source": [
        "import pandas as pd\n",
        "# the crawling information will be stored in pandas dataframe and then save as csv\n",
        "# below you are required to use the parse_name method to crawl the professor's full name and title\n",
        "# The column name must be same as the provided professor-list.csv\n",
        "print('Task 3.2: Find all professors in School of IT and save it as csv.')\n",
        "print('-'*60)\n",
        "\n",
        "#Add all professors into dataframe [professors]\n",
        "professors = pd.DataFrame(columns=['Name', 'Title', 'University'])\n",
        "for i in professor_list:\n",
        "  new_row = {'University':'Deakin University','Title':parse_name(i)[1],'Name':parse_name(i)[0]}\n",
        "  professors = professors.append(new_row,ignore_index=True)\n",
        "\n",
        "#Write the dataframe into file\n",
        "professors.to_csv('Professor-name-list.csv',index=False)\n",
        "print('Professor-name-list has been created ...')\n",
        "print('The content of the list: ')\n",
        "professors\n"
      ],
      "execution_count": null,
      "outputs": [
        {
          "output_type": "stream",
          "text": [
            "Task 3.2: Find all professors in School of IT and save it as csv.\n",
            "------------------------------------------------------------\n",
            "Professor-name-list has been created ...\n",
            "The content of the list: \n"
          ],
          "name": "stdout"
        },
        {
          "output_type": "execute_result",
          "data": {
            "text/html": [
              "<div>\n",
              "<style scoped>\n",
              "    .dataframe tbody tr th:only-of-type {\n",
              "        vertical-align: middle;\n",
              "    }\n",
              "\n",
              "    .dataframe tbody tr th {\n",
              "        vertical-align: top;\n",
              "    }\n",
              "\n",
              "    .dataframe thead th {\n",
              "        text-align: right;\n",
              "    }\n",
              "</style>\n",
              "<table border=\"1\" class=\"dataframe\">\n",
              "  <thead>\n",
              "    <tr style=\"text-align: right;\">\n",
              "      <th></th>\n",
              "      <th>Name</th>\n",
              "      <th>Title</th>\n",
              "      <th>University</th>\n",
              "    </tr>\n",
              "  </thead>\n",
              "  <tbody>\n",
              "    <tr>\n",
              "      <th>0</th>\n",
              "      <td>Lynn Batten</td>\n",
              "      <td>Emeritus Professor</td>\n",
              "      <td>Deakin University</td>\n",
              "    </tr>\n",
              "    <tr>\n",
              "      <th>1</th>\n",
              "      <td>Andrzej Goscinski</td>\n",
              "      <td>Emeritus Professor</td>\n",
              "      <td>Deakin University</td>\n",
              "    </tr>\n",
              "    <tr>\n",
              "      <th>2</th>\n",
              "      <td>Jemal Abawajy</td>\n",
              "      <td>Professor</td>\n",
              "      <td>Deakin University</td>\n",
              "    </tr>\n",
              "    <tr>\n",
              "      <th>3</th>\n",
              "      <td>Maia Angelova</td>\n",
              "      <td>Professor</td>\n",
              "      <td>Deakin University</td>\n",
              "    </tr>\n",
              "    <tr>\n",
              "      <th>4</th>\n",
              "      <td>Gleb Beliakov</td>\n",
              "      <td>Professor</td>\n",
              "      <td>Deakin University</td>\n",
              "    </tr>\n",
              "    <tr>\n",
              "      <th>5</th>\n",
              "      <td>Terry Caelli</td>\n",
              "      <td>Professor</td>\n",
              "      <td>Deakin University</td>\n",
              "    </tr>\n",
              "    <tr>\n",
              "      <th>6</th>\n",
              "      <td>Jinho Choi</td>\n",
              "      <td>Professor</td>\n",
              "      <td>Deakin University</td>\n",
              "    </tr>\n",
              "    <tr>\n",
              "      <th>7</th>\n",
              "      <td>Chang-Tsun Li</td>\n",
              "      <td>Professor</td>\n",
              "      <td>Deakin University</td>\n",
              "    </tr>\n",
              "    <tr>\n",
              "      <th>8</th>\n",
              "      <td>Robin Doss</td>\n",
              "      <td>Professor</td>\n",
              "      <td>Deakin University</td>\n",
              "    </tr>\n",
              "    <tr>\n",
              "      <th>9</th>\n",
              "      <td>Peter Eklund</td>\n",
              "      <td>Professor</td>\n",
              "      <td>Deakin University</td>\n",
              "    </tr>\n",
              "    <tr>\n",
              "      <th>10</th>\n",
              "      <td>Seng Loke</td>\n",
              "      <td>Professor</td>\n",
              "      <td>Deakin University</td>\n",
              "    </tr>\n",
              "    <tr>\n",
              "      <th>11</th>\n",
              "      <td>Antonio Robles-Kelly</td>\n",
              "      <td>Professor</td>\n",
              "      <td>Deakin University</td>\n",
              "    </tr>\n",
              "    <tr>\n",
              "      <th>12</th>\n",
              "      <td>Jean-Guy Schneider</td>\n",
              "      <td>Professor</td>\n",
              "      <td>Deakin University</td>\n",
              "    </tr>\n",
              "    <tr>\n",
              "      <th>13</th>\n",
              "      <td>Yong Xiang</td>\n",
              "      <td>Professor</td>\n",
              "      <td>Deakin University</td>\n",
              "    </tr>\n",
              "    <tr>\n",
              "      <th>14</th>\n",
              "      <td>John Yearwood</td>\n",
              "      <td>Professor</td>\n",
              "      <td>Deakin University</td>\n",
              "    </tr>\n",
              "    <tr>\n",
              "      <th>15</th>\n",
              "      <td>Arkady Zaslavsky</td>\n",
              "      <td>Professor</td>\n",
              "      <td>Deakin University</td>\n",
              "    </tr>\n",
              "    <tr>\n",
              "      <th>16</th>\n",
              "      <td>Mohamed Abdelrazek</td>\n",
              "      <td>Associate Professor</td>\n",
              "      <td>Deakin University</td>\n",
              "    </tr>\n",
              "    <tr>\n",
              "      <th>17</th>\n",
              "      <td>Andrew Cain</td>\n",
              "      <td>Associate Professor</td>\n",
              "      <td>Deakin University</td>\n",
              "    </tr>\n",
              "    <tr>\n",
              "      <th>18</th>\n",
              "      <td>Richard Dazeley</td>\n",
              "      <td>Associate Professor</td>\n",
              "      <td>Deakin University</td>\n",
              "    </tr>\n",
              "    <tr>\n",
              "      <th>19</th>\n",
              "      <td>Guangyan Huang</td>\n",
              "      <td>Associate Professor</td>\n",
              "      <td>Deakin University</td>\n",
              "    </tr>\n",
              "    <tr>\n",
              "      <th>20</th>\n",
              "      <td>Gang Li</td>\n",
              "      <td>Associate Professor</td>\n",
              "      <td>Deakin University</td>\n",
              "    </tr>\n",
              "    <tr>\n",
              "      <th>21</th>\n",
              "      <td>Jianxin Li</td>\n",
              "      <td>Associate Professor</td>\n",
              "      <td>Deakin University</td>\n",
              "    </tr>\n",
              "    <tr>\n",
              "      <th>22</th>\n",
              "      <td>Xiao Liu</td>\n",
              "      <td>Associate Professor</td>\n",
              "      <td>Deakin University</td>\n",
              "    </tr>\n",
              "    <tr>\n",
              "      <th>23</th>\n",
              "      <td>Vicky Mak</td>\n",
              "      <td>Associate Professor</td>\n",
              "      <td>Deakin University</td>\n",
              "    </tr>\n",
              "    <tr>\n",
              "      <th>24</th>\n",
              "      <td>Tim Wilkin</td>\n",
              "      <td>Associate Professor</td>\n",
              "      <td>Deakin University</td>\n",
              "    </tr>\n",
              "    <tr>\n",
              "      <th>25</th>\n",
              "      <td>Abid Adam</td>\n",
              "      <td>Adjunct Professor</td>\n",
              "      <td>Deakin University</td>\n",
              "    </tr>\n",
              "    <tr>\n",
              "      <th>26</th>\n",
              "      <td>Catherine Buhler</td>\n",
              "      <td>Adjunct Professor</td>\n",
              "      <td>Deakin University</td>\n",
              "    </tr>\n",
              "    <tr>\n",
              "      <th>27</th>\n",
              "      <td>Eshan Dissanayake</td>\n",
              "      <td>Adjunct Professor</td>\n",
              "      <td>Deakin University</td>\n",
              "    </tr>\n",
              "    <tr>\n",
              "      <th>28</th>\n",
              "      <td>Patrick Fair</td>\n",
              "      <td>Adjunct Professor</td>\n",
              "      <td>Deakin University</td>\n",
              "    </tr>\n",
              "    <tr>\n",
              "      <th>29</th>\n",
              "      <td>David Fairman</td>\n",
              "      <td>Adjunct Professor</td>\n",
              "      <td>Deakin University</td>\n",
              "    </tr>\n",
              "    <tr>\n",
              "      <th>30</th>\n",
              "      <td>Mark Fitzgerald</td>\n",
              "      <td>Honorary Professor</td>\n",
              "      <td>Deakin University</td>\n",
              "    </tr>\n",
              "    <tr>\n",
              "      <th>31</th>\n",
              "      <td>Praveen Gauravaram</td>\n",
              "      <td>Adjunct Professor</td>\n",
              "      <td>Deakin University</td>\n",
              "    </tr>\n",
              "    <tr>\n",
              "      <th>32</th>\n",
              "      <td>Nigel Hedges</td>\n",
              "      <td>Adjunct Professor</td>\n",
              "      <td>Deakin University</td>\n",
              "    </tr>\n",
              "    <tr>\n",
              "      <th>33</th>\n",
              "      <td>Darren Kane</td>\n",
              "      <td>Adjunct Professor</td>\n",
              "      <td>Deakin University</td>\n",
              "    </tr>\n",
              "    <tr>\n",
              "      <th>34</th>\n",
              "      <td>Len Kleinman</td>\n",
              "      <td>Adjunct Professor</td>\n",
              "      <td>Deakin University</td>\n",
              "    </tr>\n",
              "    <tr>\n",
              "      <th>35</th>\n",
              "      <td>James Kotsias</td>\n",
              "      <td>Adjunct Professor</td>\n",
              "      <td>Deakin University</td>\n",
              "    </tr>\n",
              "    <tr>\n",
              "      <th>36</th>\n",
              "      <td>Berin Lautenbach</td>\n",
              "      <td>Adjunct Professor</td>\n",
              "      <td>Deakin University</td>\n",
              "    </tr>\n",
              "    <tr>\n",
              "      <th>37</th>\n",
              "      <td>Phillip Magness</td>\n",
              "      <td>Adjunct Professor</td>\n",
              "      <td>Deakin University</td>\n",
              "    </tr>\n",
              "    <tr>\n",
              "      <th>38</th>\n",
              "      <td>Joseph Mathew</td>\n",
              "      <td>Adjunct Associate Professor</td>\n",
              "      <td>Deakin University</td>\n",
              "    </tr>\n",
              "    <tr>\n",
              "      <th>39</th>\n",
              "      <td>William Moran</td>\n",
              "      <td>Honorary Professor</td>\n",
              "      <td>Deakin University</td>\n",
              "    </tr>\n",
              "    <tr>\n",
              "      <th>40</th>\n",
              "      <td>Ana Novak</td>\n",
              "      <td>Honorary Associate Professor</td>\n",
              "      <td>Deakin University</td>\n",
              "    </tr>\n",
              "    <tr>\n",
              "      <th>41</th>\n",
              "      <td>Zahir Quettawala</td>\n",
              "      <td>Adjunct Professor</td>\n",
              "      <td>Deakin University</td>\n",
              "    </tr>\n",
              "    <tr>\n",
              "      <th>42</th>\n",
              "      <td>Anthony Robertshaw</td>\n",
              "      <td>Adjunct Associate Professor</td>\n",
              "      <td>Deakin University</td>\n",
              "    </tr>\n",
              "    <tr>\n",
              "      <th>43</th>\n",
              "      <td>Jamie Rossato</td>\n",
              "      <td>Adjunct Professor</td>\n",
              "      <td>Deakin University</td>\n",
              "    </tr>\n",
              "    <tr>\n",
              "      <th>44</th>\n",
              "      <td>Chadi Saliby</td>\n",
              "      <td>Adjunct Professor</td>\n",
              "      <td>Deakin University</td>\n",
              "    </tr>\n",
              "    <tr>\n",
              "      <th>45</th>\n",
              "      <td>Malcolm Shore</td>\n",
              "      <td>Adjunct Professor</td>\n",
              "      <td>Deakin University</td>\n",
              "    </tr>\n",
              "    <tr>\n",
              "      <th>46</th>\n",
              "      <td>EJ Wise</td>\n",
              "      <td>Adjunct Professor</td>\n",
              "      <td>Deakin University</td>\n",
              "    </tr>\n",
              "    <tr>\n",
              "      <th>47</th>\n",
              "      <td>Abbas Kudrati</td>\n",
              "      <td>Professor</td>\n",
              "      <td>Deakin University</td>\n",
              "    </tr>\n",
              "  </tbody>\n",
              "</table>\n",
              "</div>"
            ],
            "text/plain": [
              "                    Name                         Title         University\n",
              "0            Lynn Batten            Emeritus Professor  Deakin University\n",
              "1      Andrzej Goscinski            Emeritus Professor  Deakin University\n",
              "2          Jemal Abawajy                     Professor  Deakin University\n",
              "3          Maia Angelova                     Professor  Deakin University\n",
              "4          Gleb Beliakov                     Professor  Deakin University\n",
              "5           Terry Caelli                     Professor  Deakin University\n",
              "6             Jinho Choi                     Professor  Deakin University\n",
              "7          Chang-Tsun Li                     Professor  Deakin University\n",
              "8             Robin Doss                     Professor  Deakin University\n",
              "9           Peter Eklund                     Professor  Deakin University\n",
              "10             Seng Loke                     Professor  Deakin University\n",
              "11  Antonio Robles-Kelly                     Professor  Deakin University\n",
              "12    Jean-Guy Schneider                     Professor  Deakin University\n",
              "13            Yong Xiang                     Professor  Deakin University\n",
              "14         John Yearwood                     Professor  Deakin University\n",
              "15      Arkady Zaslavsky                     Professor  Deakin University\n",
              "16    Mohamed Abdelrazek           Associate Professor  Deakin University\n",
              "17           Andrew Cain           Associate Professor  Deakin University\n",
              "18       Richard Dazeley           Associate Professor  Deakin University\n",
              "19        Guangyan Huang           Associate Professor  Deakin University\n",
              "20               Gang Li           Associate Professor  Deakin University\n",
              "21            Jianxin Li           Associate Professor  Deakin University\n",
              "22              Xiao Liu           Associate Professor  Deakin University\n",
              "23             Vicky Mak           Associate Professor  Deakin University\n",
              "24            Tim Wilkin           Associate Professor  Deakin University\n",
              "25             Abid Adam             Adjunct Professor  Deakin University\n",
              "26      Catherine Buhler             Adjunct Professor  Deakin University\n",
              "27     Eshan Dissanayake             Adjunct Professor  Deakin University\n",
              "28          Patrick Fair             Adjunct Professor  Deakin University\n",
              "29         David Fairman             Adjunct Professor  Deakin University\n",
              "30       Mark Fitzgerald            Honorary Professor  Deakin University\n",
              "31    Praveen Gauravaram             Adjunct Professor  Deakin University\n",
              "32          Nigel Hedges             Adjunct Professor  Deakin University\n",
              "33           Darren Kane             Adjunct Professor  Deakin University\n",
              "34          Len Kleinman             Adjunct Professor  Deakin University\n",
              "35         James Kotsias             Adjunct Professor  Deakin University\n",
              "36      Berin Lautenbach             Adjunct Professor  Deakin University\n",
              "37       Phillip Magness             Adjunct Professor  Deakin University\n",
              "38         Joseph Mathew   Adjunct Associate Professor  Deakin University\n",
              "39         William Moran            Honorary Professor  Deakin University\n",
              "40             Ana Novak  Honorary Associate Professor  Deakin University\n",
              "41      Zahir Quettawala             Adjunct Professor  Deakin University\n",
              "42    Anthony Robertshaw   Adjunct Associate Professor  Deakin University\n",
              "43         Jamie Rossato             Adjunct Professor  Deakin University\n",
              "44          Chadi Saliby             Adjunct Professor  Deakin University\n",
              "45         Malcolm Shore             Adjunct Professor  Deakin University\n",
              "46               EJ Wise             Adjunct Professor  Deakin University\n",
              "47         Abbas Kudrati                     Professor  Deakin University"
            ]
          },
          "metadata": {
            "tags": []
          },
          "execution_count": 18
        }
      ]
    },
    {
      "cell_type": "markdown",
      "metadata": {
        "id": "hwKTqMXaxOpw"
      },
      "source": [
        "## 4. Professor Citation Information Generation\n"
      ]
    },
    {
      "cell_type": "markdown",
      "metadata": {
        "id": "_uk5f1LgxQc7"
      },
      "source": [
        "### 4.1 Search the google scholar for all professors \n",
        "<div class=\"alert alert-block alert-warning\">\n",
        "\n",
        "**Code**: \n",
        "    Search the google scholar for all professors and obtain their citations-all, h-index-all, i10-all, citation-since2016,h-index-2016 and i10-since2016. Save the results as csv and must having **all the professors name, title and all 6 citation information.**\n",
        "</div> \n",
        "\n",
        "<div class=\"alert alert-block alert-warning\">\n",
        "    \n",
        "**Report**: \n",
        "    **Part II 4.1** Please include your result for this coding task into your report Part II, with proper section title '4.1'.\n",
        "</div>\n",
        "\n",
        "\n",
        "*hint: if the professors did not have the google scholar profle with the name, save the 6 citation information as string \"na\". you could use the while loop with condition or for loop with if condition or for loop with defined method having if condition to deal with those professors do not have google scholar*"
      ]
    },
    {
      "cell_type": "code",
      "metadata": {
        "id": "YITbe1Owxf2o",
        "colab": {
          "base_uri": "https://localhost:8080/"
        },
        "outputId": "00af23e7-ced2-4ce7-d853-5ce13ff86236"
      },
      "source": [
        "# search the google scholar for all professors to obtain their citations_all, h-index_all, i10_all, citation_since2016\n",
        "# h-index-2016 and i10_since2016. Save the results as csv and must having all the professors name, title and all 6 citation information.\n",
        "# if the professors did not have the google scholar profle with the name, save the 6 citation information as string \"na\"\n",
        "# you are requests to use loops and Conditional Statements to finish this task (eg: while / for, if...), failed to use loop\n",
        "# and conditional statements will occur 0 mark.\n",
        "# hint: sometimes, to render the google scholar page, you need to wait for the brower for few seconds, you could use \"from time import sleep\"\n",
        "# to have sleep(5) as the wait action for waiting 5 seconds.  \n",
        "# The column name must be same as the provided professor-citation-information.csv \n",
        "# write your code for this part as below:\n",
        "\n",
        "print('Task 4.1: Search the google scholar for all professors')\n",
        "print('-'*60)\n",
        "#Function to check whether a professor has google scholar profile\n",
        "def get_check(body_div):\n",
        "    try:\n",
        "      return body_div.find_element_by_class_name('gs_ai_name')\n",
        "    except:\n",
        "      return False\n",
        "#Function add citation into dataframe\n",
        "def new_row(name,title,args):\n",
        "  row = {'Name':name,\n",
        "        'Title':title,\n",
        "        'Citation-all':float(args[0]),\n",
        "        'Citation-since2016':float(args[1]),\n",
        "        'H-index-all':float(args[2]),\n",
        "        'H-index-2016':float(args[3]),\n",
        "        'I10-index-all':float(args[4]),\n",
        "        'I10-index-since2016':float(args[5])\n",
        "        }\n",
        "  return row\n",
        "\n",
        "#Create new dataframe\n",
        "col_names=['Name','Title','Citation-all','Citation-since2016','H-index-all',\n",
        "           'H-index-2016','I10-index-all','I10-index-since2016']\n",
        "citations = pd.DataFrame(columns=col_names)\n",
        "\n",
        "#Search loop for all professors\n",
        "for i,j in zip(professors.Name,professors.Title):\n",
        "  url = 'https://scholar.google.com/citations?hl=en&view_op=search_authors&mauthors='+i+'+Deakin'\n",
        "  driver.get(url)\n",
        "  #When the name has google scholar profile, the page shows the person \n",
        "  #in its main body <div> with id ='gs_bdy'\n",
        "  body = driver.find_element_by_id('gs_bdy')\n",
        "  result = get_check(body)\n",
        "\n",
        "  #when the <div id='gs_bdy'> is not there, it means the professor \n",
        "  # has no profile with google scholar,and dataframe receive NaN\n",
        "  if not(result):\n",
        "    items = np.empty(6)\n",
        "    items.fill(np.nan)\n",
        "    citations = citations.append(new_row(i,j,items),ignore_index=True)\n",
        "    continue\n",
        "\n",
        "  #Click one the link on the name of the finding professor\n",
        "  result.find_element_by_tag_name('a').click()\n",
        "  #Wait at least 5s before table id='gsc_rsb_st' loaded, and get its content\n",
        "  table = WebDriverWait(driver,5).until(EC.presence_of_element_located((By.ID,'gsc_rsb_st')))\n",
        "\n",
        "  #All the numberical data of citation contained in td with id='gsc_rsb_std'\n",
        "  td  = table.find_elements_by_class_name('gsc_rsb_std')\n",
        "\n",
        "  #Add the td contents into dataframe\n",
        "  items = []\n",
        "  for ele in td:\n",
        "    items.append(ele.get_attribute('innerHTML'))\n",
        "  citations = citations.append(new_row(i,j,items),ignore_index=True)\n",
        "print('\\nBelow is the dataframe to be written into csv file...\\n')\n",
        "print(citations)\n",
        "citations.to_csv('Professor-citation-informaton.csv',index=False)\n"
      ],
      "execution_count": 52,
      "outputs": [
        {
          "output_type": "stream",
          "text": [
            "Task 4.1: Search the google scholar for all professors\n",
            "------------------------------------------------------------\n",
            "\n",
            "Below is the dataframe to be written into csv file...\n",
            "\n",
            "                    Name  ... I10-index-since2016\n",
            "0            Lynn Batten  ...                21.0\n",
            "1      Andrzej Goscinski  ...                 NaN\n",
            "2          Jemal Abawajy  ...                 NaN\n",
            "3          Maia Angelova  ...                14.0\n",
            "4          Gleb Beliakov  ...                86.0\n",
            "5           Terry Caelli  ...                36.0\n",
            "6             Jinho Choi  ...                95.0\n",
            "7          Chang-Tsun Li  ...                65.0\n",
            "8             Robin Doss  ...                 NaN\n",
            "9           Peter Eklund  ...                23.0\n",
            "10             Seng Loke  ...                50.0\n",
            "11  Antonio Robles-Kelly  ...                27.0\n",
            "12    Jean-Guy Schneider  ...                21.0\n",
            "13            Yong Xiang  ...                95.0\n",
            "14         John Yearwood  ...                45.0\n",
            "15      Arkady Zaslavsky  ...                80.0\n",
            "16    Mohamed Abdelrazek  ...                23.0\n",
            "17           Andrew Cain  ...                 8.0\n",
            "18       Richard Dazeley  ...                15.0\n",
            "19        Guangyan Huang  ...                23.0\n",
            "20               Gang Li  ...                60.0\n",
            "21            Jianxin Li  ...                31.0\n",
            "22              Xiao Liu  ...                42.0\n",
            "23             Vicky Mak  ...                 6.0\n",
            "24            Tim Wilkin  ...                10.0\n",
            "25             Abid Adam  ...                 NaN\n",
            "26      Catherine Buhler  ...                 NaN\n",
            "27     Eshan Dissanayake  ...                 NaN\n",
            "28          Patrick Fair  ...                 NaN\n",
            "29         David Fairman  ...                 NaN\n",
            "30       Mark Fitzgerald  ...                 NaN\n",
            "31    Praveen Gauravaram  ...                 NaN\n",
            "32          Nigel Hedges  ...                 NaN\n",
            "33           Darren Kane  ...                 NaN\n",
            "34          Len Kleinman  ...                 NaN\n",
            "35         James Kotsias  ...                 NaN\n",
            "36      Berin Lautenbach  ...                 NaN\n",
            "37       Phillip Magness  ...                 NaN\n",
            "38         Joseph Mathew  ...                 NaN\n",
            "39         William Moran  ...                 NaN\n",
            "40             Ana Novak  ...                 NaN\n",
            "41      Zahir Quettawala  ...                 NaN\n",
            "42    Anthony Robertshaw  ...                 NaN\n",
            "43         Jamie Rossato  ...                 NaN\n",
            "44          Chadi Saliby  ...                 NaN\n",
            "45         Malcolm Shore  ...                 NaN\n",
            "46               EJ Wise  ...                 NaN\n",
            "47         Abbas Kudrati  ...                 NaN\n",
            "\n",
            "[48 rows x 8 columns]\n"
          ],
          "name": "stdout"
        }
      ]
    },
    {
      "cell_type": "markdown",
      "metadata": {
        "id": "7xxoyZvzxgmK"
      },
      "source": [
        "### 4.2 Find out the professor name having the most citations \n",
        "\n",
        "<div class=\"alert alert-block alert-warning\">\n",
        "\n",
        "**Code**: \n",
        "    Find out the professor name having the most citations (please remove those professor who does not have google scholar page)\n",
        "\n",
        "<div class=\"alert alert-block alert-warning\">\n",
        "    \n",
        "**Report**: \n",
        "    **Part II 4.2** Please include your result for this coding task into your report Part II, with proper section title '4.2'.\n",
        "</div>\n"
      ]
    },
    {
      "cell_type": "code",
      "metadata": {
        "id": "ay_z3pC8xntr",
        "colab": {
          "base_uri": "https://localhost:8080/"
        },
        "outputId": "dc4eec37-aba3-40bb-8a99-1a03faf8df34"
      },
      "source": [
        "# find out the professor name having the most citations (please remove those professor who does not have google scholar page)\n",
        "# write your code here\n",
        "print('Task 4.2: Find out the professor name having the most citations')\n",
        "print('-'*60)\n",
        "\n",
        "print('Drop the professor name who dose not have google scholar profile...')\n",
        "top_professor = citations.copy().dropna()\n",
        "\n",
        "top_professor = top_professor [top_professor ['Citation-all']==np.max(top_professor ['Citation-all'])]['Name']\n",
        "print('\\nProfessor name has the most citations is: {}'.format(top_professor.values))\n"
      ],
      "execution_count": 53,
      "outputs": [
        {
          "output_type": "stream",
          "text": [
            "Task 4.2: Find out the professor name having the most citations\n",
            "------------------------------------------------------------\n",
            "Drop the professor name who dose not have google scholar profile...\n",
            "\n",
            "Professor name has the most citations is: ['Arkady Zaslavsky']\n"
          ],
          "name": "stdout"
        }
      ]
    },
    {
      "cell_type": "markdown",
      "metadata": {
        "id": "MTlPxwg5xo_U"
      },
      "source": [
        "### 4.3 Find out the row for associate professor having the most i10-index since 2016 \n",
        "<div class=\"alert alert-block alert-warning\">\n",
        "\n",
        "**Code**: \n",
        "    Find out the row for associate professor having the most i10-index since 2016 (please remove those professor who does not have google scholar page)\n",
        "\n",
        "<div class=\"alert alert-block alert-warning\">\n",
        "    \n",
        "**Report**: \n",
        "    **Part II 4.3** Please include your result for this coding task into your report Part II, with proper section title '4.3'.\n",
        "</div>\n"
      ]
    },
    {
      "cell_type": "code",
      "metadata": {
        "id": "MjpexWtRxwA5",
        "colab": {
          "base_uri": "https://localhost:8080/",
          "height": 206
        },
        "outputId": "fc9edcae-4bee-409f-e417-638bda635e50"
      },
      "source": [
        "# find out the row for associate professor having the most i10_index since 2016 (please remove those professor who does not have google scholar page)\n",
        "# write your code here\n",
        "print('Task 4.3: Find out the row for associate professor having the most i10-index since 2016')\n",
        "print('-'*60)\n",
        "\n",
        "print('Drop the professor name who dose not have google scholar profile...')\n",
        "top_i10_2006 = citations.copy().dropna()\n",
        "\n",
        "top_i10_2006 = top_i10_2006[top_i10_2006['Title']=='Associate Professor']\n",
        "top_i10_2006 = top_i10_2006[top_i10_2006['I10-index-since2016']==top_i10_2006['I10-index-since2016'].max()]\n",
        "\n",
        "print('\\nThe associate professor who has recorded the most i10-index since 2006 is: ')\n",
        "top_i10_2006"
      ],
      "execution_count": 54,
      "outputs": [
        {
          "output_type": "stream",
          "text": [
            "Task 4.3: Find out the row for associate professor having the most i10-index since 2016\n",
            "------------------------------------------------------------\n",
            "Drop the professor name who dose not have google scholar profile...\n",
            "\n",
            "The associate professor who has recorded the most i10-index since 2006 is: \n"
          ],
          "name": "stdout"
        },
        {
          "output_type": "execute_result",
          "data": {
            "text/html": [
              "<div>\n",
              "<style scoped>\n",
              "    .dataframe tbody tr th:only-of-type {\n",
              "        vertical-align: middle;\n",
              "    }\n",
              "\n",
              "    .dataframe tbody tr th {\n",
              "        vertical-align: top;\n",
              "    }\n",
              "\n",
              "    .dataframe thead th {\n",
              "        text-align: right;\n",
              "    }\n",
              "</style>\n",
              "<table border=\"1\" class=\"dataframe\">\n",
              "  <thead>\n",
              "    <tr style=\"text-align: right;\">\n",
              "      <th></th>\n",
              "      <th>Name</th>\n",
              "      <th>Title</th>\n",
              "      <th>Citation-all</th>\n",
              "      <th>Citation-since2016</th>\n",
              "      <th>H-index-all</th>\n",
              "      <th>H-index-2016</th>\n",
              "      <th>I10-index-all</th>\n",
              "      <th>I10-index-since2016</th>\n",
              "    </tr>\n",
              "  </thead>\n",
              "  <tbody>\n",
              "    <tr>\n",
              "      <th>20</th>\n",
              "      <td>Gang Li</td>\n",
              "      <td>Associate Professor</td>\n",
              "      <td>4111.0</td>\n",
              "      <td>2821.0</td>\n",
              "      <td>28.0</td>\n",
              "      <td>24.0</td>\n",
              "      <td>88.0</td>\n",
              "      <td>60.0</td>\n",
              "    </tr>\n",
              "  </tbody>\n",
              "</table>\n",
              "</div>"
            ],
            "text/plain": [
              "       Name                Title  ...  I10-index-all  I10-index-since2016\n",
              "20  Gang Li  Associate Professor  ...           88.0                 60.0\n",
              "\n",
              "[1 rows x 8 columns]"
            ]
          },
          "metadata": {
            "tags": []
          },
          "execution_count": 54
        }
      ]
    },
    {
      "cell_type": "markdown",
      "metadata": {
        "id": "lsHSp2H9xxRg"
      },
      "source": [
        "### 4.4 Find out all the professors name who has the citations_since2016 > 2500\n",
        "<div class=\"alert alert-block alert-warning\">\n",
        "\n",
        "**Code**: \n",
        "    You are required to do the conditional filter and print to find out those (professors, associate professors) with the citations-since2016 > 2500 (please remove those without a public google scholar page).\n",
        "\n",
        "<div class=\"alert alert-block alert-warning\">\n",
        "    \n",
        "**Report**: \n",
        "    **Part II 4.4** Please include your result for this coding task into your report Part II, with proper section title '4.4'.\n",
        "</div>\n"
      ]
    },
    {
      "cell_type": "code",
      "metadata": {
        "id": "ZD352krRx5Dk",
        "colab": {
          "base_uri": "https://localhost:8080/"
        },
        "outputId": "929aacad-4f42-4b21-bc23-7bcad6d77864"
      },
      "source": [
        "# find out all the professors name who has the citations_since2016 > 2500\n",
        "# write your code here\n",
        "print('Task 4.4: Find out all the professors name who has the citations_since2016 > 2500')\n",
        "print('-'*60)\n",
        "\n",
        "print('Drop the professor name who dose not have google scholar profile...')\n",
        "target_professor = citations.copy().dropna()\n",
        "\n",
        "target_professor = target_professor[target_professor['Citation-since2016']>2500]['Name']\n",
        "print('\\nProfessor names with citations_since2016 > 2500:')\n",
        "for i in target_professor:\n",
        "  print('\\t- {}'.format(i))"
      ],
      "execution_count": 57,
      "outputs": [
        {
          "output_type": "stream",
          "text": [
            "Task 4.4: Find out all the professors name who has the citations_since2016 > 2500\n",
            "------------------------------------------------------------\n",
            "Drop the professor name who dose not have google scholar profile...\n",
            "\n",
            "Professor names with citations_since2016 > 2500:\n",
            "\t- Gleb Beliakov\n",
            "\t- Jinho Choi\n",
            "\t- Seng Loke\n",
            "\t- Yong Xiang\n",
            "\t- Arkady Zaslavsky\n",
            "\t- Gang Li\n"
          ],
          "name": "stdout"
        }
      ]
    }
  ]
}