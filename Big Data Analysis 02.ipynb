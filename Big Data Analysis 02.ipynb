{
  "nbformat": 4,
  "nbformat_minor": 0,
  "metadata": {
    "colab": {
      "name": "SIT742Task2.ipynb",
      "provenance": [],
      "collapsed_sections": []
    },
    "kernelspec": {
      "display_name": "Python 3",
      "language": "python",
      "name": "python3"
    },
    "language_info": {
      "codemirror_mode": {
        "name": "ipython",
        "version": 3
      },
      "file_extension": ".py",
      "mimetype": "text/x-python",
      "name": "python",
      "nbconvert_exporter": "python",
      "pygments_lexer": "ipython3",
      "version": "3.7.3"
    }
  },
  "cells": [
    {
      "cell_type": "markdown",
      "metadata": {
        "id": "Av_sK6JRQag5"
      },
      "source": [
        "# SIT742: Modern Data Science \n",
        "**(2021 Assessment Task 02 - Data Analytics)**\n",
        "\n",
        "---\n",
        "- Please refer to the CloudDeakin for the detailed assessment requirements.\n",
        "- Please submit to Clouddeakin before the due date.\n",
        "- It is a group assignment, and please form a group and self-enrol into the CloudDeakin groups.\n",
        "- Students with difficulty in meeting the deadline because of illness, etc. must apply for an assignment extension in CloudDeakin no later than *12:00pm on 21/05/2021 (Friday)*.\n",
        "\n",
        "\n",
        "Prepared by **SIT742 Teaching Team**\n",
        "\n",
        "\n",
        "---\n",
        "\n",
        "<div class=\"alert alert-block alert-info\">\n",
        "Enter your group information in the following cell.   \n",
        "</div>\n",
        "\n",
        "**Student Information:** Please fill your group information below\n",
        "\n",
        "- Group ID:Task2G3M 150\n",
        "- Names: Alina Kriutchenko, Navya Sushmitha Kovuru, Tithra Chap\n",
        "- Student IDs: 220129254, 220347427, 220051603\n",
        "- Emails: akriutchenko@deakin.edu.au, nkovuru@deakin.edu.au, tchap@deakin.edu.au\n",
        "- Lab Session and Tutor (for on campus students): Practical 1 - BYOD - On campus; Ziwei Hou \n",
        "\n",
        "---\n",
        "\n",
        "\n",
        "# Part I - Web Log Data\n",
        "\n",
        "## Overview\n",
        "\n",
        "Hotel TULIP a five-star hotel located at Deakin University, and its CIO Dr Bear Guts has asked the Team-SIT742 team to analyse the weblogs files. Hence, Hotel TULIP would like you *Group-SIT742* (a hypothetical data analytics group with up to 3 data analysers) to analyse web log files and discover user accessing patterns of different web pages. \n",
        "\n",
        "In this part, you are required to use give dataset to finish some required analysis, with the exploreation data analytics skills as well as visuilization skill.\n",
        "\n",
        "\n",
        "You will be required to complete the coding to answer the questions with a neat and clean format, and you must keep outputs for code. Your commenting and adherence to code standards will also be considered when marking. Further information on Python standards, please visit https://www.python.org/dev/peps/pep-0008/ \n",
        "\n",
        "\n",
        "**Note**: You are not restricted to the partial code provided, and you can write your own code to implement the required tasks. But you should provide sufficient comments.\n"
      ]
    },
    {
      "cell_type": "markdown",
      "metadata": {
        "id": "gamCnd8GKEJ7"
      },
      "source": [
        "## 1.Data ETL"
      ]
    },
    {
      "cell_type": "markdown",
      "metadata": {
        "id": "z6Ro64a9KNWs"
      },
      "source": [
        "### 1.1 Load Data"
      ]
    },
    {
      "cell_type": "code",
      "metadata": {
        "colab": {
          "base_uri": "https://localhost:8080/"
        },
        "id": "37Nq2m64KP0N",
        "outputId": "6e149369-d9e5-4f6a-bf58-a04784b471a3"
      },
      "source": [
        "from google.colab import drive\n",
        "drive.mount('/content/drive')"
      ],
      "execution_count": null,
      "outputs": [
        {
          "output_type": "stream",
          "text": [
            "Drive already mounted at /content/drive; to attempt to forcibly remount, call drive.mount(\"/content/drive\", force_remount=True).\n"
          ],
          "name": "stdout"
        }
      ]
    },
    {
      "cell_type": "code",
      "metadata": {
        "colab": {
          "base_uri": "https://localhost:8080/"
        },
        "id": "TeGBtZ2fW0ow",
        "outputId": "5bc4c6d7-3308-499c-819d-328a9fb826e1"
      },
      "source": [
        "from zipfile import ZipFile\n",
        "import matplotlib.pyplot as plt\n",
        "import numpy as np\n",
        "import pandas as pd\n",
        "import time\n",
        "import datetime\n",
        "from scipy import stats\n",
        "!pip install ip2geotools\n",
        "\n",
        "def read_HTWblog(web_filename):\n",
        "  all_files = ZipFile(web_filename)\n",
        "\n",
        "  file_names = all_files.namelist()\n",
        "  file_length = len(all_files.infolist())\n",
        "  \n",
        "  print(\"Zipfiles names_list :\\n\", file_names)  \n",
        "  print(\"\\n--------------------------------\\n\") \n",
        "  print('The total number of files loading is: ',file_length )\n",
        " \n",
        " \n",
        "  files = [] \n",
        "  \n",
        "  for name in file_names:\n",
        "    file_data = all_files.read(name).decode('latin1')\n",
        "    heading = file_data.split(\"\\r\\n\")[3].split(\" \")[1:-1]\n",
        "    rows = file_data.split(\"\\r\\n\") \n",
        "    temp_li = []\n",
        "\n",
        "    for line in rows:  \n",
        "        if len(line.split(\" \")) == len(heading): \n",
        "            row = line.split(\" \") \n",
        "            temp_li.append(row) \n",
        "        else:\n",
        "          pass\n",
        "    \n",
        "    my_files = pd.DataFrame(temp_li, columns = heading) # create dataframe for each file\n",
        "    \n",
        "    files.append(my_files)\n",
        "  \n",
        "  df_ht = pd.concat(files) #concat all files into dataframe \n",
        "  \n",
        "  return df_ht\n",
        "\n"
      ],
      "execution_count": null,
      "outputs": [
        {
          "output_type": "stream",
          "text": [
            "Requirement already satisfied: ip2geotools in /usr/local/lib/python3.7/dist-packages (0.1.5)\n",
            "Requirement already satisfied: Click>=7.0 in /usr/local/lib/python3.7/dist-packages (from ip2geotools) (8.0.0)\n",
            "Requirement already satisfied: selenium>=3.141.0 in /usr/local/lib/python3.7/dist-packages (from ip2geotools) (3.141.0)\n",
            "Requirement already satisfied: decorator>=4.3.0 in /usr/local/lib/python3.7/dist-packages (from ip2geotools) (4.4.2)\n",
            "Requirement already satisfied: wrapt>=1.10.11 in /usr/local/lib/python3.7/dist-packages (from ip2geotools) (1.12.1)\n",
            "Requirement already satisfied: pyparsing>=2.3.0 in /usr/local/lib/python3.7/dist-packages (from ip2geotools) (2.4.7)\n",
            "Requirement already satisfied: dicttoxml>=1.7.4 in /usr/local/lib/python3.7/dist-packages (from ip2geotools) (1.7.4)\n",
            "Requirement already satisfied: bleach>=3.0.2 in /usr/local/lib/python3.7/dist-packages (from ip2geotools) (3.3.0)\n",
            "Requirement already satisfied: docutils>=0.14 in /usr/local/lib/python3.7/dist-packages (from ip2geotools) (0.17.1)\n",
            "Requirement already satisfied: lazy-object-proxy>=1.3.1 in /usr/local/lib/python3.7/dist-packages (from ip2geotools) (1.6.0)\n",
            "Requirement already satisfied: Pygments>=2.3.0 in /usr/local/lib/python3.7/dist-packages (from ip2geotools) (2.6.1)\n",
            "Requirement already satisfied: chardet>=3.0.4 in /usr/local/lib/python3.7/dist-packages (from ip2geotools) (3.0.4)\n",
            "Requirement already satisfied: astroid>=2.1.0 in /usr/local/lib/python3.7/dist-packages (from ip2geotools) (2.5.6)\n",
            "Requirement already satisfied: pyquery>=1.4.0 in /usr/local/lib/python3.7/dist-packages (from ip2geotools) (1.4.3)\n",
            "Requirement already satisfied: packaging>=18.0 in /usr/local/lib/python3.7/dist-packages (from ip2geotools) (20.9)\n",
            "Requirement already satisfied: pkginfo>=1.4.2 in /usr/local/lib/python3.7/dist-packages (from ip2geotools) (1.7.0)\n",
            "Requirement already satisfied: twine>=1.12.1 in /usr/local/lib/python3.7/dist-packages (from ip2geotools) (3.4.1)\n",
            "Requirement already satisfied: certifi>=2018.10.15 in /usr/local/lib/python3.7/dist-packages (from ip2geotools) (2020.12.5)\n",
            "Requirement already satisfied: lxml>=4.2.5 in /usr/local/lib/python3.7/dist-packages (from ip2geotools) (4.2.6)\n",
            "Requirement already satisfied: pip-review>=1.0 in /usr/local/lib/python3.7/dist-packages (from ip2geotools) (1.1.0)\n",
            "Requirement already satisfied: pylint>=2.2.0 in /usr/local/lib/python3.7/dist-packages (from ip2geotools) (2.8.2)\n",
            "Requirement already satisfied: webencodings>=0.5.1 in /usr/local/lib/python3.7/dist-packages (from ip2geotools) (0.5.1)\n",
            "Requirement already satisfied: geocoder>=1.38.1 in /usr/local/lib/python3.7/dist-packages (from ip2geotools) (1.38.1)\n",
            "Requirement already satisfied: tqdm>=4.28.1 in /usr/local/lib/python3.7/dist-packages (from ip2geotools) (4.41.1)\n",
            "Requirement already satisfied: IP2Location>=8.0.3 in /usr/local/lib/python3.7/dist-packages (from ip2geotools) (8.5.1)\n",
            "Requirement already satisfied: requests>=2.20.1 in /usr/local/lib/python3.7/dist-packages (from ip2geotools) (2.23.0)\n",
            "Requirement already satisfied: future>=0.17.1 in /usr/local/lib/python3.7/dist-packages (from ip2geotools) (0.18.2)\n",
            "Requirement already satisfied: geoip2>=2.9.0 in /usr/local/lib/python3.7/dist-packages (from ip2geotools) (4.2.0)\n",
            "Requirement already satisfied: maxminddb>=1.4.1 in /usr/local/lib/python3.7/dist-packages (from ip2geotools) (2.0.3)\n",
            "Requirement already satisfied: cssselect>=1.0.3 in /usr/local/lib/python3.7/dist-packages (from ip2geotools) (1.1.0)\n",
            "Requirement already satisfied: isort>=4.3.4 in /usr/local/lib/python3.7/dist-packages (from ip2geotools) (5.8.0)\n",
            "Requirement already satisfied: six>=1.11.0 in /usr/local/lib/python3.7/dist-packages (from ip2geotools) (1.15.0)\n",
            "Requirement already satisfied: typed-ast>=1.1.0 in /usr/local/lib/python3.7/dist-packages (from ip2geotools) (1.4.3)\n",
            "Requirement already satisfied: urllib3>=1.24.1 in /usr/local/lib/python3.7/dist-packages (from ip2geotools) (1.24.3)\n",
            "Requirement already satisfied: requests-toolbelt>=0.8.0 in /usr/local/lib/python3.7/dist-packages (from ip2geotools) (0.9.1)\n",
            "Requirement already satisfied: ratelim>=0.1.6 in /usr/local/lib/python3.7/dist-packages (from ip2geotools) (0.1.6)\n",
            "Requirement already satisfied: readme-renderer>=24.0 in /usr/local/lib/python3.7/dist-packages (from ip2geotools) (29.0)\n",
            "Requirement already satisfied: typing>=3.6.6 in /usr/local/lib/python3.7/dist-packages (from ip2geotools) (3.7.4.3)\n",
            "Requirement already satisfied: mccabe>=0.6.1 in /usr/local/lib/python3.7/dist-packages (from ip2geotools) (0.6.1)\n",
            "Requirement already satisfied: idna>=2.7 in /usr/local/lib/python3.7/dist-packages (from ip2geotools) (2.10)\n",
            "Requirement already satisfied: pycodestyle>=2.4.0 in /usr/local/lib/python3.7/dist-packages (from ip2geotools) (2.7.0)\n",
            "Requirement already satisfied: autopep8>=1.4.3 in /usr/local/lib/python3.7/dist-packages (from ip2geotools) (1.5.7)\n",
            "Requirement already satisfied: colorama>=0.4.3 in /usr/local/lib/python3.7/dist-packages (from twine>=1.12.1->ip2geotools) (0.4.4)\n",
            "Requirement already satisfied: keyring>=15.1 in /usr/local/lib/python3.7/dist-packages (from twine>=1.12.1->ip2geotools) (23.0.1)\n",
            "Requirement already satisfied: rfc3986>=1.4.0 in /usr/local/lib/python3.7/dist-packages (from twine>=1.12.1->ip2geotools) (1.5.0)\n",
            "Requirement already satisfied: importlib-metadata>=3.6 in /usr/local/lib/python3.7/dist-packages (from twine>=1.12.1->ip2geotools) (4.0.1)\n",
            "Requirement already satisfied: pip in /usr/local/lib/python3.7/dist-packages (from pip-review>=1.0->ip2geotools) (19.3.1)\n",
            "Requirement already satisfied: toml>=0.7.1 in /usr/local/lib/python3.7/dist-packages (from pylint>=2.2.0->ip2geotools) (0.10.2)\n",
            "Requirement already satisfied: aiohttp<4.0.0,>=3.6.2 in /usr/local/lib/python3.7/dist-packages (from geoip2>=2.9.0->ip2geotools) (3.7.4.post0)\n",
            "Requirement already satisfied: jeepney>=0.4.2; sys_platform == \"linux\" in /usr/local/lib/python3.7/dist-packages (from keyring>=15.1->twine>=1.12.1->ip2geotools) (0.6.0)\n",
            "Requirement already satisfied: SecretStorage>=3.2; sys_platform == \"linux\" in /usr/local/lib/python3.7/dist-packages (from keyring>=15.1->twine>=1.12.1->ip2geotools) (3.3.1)\n",
            "Requirement already satisfied: zipp>=0.5 in /usr/local/lib/python3.7/dist-packages (from importlib-metadata>=3.6->twine>=1.12.1->ip2geotools) (3.4.1)\n",
            "Requirement already satisfied: typing-extensions>=3.6.4; python_version < \"3.8\" in /usr/local/lib/python3.7/dist-packages (from importlib-metadata>=3.6->twine>=1.12.1->ip2geotools) (3.7.4.3)\n",
            "Requirement already satisfied: yarl<2.0,>=1.0 in /usr/local/lib/python3.7/dist-packages (from aiohttp<4.0.0,>=3.6.2->geoip2>=2.9.0->ip2geotools) (1.6.3)\n",
            "Requirement already satisfied: attrs>=17.3.0 in /usr/local/lib/python3.7/dist-packages (from aiohttp<4.0.0,>=3.6.2->geoip2>=2.9.0->ip2geotools) (21.2.0)\n",
            "Requirement already satisfied: async-timeout<4.0,>=3.0 in /usr/local/lib/python3.7/dist-packages (from aiohttp<4.0.0,>=3.6.2->geoip2>=2.9.0->ip2geotools) (3.0.1)\n",
            "Requirement already satisfied: multidict<7.0,>=4.5 in /usr/local/lib/python3.7/dist-packages (from aiohttp<4.0.0,>=3.6.2->geoip2>=2.9.0->ip2geotools) (5.1.0)\n",
            "Requirement already satisfied: cryptography>=2.0 in /usr/local/lib/python3.7/dist-packages (from SecretStorage>=3.2; sys_platform == \"linux\"->keyring>=15.1->twine>=1.12.1->ip2geotools) (3.4.7)\n",
            "Requirement already satisfied: cffi>=1.12 in /usr/local/lib/python3.7/dist-packages (from cryptography>=2.0->SecretStorage>=3.2; sys_platform == \"linux\"->keyring>=15.1->twine>=1.12.1->ip2geotools) (1.14.5)\n",
            "Requirement already satisfied: pycparser in /usr/local/lib/python3.7/dist-packages (from cffi>=1.12->cryptography>=2.0->SecretStorage>=3.2; sys_platform == \"linux\"->keyring>=15.1->twine>=1.12.1->ip2geotools) (2.20)\n"
          ],
          "name": "stdout"
        }
      ]
    },
    {
      "cell_type": "code",
      "metadata": {
        "colab": {
          "base_uri": "https://localhost:8080/"
        },
        "id": "betO07A3XNhg",
        "outputId": "564af86c-5869-4420-aa58-6da96aa5e305"
      },
      "source": [
        "df_ht = read_HTWblog('/content/drive/MyDrive/HTWebLog_p1.zip')"
      ],
      "execution_count": null,
      "outputs": [
        {
          "output_type": "stream",
          "text": [
            "Zipfiles names_list :\n",
            " ['ex061101.log', 'ex061102.log', 'ex061103.log', 'ex061104.log', 'ex061105.log', 'ex061106.log', 'ex061107.log', 'ex061108.log', 'ex061109.log', 'ex061110.log', 'ex061111.log', 'ex061112.log', 'ex061113.log', 'ex061114.log', 'ex061115.log', 'ex061116.log', 'ex061117.log', 'ex061118.log', 'ex061119.log', 'ex061120.log', 'ex061121.log', 'ex061122.log', 'ex061123.log', 'ex061124.log', 'ex061125.log', 'ex061126.log', 'ex061127.log', 'ex061128.log', 'ex061129.log', 'ex061130.log', 'ex061201.log', 'ex061202.log', 'ex061203.log', 'ex061204.log', 'ex061205.log', 'ex061206.log', 'ex061207.log', 'ex061208.log', 'ex061209.log', 'ex061210.log', 'ex061211.log', 'ex061212.log', 'ex061213.log', 'ex061214.log', 'ex061215.log', 'ex061216.log', 'ex061217.log', 'ex061218.log', 'ex061219.log', 'ex061220.log', 'ex061221.log', 'ex061222.log', 'ex061223.log', 'ex061224.log', 'ex061225.log', 'ex061226.log', 'ex061227.log', 'ex061228.log', 'ex061229.log', 'ex061230.log', 'ex061231.log', 'ex070101.log', 'ex070102.log', 'ex070103.log', 'ex070104.log', 'ex070105.log', 'ex070106.log', 'ex070107.log', 'ex070108.log', 'ex070109.log', 'ex070110.log', 'ex070111.log', 'ex070112.log', 'ex070113.log', 'ex070114.log', 'ex070115.log', 'ex070116.log', 'ex070117.log', 'ex070118.log', 'ex070119.log', 'ex070120.log', 'ex070121.log', 'ex070122.log', 'ex070123.log', 'ex070124.log', 'ex070125.log', 'ex070126.log', 'ex070127.log', 'ex070128.log', 'ex070129.log', 'ex070130.log', 'ex070131.log', 'ex070201.log', 'ex070202.log', 'ex070203.log', 'ex070204.log', 'ex070205.log', 'ex070206.log', 'ex070207.log', 'ex070208.log', 'ex070209.log', 'ex070210.log', 'ex070211.log', 'ex070212.log', 'ex070213.log', 'ex070214.log', 'ex070215.log', 'ex070216.log', 'ex070217.log', 'ex070218.log', 'ex070219.log', 'ex070220.log', 'ex070221.log', 'ex070222.log', 'ex070223.log', 'ex070224.log', 'ex070225.log', 'ex070226.log', 'ex070227.log', 'ex070228.log']\n",
            "\n",
            "--------------------------------\n",
            "\n",
            "The total number of files loading is:  120\n"
          ],
          "name": "stdout"
        }
      ]
    },
    {
      "cell_type": "code",
      "metadata": {
        "colab": {
          "base_uri": "https://localhost:8080/"
        },
        "id": "FKfuvNToXXF6",
        "outputId": "02009e0b-0f3c-4b5b-a8a2-b20b49f7c679"
      },
      "source": [
        "print(\"\\nData size :\",df_ht.shape)\n",
        "print(\"\\nNumber of records :\",len(df_ht))\n",
        "print(\"\\nNumber of atrributes :\",len(df_ht.columns))\n",
        "print('--------------------------------------')\n",
        "\n",
        "#attribute name\n",
        "print('\\nAttribute name:\\n')\n",
        "\n",
        "print(df_ht.columns.to_list())"
      ],
      "execution_count": null,
      "outputs": [
        {
          "output_type": "stream",
          "text": [
            "\n",
            "Data size : (8438928, 15)\n",
            "\n",
            "Number of records : 8438928\n",
            "\n",
            "Number of atrributes : 15\n",
            "--------------------------------------\n",
            "\n",
            "Attribute name:\n",
            "\n",
            "['date', 'time', 's-sitename', 's-ip', 'cs-method', 'cs-uri-stem', 'cs-uri-query', 's-port', 'cs-username', 'c-ip', 'cs(User-Agent)', 'cs(Referer)', 'sc-status', 'sc-substatus', 'sc-win32-status']\n"
          ],
          "name": "stdout"
        }
      ]
    },
    {
      "cell_type": "code",
      "metadata": {
        "colab": {
          "base_uri": "https://localhost:8080/",
          "height": 343
        },
        "id": "-3tx52AfXajD",
        "outputId": "8309d63a-b4cb-4c12-9544-74bb2529b3ab"
      },
      "source": [
        "df_ht.head(5)"
      ],
      "execution_count": null,
      "outputs": [
        {
          "output_type": "execute_result",
          "data": {
            "text/html": [
              "<div>\n",
              "<style scoped>\n",
              "    .dataframe tbody tr th:only-of-type {\n",
              "        vertical-align: middle;\n",
              "    }\n",
              "\n",
              "    .dataframe tbody tr th {\n",
              "        vertical-align: top;\n",
              "    }\n",
              "\n",
              "    .dataframe thead th {\n",
              "        text-align: right;\n",
              "    }\n",
              "</style>\n",
              "<table border=\"1\" class=\"dataframe\">\n",
              "  <thead>\n",
              "    <tr style=\"text-align: right;\">\n",
              "      <th></th>\n",
              "      <th>date</th>\n",
              "      <th>time</th>\n",
              "      <th>s-sitename</th>\n",
              "      <th>s-ip</th>\n",
              "      <th>cs-method</th>\n",
              "      <th>cs-uri-stem</th>\n",
              "      <th>cs-uri-query</th>\n",
              "      <th>s-port</th>\n",
              "      <th>cs-username</th>\n",
              "      <th>c-ip</th>\n",
              "      <th>cs(User-Agent)</th>\n",
              "      <th>cs(Referer)</th>\n",
              "      <th>sc-status</th>\n",
              "      <th>sc-substatus</th>\n",
              "      <th>sc-win32-status</th>\n",
              "    </tr>\n",
              "  </thead>\n",
              "  <tbody>\n",
              "    <tr>\n",
              "      <th>0</th>\n",
              "      <td>2006-11-01</td>\n",
              "      <td>00:00:08</td>\n",
              "      <td>W3SVC1</td>\n",
              "      <td>127.0.0.1</td>\n",
              "      <td>GET</td>\n",
              "      <td>/Default.aspx</td>\n",
              "      <td>-</td>\n",
              "      <td>80</td>\n",
              "      <td>-</td>\n",
              "      <td>70.80.84.76</td>\n",
              "      <td>Mozilla/4.0+(compatible;+MSIE+6.0;+Windows+NT+...</td>\n",
              "      <td>http://www.google.com/search?sourceid=navclien...</td>\n",
              "      <td>200</td>\n",
              "      <td>0</td>\n",
              "      <td>0</td>\n",
              "    </tr>\n",
              "    <tr>\n",
              "      <th>1</th>\n",
              "      <td>2006-11-01</td>\n",
              "      <td>00:00:08</td>\n",
              "      <td>W3SVC1</td>\n",
              "      <td>127.0.0.1</td>\n",
              "      <td>GET</td>\n",
              "      <td>/Tulip/home/en-us/home_index.aspx</td>\n",
              "      <td>-</td>\n",
              "      <td>80</td>\n",
              "      <td>-</td>\n",
              "      <td>70.80.84.76</td>\n",
              "      <td>Mozilla/4.0+(compatible;+MSIE+6.0;+Windows+NT+...</td>\n",
              "      <td>-</td>\n",
              "      <td>200</td>\n",
              "      <td>0</td>\n",
              "      <td>0</td>\n",
              "    </tr>\n",
              "    <tr>\n",
              "      <th>2</th>\n",
              "      <td>2006-11-01</td>\n",
              "      <td>00:00:08</td>\n",
              "      <td>W3SVC1</td>\n",
              "      <td>127.0.0.1</td>\n",
              "      <td>GET</td>\n",
              "      <td>/Tulip/includes/js/CommonUtil.js</td>\n",
              "      <td>-</td>\n",
              "      <td>80</td>\n",
              "      <td>-</td>\n",
              "      <td>70.80.84.76</td>\n",
              "      <td>Mozilla/4.0+(compatible;+MSIE+6.0;+Windows+NT+...</td>\n",
              "      <td>http://www.hotelTulip.com.hk/Tulip/home/en-us/...</td>\n",
              "      <td>200</td>\n",
              "      <td>0</td>\n",
              "      <td>0</td>\n",
              "    </tr>\n",
              "    <tr>\n",
              "      <th>3</th>\n",
              "      <td>2006-11-01</td>\n",
              "      <td>00:00:09</td>\n",
              "      <td>W3SVC1</td>\n",
              "      <td>127.0.0.1</td>\n",
              "      <td>GET</td>\n",
              "      <td>/Tulip/common/common_style.aspx</td>\n",
              "      <td>lang=en-us</td>\n",
              "      <td>80</td>\n",
              "      <td>-</td>\n",
              "      <td>70.80.84.76</td>\n",
              "      <td>Mozilla/4.0+(compatible;+MSIE+6.0;+Windows+NT+...</td>\n",
              "      <td>http://www.hotelTulip.com.hk/Tulip/home/en-us/...</td>\n",
              "      <td>200</td>\n",
              "      <td>0</td>\n",
              "      <td>0</td>\n",
              "    </tr>\n",
              "    <tr>\n",
              "      <th>4</th>\n",
              "      <td>2006-11-01</td>\n",
              "      <td>00:00:09</td>\n",
              "      <td>W3SVC1</td>\n",
              "      <td>127.0.0.1</td>\n",
              "      <td>GET</td>\n",
              "      <td>/Tulip/common/en-us/images/top_img.jpg</td>\n",
              "      <td>-</td>\n",
              "      <td>80</td>\n",
              "      <td>-</td>\n",
              "      <td>70.80.84.76</td>\n",
              "      <td>Mozilla/4.0+(compatible;+MSIE+6.0;+Windows+NT+...</td>\n",
              "      <td>http://www.hotelTulip.com.hk/Tulip/home/en-us/...</td>\n",
              "      <td>200</td>\n",
              "      <td>0</td>\n",
              "      <td>0</td>\n",
              "    </tr>\n",
              "  </tbody>\n",
              "</table>\n",
              "</div>"
            ],
            "text/plain": [
              "         date      time s-sitename  ... sc-status sc-substatus sc-win32-status\n",
              "0  2006-11-01  00:00:08     W3SVC1  ...       200            0               0\n",
              "1  2006-11-01  00:00:08     W3SVC1  ...       200            0               0\n",
              "2  2006-11-01  00:00:08     W3SVC1  ...       200            0               0\n",
              "3  2006-11-01  00:00:09     W3SVC1  ...       200            0               0\n",
              "4  2006-11-01  00:00:09     W3SVC1  ...       200            0               0\n",
              "\n",
              "[5 rows x 15 columns]"
            ]
          },
          "metadata": {
            "tags": []
          },
          "execution_count": 5
        }
      ]
    },
    {
      "cell_type": "markdown",
      "metadata": {
        "id": "SmbO0UE1KrvL"
      },
      "source": [
        "In order to reduce the processing time, we will remove all missing values for data and only select 30% of total data for classification. \n",
        "\n",
        "**Code**: \n",
        "    1. Remove all NAs, for the columns, if the column is with 15% NAs, you need to remove that column. Then, for the rows, if there are any NAs in that row, you need to remove that row (requests)  \n",
        "    2. select 30\\% of the total data in to a new dataframe weblog_df.\n",
        "    \n",
        "    *Keep the outputs for code in your notebook.\n",
        "\n",
        "**Report**:\n",
        "    The number of requests in weblog\\_df.\n"
      ]
    },
    {
      "cell_type": "code",
      "metadata": {
        "colab": {
          "base_uri": "https://localhost:8080/"
        },
        "id": "5B2HPOeSXw02",
        "outputId": "dd392c9b-8c7f-4f71-8b27-85c5a33e2be0"
      },
      "source": [
        "print('Find missing value is \"-\"')\n",
        "df_ht.replace('-', np.nan, inplace = True)\n",
        "\n",
        "print(df_ht.isnull().sum(axis=0))"
      ],
      "execution_count": null,
      "outputs": [
        {
          "output_type": "stream",
          "text": [
            "Find missing value is \"-\"\n",
            "date                     0\n",
            "time                     0\n",
            "s-sitename               0\n",
            "s-ip                     0\n",
            "cs-method                0\n",
            "cs-uri-stem              0\n",
            "cs-uri-query       7886532\n",
            "s-port                   0\n",
            "cs-username        8438928\n",
            "c-ip                     0\n",
            "cs(User-Agent)        3527\n",
            "cs(Referer)        1308994\n",
            "sc-status                0\n",
            "sc-substatus             0\n",
            "sc-win32-status          0\n",
            "dtype: int64\n"
          ],
          "name": "stdout"
        }
      ]
    },
    {
      "cell_type": "code",
      "metadata": {
        "colab": {
          "base_uri": "https://localhost:8080/"
        },
        "id": "5RBE7mj1X3Tg",
        "outputId": "26ed62d9-bce7-40e8-cb2b-0b15987dd7de"
      },
      "source": [
        "missing_data = (df_ht.isnull().sum(axis=0)*100/len(df_ht))\\\n",
        "                    .reset_index().rename(\n",
        "                      columns = {\"index\": \"column name\", \n",
        "                                 0: \"% of missing values\"})\\\n",
        "                          .sort_values(\n",
        "                              by=\"% of missing values\", \n",
        "                              ascending=False)\n",
        "\n",
        "print(missing_data[missing_data['% of missing values'] != 0])"
      ],
      "execution_count": null,
      "outputs": [
        {
          "output_type": "stream",
          "text": [
            "       column name  % of missing values\n",
            "8      cs-username           100.000000\n",
            "6     cs-uri-query            93.454192\n",
            "11     cs(Referer)            15.511378\n",
            "10  cs(User-Agent)             0.041794\n"
          ],
          "name": "stdout"
        }
      ]
    },
    {
      "cell_type": "code",
      "metadata": {
        "colab": {
          "base_uri": "https://localhost:8080/"
        },
        "id": "d_FfT3OBX6f1",
        "outputId": "314a6b79-305d-43f8-deb4-89c7875fcee9"
      },
      "source": [
        "missing_data = list(missing_data[missing_data['% of missing values'] > 15]['column name'])\n",
        "\n",
        "print('Drop columns with > 15% missing values\\n')\n",
        "df_ht.drop(columns = missing_data , axis =1, inplace = True)\n",
        "\n",
        "print(df_ht.isnull().sum())\n",
        "print(df_ht.shape)\n"
      ],
      "execution_count": null,
      "outputs": [
        {
          "output_type": "stream",
          "text": [
            "Drop columns with > 15% missing values\n",
            "\n",
            "date                  0\n",
            "time                  0\n",
            "s-sitename            0\n",
            "s-ip                  0\n",
            "cs-method             0\n",
            "cs-uri-stem           0\n",
            "s-port                0\n",
            "c-ip                  0\n",
            "cs(User-Agent)     3527\n",
            "sc-status             0\n",
            "sc-substatus          0\n",
            "sc-win32-status       0\n",
            "dtype: int64\n",
            "(8438928, 12)\n"
          ],
          "name": "stdout"
        }
      ]
    },
    {
      "cell_type": "code",
      "metadata": {
        "colab": {
          "base_uri": "https://localhost:8080/"
        },
        "id": "ngkdk9AbYAWH",
        "outputId": "20b8a84d-19f3-41f4-ac27-dcf1296c4c75"
      },
      "source": [
        "df_ht.dropna( axis=0 , how = 'any',inplace = True)\n",
        "print('Drop rows with missing values\\n')\n",
        "print(df_ht.isnull().sum())"
      ],
      "execution_count": null,
      "outputs": [
        {
          "output_type": "stream",
          "text": [
            "Drop rows with missing values\n",
            "\n",
            "date               0\n",
            "time               0\n",
            "s-sitename         0\n",
            "s-ip               0\n",
            "cs-method          0\n",
            "cs-uri-stem        0\n",
            "s-port             0\n",
            "c-ip               0\n",
            "cs(User-Agent)     0\n",
            "sc-status          0\n",
            "sc-substatus       0\n",
            "sc-win32-status    0\n",
            "dtype: int64\n"
          ],
          "name": "stdout"
        }
      ]
    },
    {
      "cell_type": "code",
      "metadata": {
        "colab": {
          "base_uri": "https://localhost:8080/"
        },
        "id": "JRs1zENpYD0l",
        "outputId": "12fd4e15-e029-4523-fb2b-2b9e8e257b39"
      },
      "source": [
        "df_ht.shape"
      ],
      "execution_count": null,
      "outputs": [
        {
          "output_type": "execute_result",
          "data": {
            "text/plain": [
              "(8435401, 12)"
            ]
          },
          "metadata": {
            "tags": []
          },
          "execution_count": 10
        }
      ]
    },
    {
      "cell_type": "code",
      "metadata": {
        "colab": {
          "base_uri": "https://localhost:8080/"
        },
        "id": "_KzcKdcmKzMR",
        "outputId": "c33f2fd8-77e1-445a-e951-6eec26c136c6"
      },
      "source": [
        "# only 30% of total data are selected for classification\n",
        "weblog_df = df_ht.sample(frac = 0.3, random_state=1)\n",
        "\n",
        "#Your code to show the number of requests in weblog_df\n",
        "len(weblog_df)"
      ],
      "execution_count": null,
      "outputs": [
        {
          "output_type": "execute_result",
          "data": {
            "text/plain": [
              "2530620"
            ]
          },
          "metadata": {
            "tags": []
          },
          "execution_count": 11
        }
      ]
    },
    {
      "cell_type": "code",
      "metadata": {
        "colab": {
          "base_uri": "https://localhost:8080/",
          "height": 343
        },
        "id": "0d9KmIsiiNIK",
        "outputId": "06439a71-95bd-4fd3-f402-de0284031d75"
      },
      "source": [
        "weblog_df.head(5)"
      ],
      "execution_count": null,
      "outputs": [
        {
          "output_type": "execute_result",
          "data": {
            "text/html": [
              "<div>\n",
              "<style scoped>\n",
              "    .dataframe tbody tr th:only-of-type {\n",
              "        vertical-align: middle;\n",
              "    }\n",
              "\n",
              "    .dataframe tbody tr th {\n",
              "        vertical-align: top;\n",
              "    }\n",
              "\n",
              "    .dataframe thead th {\n",
              "        text-align: right;\n",
              "    }\n",
              "</style>\n",
              "<table border=\"1\" class=\"dataframe\">\n",
              "  <thead>\n",
              "    <tr style=\"text-align: right;\">\n",
              "      <th></th>\n",
              "      <th>date</th>\n",
              "      <th>time</th>\n",
              "      <th>s-sitename</th>\n",
              "      <th>s-ip</th>\n",
              "      <th>cs-method</th>\n",
              "      <th>cs-uri-stem</th>\n",
              "      <th>s-port</th>\n",
              "      <th>c-ip</th>\n",
              "      <th>cs(User-Agent)</th>\n",
              "      <th>sc-status</th>\n",
              "      <th>sc-substatus</th>\n",
              "      <th>sc-win32-status</th>\n",
              "    </tr>\n",
              "  </thead>\n",
              "  <tbody>\n",
              "    <tr>\n",
              "      <th>25357</th>\n",
              "      <td>2006-12-03</td>\n",
              "      <td>09:39:19</td>\n",
              "      <td>W3SVC1</td>\n",
              "      <td>127.0.0.1</td>\n",
              "      <td>GET</td>\n",
              "      <td>/Tulip/common/en-us/images/topmenu_zh-hk.gif</td>\n",
              "      <td>80</td>\n",
              "      <td>218.102.231.100</td>\n",
              "      <td>Mozilla/4.0+(compatible;+MSIE+6.0;+Windows+NT+...</td>\n",
              "      <td>200</td>\n",
              "      <td>0</td>\n",
              "      <td>0</td>\n",
              "    </tr>\n",
              "    <tr>\n",
              "      <th>89819</th>\n",
              "      <td>2006-12-04</td>\n",
              "      <td>15:30:01</td>\n",
              "      <td>W3SVC1</td>\n",
              "      <td>127.0.0.1</td>\n",
              "      <td>GET</td>\n",
              "      <td>/Tulip/common/en-us/images/top_logo.gif</td>\n",
              "      <td>80</td>\n",
              "      <td>218.190.226.30</td>\n",
              "      <td>Mozilla/4.0+(compatible;+MSIE+6.0;+Windows+NT+...</td>\n",
              "      <td>200</td>\n",
              "      <td>0</td>\n",
              "      <td>0</td>\n",
              "    </tr>\n",
              "    <tr>\n",
              "      <th>19333</th>\n",
              "      <td>2007-02-23</td>\n",
              "      <td>06:50:42</td>\n",
              "      <td>W3SVC1</td>\n",
              "      <td>127.0.0.1</td>\n",
              "      <td>GET</td>\n",
              "      <td>/Tulip/common/en-us/images/sectionbanner_about...</td>\n",
              "      <td>80</td>\n",
              "      <td>203.241.147.26</td>\n",
              "      <td>Mozilla/4.0+(compatible;+MSIE+6.0;+Windows+NT+...</td>\n",
              "      <td>304</td>\n",
              "      <td>0</td>\n",
              "      <td>64</td>\n",
              "    </tr>\n",
              "    <tr>\n",
              "      <th>29761</th>\n",
              "      <td>2006-11-17</td>\n",
              "      <td>06:35:25</td>\n",
              "      <td>W3SVC1</td>\n",
              "      <td>127.0.0.1</td>\n",
              "      <td>GET</td>\n",
              "      <td>/Tulip/public/2899_2.jpg</td>\n",
              "      <td>80</td>\n",
              "      <td>203.85.132.97</td>\n",
              "      <td>Mozilla/4.0+(compatible;+MSIE+6.0;+Windows+NT+...</td>\n",
              "      <td>200</td>\n",
              "      <td>0</td>\n",
              "      <td>0</td>\n",
              "    </tr>\n",
              "    <tr>\n",
              "      <th>52909</th>\n",
              "      <td>2007-02-23</td>\n",
              "      <td>16:56:08</td>\n",
              "      <td>W3SVC1</td>\n",
              "      <td>127.0.0.1</td>\n",
              "      <td>GET</td>\n",
              "      <td>/Tulip/common/en-us/images/topmenu_zh-hk.gif</td>\n",
              "      <td>80</td>\n",
              "      <td>218.186.9.5</td>\n",
              "      <td>Mozilla/4.0+(compatible;+MSIE+6.0;+Windows+NT+...</td>\n",
              "      <td>200</td>\n",
              "      <td>0</td>\n",
              "      <td>0</td>\n",
              "    </tr>\n",
              "  </tbody>\n",
              "</table>\n",
              "</div>"
            ],
            "text/plain": [
              "             date      time s-sitename  ... sc-status sc-substatus sc-win32-status\n",
              "25357  2006-12-03  09:39:19     W3SVC1  ...       200            0               0\n",
              "89819  2006-12-04  15:30:01     W3SVC1  ...       200            0               0\n",
              "19333  2007-02-23  06:50:42     W3SVC1  ...       304            0              64\n",
              "29761  2006-11-17  06:35:25     W3SVC1  ...       200            0               0\n",
              "52909  2007-02-23  16:56:08     W3SVC1  ...       200            0               0\n",
              "\n",
              "[5 rows x 12 columns]"
            ]
          },
          "metadata": {
            "tags": []
          },
          "execution_count": 33
        }
      ]
    },
    {
      "cell_type": "markdown",
      "metadata": {
        "id": "qaKs1Ic5Ln8F"
      },
      "source": [
        "### 1.2 Feature Selection\n",
        "\n",
        "**Code**: \n",
        "    You are required to select *'cs_method'*,*'c_ip'*,*'cs_uri_stem'*,*'cs(User_Agent)'* as input features  and 'sc_status' as class label into a new dataframe ml_df for following Machine Learning Tasks. \n",
        "\n",
        "*Keep the outputs for code in your notebook.\n",
        "\n",
        "**Report**:\n",
        "    1. Data Description of ml_df,  \n",
        "    2. Print top 5 rows of ml_df.\n",
        "\n"
      ]
    },
    {
      "cell_type": "code",
      "metadata": {
        "colab": {
          "base_uri": "https://localhost:8080/",
          "height": 202
        },
        "id": "begZOxggN2A8",
        "outputId": "b76feaf1-5b71-4f6f-a3a4-c47bbc9e2ccd"
      },
      "source": [
        "# Your code for feature selection\n",
        "ml_df = weblog_df[['cs-method','c-ip','cs-uri-stem','cs(User-Agent)', 'sc-status']]\n",
        "ml_df = ml_df.reset_index(drop=True)\n",
        "\n",
        "\n",
        "#Your code to show the top 5 rows of ml_df\n",
        "ml_df[:5]"
      ],
      "execution_count": null,
      "outputs": [
        {
          "output_type": "execute_result",
          "data": {
            "text/html": [
              "<div>\n",
              "<style scoped>\n",
              "    .dataframe tbody tr th:only-of-type {\n",
              "        vertical-align: middle;\n",
              "    }\n",
              "\n",
              "    .dataframe tbody tr th {\n",
              "        vertical-align: top;\n",
              "    }\n",
              "\n",
              "    .dataframe thead th {\n",
              "        text-align: right;\n",
              "    }\n",
              "</style>\n",
              "<table border=\"1\" class=\"dataframe\">\n",
              "  <thead>\n",
              "    <tr style=\"text-align: right;\">\n",
              "      <th></th>\n",
              "      <th>cs-method</th>\n",
              "      <th>c-ip</th>\n",
              "      <th>cs-uri-stem</th>\n",
              "      <th>cs(User-Agent)</th>\n",
              "      <th>sc-status</th>\n",
              "    </tr>\n",
              "  </thead>\n",
              "  <tbody>\n",
              "    <tr>\n",
              "      <th>0</th>\n",
              "      <td>GET</td>\n",
              "      <td>218.102.231.100</td>\n",
              "      <td>/Tulip/common/en-us/images/topmenu_zh-hk.gif</td>\n",
              "      <td>Mozilla/4.0+(compatible;+MSIE+6.0;+Windows+NT+...</td>\n",
              "      <td>200</td>\n",
              "    </tr>\n",
              "    <tr>\n",
              "      <th>1</th>\n",
              "      <td>GET</td>\n",
              "      <td>218.190.226.30</td>\n",
              "      <td>/Tulip/common/en-us/images/top_logo.gif</td>\n",
              "      <td>Mozilla/4.0+(compatible;+MSIE+6.0;+Windows+NT+...</td>\n",
              "      <td>200</td>\n",
              "    </tr>\n",
              "    <tr>\n",
              "      <th>2</th>\n",
              "      <td>GET</td>\n",
              "      <td>203.241.147.26</td>\n",
              "      <td>/Tulip/common/en-us/images/sectionbanner_about...</td>\n",
              "      <td>Mozilla/4.0+(compatible;+MSIE+6.0;+Windows+NT+...</td>\n",
              "      <td>304</td>\n",
              "    </tr>\n",
              "    <tr>\n",
              "      <th>3</th>\n",
              "      <td>GET</td>\n",
              "      <td>203.85.132.97</td>\n",
              "      <td>/Tulip/public/2899_2.jpg</td>\n",
              "      <td>Mozilla/4.0+(compatible;+MSIE+6.0;+Windows+NT+...</td>\n",
              "      <td>200</td>\n",
              "    </tr>\n",
              "    <tr>\n",
              "      <th>4</th>\n",
              "      <td>GET</td>\n",
              "      <td>218.186.9.5</td>\n",
              "      <td>/Tulip/common/en-us/images/topmenu_zh-hk.gif</td>\n",
              "      <td>Mozilla/4.0+(compatible;+MSIE+6.0;+Windows+NT+...</td>\n",
              "      <td>200</td>\n",
              "    </tr>\n",
              "  </tbody>\n",
              "</table>\n",
              "</div>"
            ],
            "text/plain": [
              "  cs-method  ... sc-status\n",
              "0       GET  ...       200\n",
              "1       GET  ...       200\n",
              "2       GET  ...       304\n",
              "3       GET  ...       200\n",
              "4       GET  ...       200\n",
              "\n",
              "[5 rows x 5 columns]"
            ]
          },
          "metadata": {
            "tags": []
          },
          "execution_count": 12
        }
      ]
    },
    {
      "cell_type": "markdown",
      "metadata": {
        "id": "1j3dndKNMgDO"
      },
      "source": [
        "## 2.Unsupervised Learning\n",
        " You are required to complete this part only using **sklearn**.\n",
        "\n",
        "\n",
        "**Code**: \n",
        "    1. Perform unsupervised learning on ml_df with K Means, with a varying K from 2 to 10;\n",
        "    2. Plot in the elbow plot. \n",
        "    \n",
        "    *Keep the outputs for code in your notebook.\n",
        "\n",
        "**Report**:\n",
        "    1. Figure 'KMeans' in the elbow plot, with a varying K from 2 to 10.\n",
        "\n"
      ]
    },
    {
      "cell_type": "code",
      "metadata": {
        "colab": {
          "base_uri": "https://localhost:8080/"
        },
        "id": "RQHqVvCTYr3H",
        "outputId": "e816be37-35a3-4f23-a51b-c568b6d2d833"
      },
      "source": [
        "sc_status_labels = ml_df['sc-status'].unique()\n",
        "sc_status_labels"
      ],
      "execution_count": null,
      "outputs": [
        {
          "output_type": "execute_result",
          "data": {
            "text/plain": [
              "array(['200', '304', '404', '206', '302', '406', '500', '403', '501',\n",
              "       '301', '400', '416'], dtype=object)"
            ]
          },
          "metadata": {
            "tags": []
          },
          "execution_count": 13
        }
      ]
    },
    {
      "cell_type": "code",
      "metadata": {
        "colab": {
          "base_uri": "https://localhost:8080/",
          "height": 202
        },
        "id": "o0m6R9R5N6Kq",
        "outputId": "2b3e9e2e-4928-4f32-ecb8-6ce3a27538c3"
      },
      "source": [
        "from sklearn import preprocessing\n",
        "from sklearn.cluster import KMeans \n",
        "\n",
        "le_df = ml_df.apply(preprocessing.LabelEncoder().fit_transform)\n",
        "\n",
        "#Your code for Kmeans\n",
        "le_df.head()"
      ],
      "execution_count": null,
      "outputs": [
        {
          "output_type": "execute_result",
          "data": {
            "text/html": [
              "<div>\n",
              "<style scoped>\n",
              "    .dataframe tbody tr th:only-of-type {\n",
              "        vertical-align: middle;\n",
              "    }\n",
              "\n",
              "    .dataframe tbody tr th {\n",
              "        vertical-align: top;\n",
              "    }\n",
              "\n",
              "    .dataframe thead th {\n",
              "        text-align: right;\n",
              "    }\n",
              "</style>\n",
              "<table border=\"1\" class=\"dataframe\">\n",
              "  <thead>\n",
              "    <tr style=\"text-align: right;\">\n",
              "      <th></th>\n",
              "      <th>cs-method</th>\n",
              "      <th>c-ip</th>\n",
              "      <th>cs-uri-stem</th>\n",
              "      <th>cs(User-Agent)</th>\n",
              "      <th>sc-status</th>\n",
              "    </tr>\n",
              "  </thead>\n",
              "  <tbody>\n",
              "    <tr>\n",
              "      <th>0</th>\n",
              "      <td>0</td>\n",
              "      <td>26069</td>\n",
              "      <td>2125</td>\n",
              "      <td>863</td>\n",
              "      <td>0</td>\n",
              "    </tr>\n",
              "    <tr>\n",
              "      <th>1</th>\n",
              "      <td>0</td>\n",
              "      <td>31171</td>\n",
              "      <td>2119</td>\n",
              "      <td>1386</td>\n",
              "      <td>0</td>\n",
              "    </tr>\n",
              "    <tr>\n",
              "      <th>2</th>\n",
              "      <td>0</td>\n",
              "      <td>18482</td>\n",
              "      <td>2093</td>\n",
              "      <td>573</td>\n",
              "      <td>4</td>\n",
              "    </tr>\n",
              "    <tr>\n",
              "      <th>3</th>\n",
              "      <td>0</td>\n",
              "      <td>18825</td>\n",
              "      <td>2741</td>\n",
              "      <td>1386</td>\n",
              "      <td>0</td>\n",
              "    </tr>\n",
              "    <tr>\n",
              "      <th>4</th>\n",
              "      <td>0</td>\n",
              "      <td>30001</td>\n",
              "      <td>2125</td>\n",
              "      <td>1726</td>\n",
              "      <td>0</td>\n",
              "    </tr>\n",
              "  </tbody>\n",
              "</table>\n",
              "</div>"
            ],
            "text/plain": [
              "   cs-method   c-ip  cs-uri-stem  cs(User-Agent)  sc-status\n",
              "0          0  26069         2125             863          0\n",
              "1          0  31171         2119            1386          0\n",
              "2          0  18482         2093             573          4\n",
              "3          0  18825         2741            1386          0\n",
              "4          0  30001         2125            1726          0"
            ]
          },
          "metadata": {
            "tags": []
          },
          "execution_count": 14
        }
      ]
    },
    {
      "cell_type": "code",
      "metadata": {
        "colab": {
          "base_uri": "https://localhost:8080/"
        },
        "id": "5jrPdTYSY3zm",
        "outputId": "fcb4be27-baf8-4aff-fe6b-4ea2964df0c3"
      },
      "source": [
        "sc_status_labels = le_df['sc-status'].unique()\n",
        "sc_status_labels"
      ],
      "execution_count": null,
      "outputs": [
        {
          "output_type": "execute_result",
          "data": {
            "text/plain": [
              "array([ 0,  4,  7,  1,  3,  8, 10,  6, 11,  2,  5,  9])"
            ]
          },
          "metadata": {
            "tags": []
          },
          "execution_count": 14
        }
      ]
    },
    {
      "cell_type": "code",
      "metadata": {
        "colab": {
          "base_uri": "https://localhost:8080/"
        },
        "id": "imvEFH1LY8hn",
        "outputId": "985b9e47-8dfc-40a7-87af-d398e1c6de51"
      },
      "source": [
        "my_classes = le_df['sc-status']\n",
        "my_features = le_df.drop('sc-status', axis=1)\n",
        "print(my_classes)\n",
        "print(my_features)"
      ],
      "execution_count": null,
      "outputs": [
        {
          "output_type": "stream",
          "text": [
            "0          0\n",
            "1          0\n",
            "2          4\n",
            "3          0\n",
            "4          0\n",
            "          ..\n",
            "2530615    0\n",
            "2530616    0\n",
            "2530617    0\n",
            "2530618    4\n",
            "2530619    4\n",
            "Name: sc-status, Length: 2530620, dtype: int64\n",
            "         cs-method   c-ip  cs-uri-stem  cs(User-Agent)\n",
            "0                0  26069         2125             863\n",
            "1                0  31171         2119            1386\n",
            "2                0  18482         2093             573\n",
            "3                0  18825         2741            1386\n",
            "4                0  30001         2125            1726\n",
            "...            ...    ...          ...             ...\n",
            "2530615          0   7632         2437            1535\n",
            "2530616          0  17824         2990            1562\n",
            "2530617          0  31478         2104            1278\n",
            "2530618          0   9446         2324            1535\n",
            "2530619          0  30679         2304            1562\n",
            "\n",
            "[2530620 rows x 4 columns]\n"
          ],
          "name": "stdout"
        }
      ]
    },
    {
      "cell_type": "code",
      "metadata": {
        "colab": {
          "base_uri": "https://localhost:8080/",
          "height": 295
        },
        "id": "aqkdq8bFY2Uz",
        "outputId": "886617d1-d279-4b68-fe9a-ddf4a0fdd695"
      },
      "source": [
        "#Your code for visualizing K means result as elbow plot.\n",
        "from sklearn.preprocessing import MinMaxScaler\n",
        "from sklearn.cluster import KMeans\n",
        "import matplotlib.pyplot as plt\n",
        "\n",
        "sum_of_distn = []\n",
        "krange = range(2,11)\n",
        "for i in krange:\n",
        "    kmean = KMeans(n_clusters=i)\n",
        "    kmean = kmean.fit(my_features)\n",
        "    sum_of_distn.append(kmean.inertia_)\n",
        "plt.plot(krange, sum_of_distn, 'x-')\n",
        "plt.xlabel('Number of clusters (k)')\n",
        "plt.ylabel('Sum of squared distance')\n",
        "plt.title('Elbow method for finding optimal number of clusters')\n",
        "plt.show()"
      ],
      "execution_count": null,
      "outputs": [
        {
          "output_type": "display_data",
          "data": {
            "image/png": "[encoded data removed]",
            "text/plain": [
              "<Figure size 432x288 with 1 Axes>"
            ]
          },
          "metadata": {
            "tags": [],
            "needs_background": "light"
          }
        }
      ]
    },
    {
      "cell_type": "markdown",
      "metadata": {
        "id": "dU6zSmu0OEHC"
      },
      "source": [
        "## 3.Supervised Learning\n",
        " You are required to complete this part only using **PySpark**.\n"
      ]
    },
    {
      "cell_type": "code",
      "metadata": {
        "colab": {
          "base_uri": "https://localhost:8080/"
        },
        "id": "fh8-pmiTQuza",
        "outputId": "9355b39f-5fad-4bba-baeb-d3d1dcb03767"
      },
      "source": [
        "!apt-get update\n",
        "# install Java8\n",
        "!apt-get install openjdk-8-jdk-headless -qq > /dev/null\n",
        "# download spark 3.1.1\n",
        "!wget -q http://apache.osuosl.org/spark/spark-3.1.1/spark-3.1.1-bin-hadoop3.2.tgz\n",
        "# unzip it\n",
        "!tar xf spark-3.1.1-bin-hadoop3.2.tgz\n",
        "# install findspark \n",
        "!pip install -q findspark\n",
        "\n",
        "import os\n",
        "os.environ[\"JAVA_HOME\"] = \"/usr/lib/jvm/java-8-openjdk-amd64\"\n",
        "os.environ[\"SPARK_HOME\"] = \"/content/spark-3.1.1-bin-hadoop3.2\"\n",
        "\n",
        "import findspark \n",
        "findspark.init() "
      ],
      "execution_count": null,
      "outputs": [
        {
          "output_type": "stream",
          "text": [
            "\r0% [Working]\r            \rIgn:1 https://developer.download.nvidia.com/compute/cuda/repos/ubuntu1804/x86_64  InRelease\n",
            "\r0% [Connecting to archive.ubuntu.com] [Connecting to security.ubuntu.com (91.18\r                                                                               \rIgn:2 https://developer.download.nvidia.com/compute/machine-learning/repos/ubuntu1804/x86_64  InRelease\n",
            "\r0% [Connecting to archive.ubuntu.com (91.189.88.152)] [Waiting for headers] [Co\r                                                                               \rHit:3 https://developer.download.nvidia.com/compute/cuda/repos/ubuntu1804/x86_64  Release\n",
            "\r0% [Connecting to archive.ubuntu.com (91.189.88.152)] [Waiting for headers] [Co\r0% [Release.gpg gpgv 697 B] [Connecting to archive.ubuntu.com (91.189.88.152)] \r                                                                               \rHit:4 https://developer.download.nvidia.com/compute/machine-learning/repos/ubuntu1804/x86_64  Release\n",
            "Get:5 http://security.ubuntu.com/ubuntu bionic-security InRelease [88.7 kB]\n",
            "Hit:6 http://ppa.launchpad.net/c2d4u.team/c2d4u4.0+/ubuntu bionic InRelease\n",
            "Hit:7 http://archive.ubuntu.com/ubuntu bionic InRelease\n",
            "Get:9 http://archive.ubuntu.com/ubuntu bionic-updates InRelease [88.7 kB]\n",
            "Hit:10 http://ppa.launchpad.net/cran/libgit2/ubuntu bionic InRelease\n",
            "Hit:11 https://cloud.r-project.org/bin/linux/ubuntu bionic-cran40/ InRelease\n",
            "Hit:13 http://ppa.launchpad.net/deadsnakes/ppa/ubuntu bionic InRelease\n",
            "Get:14 http://archive.ubuntu.com/ubuntu bionic-backports InRelease [74.6 kB]\n",
            "Hit:15 http://ppa.launchpad.net/graphics-drivers/ppa/ubuntu bionic InRelease\n",
            "Fetched 252 kB in 2s (101 kB/s)\n",
            "Reading package lists... Done\n"
          ],
          "name": "stdout"
        }
      ]
    },
    {
      "cell_type": "code",
      "metadata": {
        "id": "HRzcbPF4Pskq"
      },
      "source": [
        "from pyspark.sql import SparkSession \n",
        "from pyspark.sql.types import *\n",
        "\n",
        "spark = SparkSession.builder.appName('SIT742T2').getOrCreate()"
      ],
      "execution_count": null,
      "outputs": []
    },
    {
      "cell_type": "markdown",
      "metadata": {
        "id": "RncKyIESOMnJ"
      },
      "source": [
        "### 3.1 Data Preparation \n",
        "\n",
        "In order to reduce the processing time, we will select 10% of le_df."
      ]
    },
    {
      "cell_type": "code",
      "metadata": {
        "id": "DE23Ll_fOS5J"
      },
      "source": [
        "schema = StructType([StructField(\"sc_status\", IntegerType(), True),\n",
        "                     StructField(\"cs_method\", IntegerType(), True),\n",
        "                     StructField(\"c_ip\", IntegerType(), True),\n",
        "                     StructField(\"cs_uri_stem\", IntegerType(), True),\n",
        "                     StructField(\"cs(User_Agent)\", IntegerType(), True)])\n",
        "\n",
        "sl_df = spark.createDataFrame(le_df, schema)"
      ],
      "execution_count": null,
      "outputs": []
    },
    {
      "cell_type": "code",
      "metadata": {
        "id": "dJdQe_8tPvlF"
      },
      "source": [
        "#Only 10% of the data is used in this part.\n",
        "sl_df = sl_df.sample(fraction=0.1, seed=1)"
      ],
      "execution_count": null,
      "outputs": []
    },
    {
      "cell_type": "code",
      "metadata": {
        "colab": {
          "base_uri": "https://localhost:8080/"
        },
        "id": "Ut3zjBOyU2FU",
        "outputId": "94fa100a-be00-468a-fb0f-7d97052f63de"
      },
      "source": [
        "from pyspark.ml.linalg import Vectors\n",
        "from pyspark.ml.feature import VectorAssembler\n",
        "# transformer\n",
        "vector_assembler = VectorAssembler(inputCols=['cs_method', 'c_ip', 'cs_uri_stem', 'cs(User_Agent)'],outputCol=\"features\")\n",
        "df_temp = vector_assembler.transform(sl_df)\n",
        "df_temp.show(3)"
      ],
      "execution_count": null,
      "outputs": [
        {
          "output_type": "stream",
          "text": [
            "+---------+---------+----+-----------+--------------+--------------------+\n",
            "|sc_status|cs_method|c_ip|cs_uri_stem|cs(User_Agent)|            features|\n",
            "+---------+---------+----+-----------+--------------+--------------------+\n",
            "|        0|    18825|2741|       1386|             0|[18825.0,2741.0,1...|\n",
            "|        0|    68103|2425|       1460|             0|[68103.0,2425.0,1...|\n",
            "|        0|    41459|2087|       4239|             0|[41459.0,2087.0,4...|\n",
            "+---------+---------+----+-----------+--------------+--------------------+\n",
            "only showing top 3 rows\n",
            "\n"
          ],
          "name": "stdout"
        }
      ]
    },
    {
      "cell_type": "code",
      "metadata": {
        "colab": {
          "base_uri": "https://localhost:8080/"
        },
        "id": "JBoKE5tYVdXj",
        "outputId": "6d11ce12-c489-48ef-b4d1-90e08be1e6f5"
      },
      "source": [
        "df_sl = df_temp.drop('cs_method', 'c_ip', 'cs_uri_stem', 'cs(User_Agent)')\n",
        "df_sl.show(3)"
      ],
      "execution_count": null,
      "outputs": [
        {
          "output_type": "stream",
          "text": [
            "+---------+--------------------+\n",
            "|sc_status|            features|\n",
            "+---------+--------------------+\n",
            "|        0|[18825.0,2741.0,1...|\n",
            "|        0|[68103.0,2425.0,1...|\n",
            "|        0|[41459.0,2087.0,4...|\n",
            "+---------+--------------------+\n",
            "only showing top 3 rows\n",
            "\n"
          ],
          "name": "stdout"
        }
      ]
    },
    {
      "cell_type": "code",
      "metadata": {
        "colab": {
          "base_uri": "https://localhost:8080/"
        },
        "id": "6Jj3OyiKbHJ4",
        "outputId": "9ae77587-6756-4833-8c27-849fbdcfae58"
      },
      "source": [
        "df_sl.printSchema()"
      ],
      "execution_count": null,
      "outputs": [
        {
          "output_type": "stream",
          "text": [
            "root\n",
            " |-- sc_status: integer (nullable = true)\n",
            " |-- features: vector (nullable = true)\n",
            "\n"
          ],
          "name": "stdout"
        }
      ]
    },
    {
      "cell_type": "markdown",
      "metadata": {
        "id": "12YtMZE0OTOR"
      },
      "source": [
        "###  3.2 Decision Tree or Logistic Regression\n",
        "\n",
        " <div class=\"alert alert-block alert-info\">\n",
        "\n",
        "**Code**: \n",
        "    1. Perform supervised learning on ml\\_df with Decision Tree or Logistic Regression,  <br>\n",
        "    2. Evaluate the classification result using [confusion matrix ](https://en.wikipedia.org/wiki/Confusion_matrix) including TP, TN, FP, FN, <br>\n",
        "    3. Evaluate the classification result using Precision, Recall and F1 score.\n",
        "    <br>\n",
        "    *Keep the outputs for code in your notebook.\n",
        "\n",
        "**Report**:\n",
        "    1. Display the classification result using [confusion matrix ](https://en.wikipedia.org/wiki/Confusion_matrix) including TP, TN, FP, FN, <br>\n",
        "    2. Display the classification result using Precision, Recall and F1 score.\n",
        "</div>"
      ]
    },
    {
      "cell_type": "code",
      "metadata": {
        "colab": {
          "base_uri": "https://localhost:8080/"
        },
        "id": "M_XZqsSAOr4a",
        "outputId": "11ff20b2-f99e-4a4b-ee27-6ae2fcb02244"
      },
      "source": [
        "#Create the data sets for training and testing\n",
        "(trainingData, testData) = df_sl.randomSplit([0.7, 0.3])\n",
        "\n",
        "print(\"Training Dataset Count: \" + str(trainingData.count()))\n",
        "print(\"Test Dataset Count: \" + str(testData.count()))"
      ],
      "execution_count": null,
      "outputs": [
        {
          "output_type": "stream",
          "text": [
            "Training Dataset Count: 177132\n",
            "Test Dataset Count: 75897\n"
          ],
          "name": "stdout"
        }
      ]
    },
    {
      "cell_type": "code",
      "metadata": {
        "colab": {
          "base_uri": "https://localhost:8080/"
        },
        "id": "9Ltym24Pbhpl",
        "outputId": "d81fbba3-9643-4ad9-a201-5d305a2e5df6"
      },
      "source": [
        "trainingData.dtypes"
      ],
      "execution_count": null,
      "outputs": [
        {
          "output_type": "execute_result",
          "data": {
            "text/plain": [
              "[('sc_status', 'int'), ('features', 'vector')]"
            ]
          },
          "metadata": {
            "tags": []
          },
          "execution_count": 24
        }
      ]
    },
    {
      "cell_type": "code",
      "metadata": {
        "id": "19Ri7rpuOxk6"
      },
      "source": [
        "from pyspark.ml.classification import DecisionTreeClassifier\n",
        "from pyspark.ml.evaluation import MulticlassClassificationEvaluator\n",
        "from pyspark.ml import Pipeline\n",
        "from pyspark.ml.tuning import ParamGridBuilder, CrossValidator\n",
        "# Your code contains trainning from train data and predicting based on the test data\n",
        "\n",
        "dt = DecisionTreeClassifier(featuresCol=\"features\", labelCol=\"sc_status\")\n",
        "# model = dt.fit(trainingData)\n",
        "# predictions = model.transform(testData)"
      ],
      "execution_count": null,
      "outputs": []
    },
    {
      "cell_type": "code",
      "metadata": {
        "colab": {
          "base_uri": "https://localhost:8080/"
        },
        "id": "EZb-BNYJdFo-",
        "outputId": "32d087b8-2b51-4752-f1fe-6c32cd9e270f"
      },
      "source": [
        "evaluator = MulticlassClassificationEvaluator(labelCol=\"sc_status\")\n",
        "pipeline = Pipeline(stages=[dt])\n",
        "paramGrid = (ParamGridBuilder()\n",
        "             .addGrid(dt.maxDepth, [1, 2, 6, 10])\n",
        "             .addGrid(dt.maxBins, [20, 40, 80])\n",
        "             .build())\n",
        "\n",
        "\n",
        "crossval = CrossValidator(estimator=pipeline,\n",
        "                          estimatorParamMaps=paramGrid,\n",
        "                          evaluator=evaluator,\n",
        "                          numFolds=2)\n",
        "\n",
        "\n",
        "\n",
        "cvModel = crossval.fit(trainingData)\n",
        "\n",
        "# RMSE from cross-validation\n",
        "print(cvModel.avgMetrics)\n",
        "# RMSE on testing data\n",
        "print(evaluator.evaluate(cvModel.transform(testData)))"
      ],
      "execution_count": null,
      "outputs": [
        {
          "output_type": "stream",
          "text": [
            "[0.9969267985807335, 0.9969267985807335, 0.9969408885865885, 0.9969116360780805, 0.9970674282670116, 0.997038858617286, 0.9974526076642577, 0.9977853730442029, 0.9975526473317778, 0.9984299488923329, 0.9988296811706285, 0.9989997218993623]\n",
            "0.9991198684591509\n"
          ],
          "name": "stdout"
        }
      ]
    },
    {
      "cell_type": "code",
      "metadata": {
        "id": "MeuF-oej9wZQ"
      },
      "source": [
        "predictions = cvModel.transform(testData)"
      ],
      "execution_count": null,
      "outputs": []
    },
    {
      "cell_type": "code",
      "metadata": {
        "colab": {
          "base_uri": "https://localhost:8080/",
          "height": 202
        },
        "id": "QGXh6GNJb-S7",
        "outputId": "46cd37c3-995a-4d5c-e809-1bf044c639c3"
      },
      "source": [
        "predictions.select('sc_status','features','rawPrediction','prediction','probability').toPandas().head(5)"
      ],
      "execution_count": null,
      "outputs": [
        {
          "output_type": "execute_result",
          "data": {
            "text/html": [
              "<div>\n",
              "<style scoped>\n",
              "    .dataframe tbody tr th:only-of-type {\n",
              "        vertical-align: middle;\n",
              "    }\n",
              "\n",
              "    .dataframe tbody tr th {\n",
              "        vertical-align: top;\n",
              "    }\n",
              "\n",
              "    .dataframe thead th {\n",
              "        text-align: right;\n",
              "    }\n",
              "</style>\n",
              "<table border=\"1\" class=\"dataframe\">\n",
              "  <thead>\n",
              "    <tr style=\"text-align: right;\">\n",
              "      <th></th>\n",
              "      <th>sc_status</th>\n",
              "      <th>features</th>\n",
              "      <th>rawPrediction</th>\n",
              "      <th>prediction</th>\n",
              "      <th>probability</th>\n",
              "    </tr>\n",
              "  </thead>\n",
              "  <tbody>\n",
              "    <tr>\n",
              "      <th>0</th>\n",
              "      <td>0</td>\n",
              "      <td>[4.0, 1866.0, 899.0, 0.0]</td>\n",
              "      <td>[15424.0, 3.0, 0.0, 3.0, 0.0, 0.0]</td>\n",
              "      <td>0.0</td>\n",
              "      <td>[0.9996111471160077, 0.00019442644199611146, 0...</td>\n",
              "    </tr>\n",
              "    <tr>\n",
              "      <th>1</th>\n",
              "      <td>0</td>\n",
              "      <td>[4.0, 2119.0, 899.0, 4.0]</td>\n",
              "      <td>[86657.0, 0.0, 0.0, 0.0, 0.0, 0.0]</td>\n",
              "      <td>0.0</td>\n",
              "      <td>[1.0, 0.0, 0.0, 0.0, 0.0, 0.0]</td>\n",
              "    </tr>\n",
              "    <tr>\n",
              "      <th>2</th>\n",
              "      <td>0</td>\n",
              "      <td>[7.0, 1059.0, 196.0, 0.0]</td>\n",
              "      <td>[387.0, 0.0, 0.0, 0.0, 0.0, 0.0]</td>\n",
              "      <td>0.0</td>\n",
              "      <td>[1.0, 0.0, 0.0, 0.0, 0.0, 0.0]</td>\n",
              "    </tr>\n",
              "    <tr>\n",
              "      <th>3</th>\n",
              "      <td>0</td>\n",
              "      <td>[10.0, 2124.0, 1386.0, 0.0]</td>\n",
              "      <td>[86657.0, 0.0, 0.0, 0.0, 0.0, 0.0]</td>\n",
              "      <td>0.0</td>\n",
              "      <td>[1.0, 0.0, 0.0, 0.0, 0.0, 0.0]</td>\n",
              "    </tr>\n",
              "    <tr>\n",
              "      <th>4</th>\n",
              "      <td>0</td>\n",
              "      <td>[16.0, 2146.0, 561.0, 4.0]</td>\n",
              "      <td>[86657.0, 0.0, 0.0, 0.0, 0.0, 0.0]</td>\n",
              "      <td>0.0</td>\n",
              "      <td>[1.0, 0.0, 0.0, 0.0, 0.0, 0.0]</td>\n",
              "    </tr>\n",
              "  </tbody>\n",
              "</table>\n",
              "</div>"
            ],
            "text/plain": [
              "   sc_status  ...                                        probability\n",
              "0          0  ...  [0.9996111471160077, 0.00019442644199611146, 0...\n",
              "1          0  ...                     [1.0, 0.0, 0.0, 0.0, 0.0, 0.0]\n",
              "2          0  ...                     [1.0, 0.0, 0.0, 0.0, 0.0, 0.0]\n",
              "3          0  ...                     [1.0, 0.0, 0.0, 0.0, 0.0, 0.0]\n",
              "4          0  ...                     [1.0, 0.0, 0.0, 0.0, 0.0, 0.0]\n",
              "\n",
              "[5 rows x 5 columns]"
            ]
          },
          "metadata": {
            "tags": []
          },
          "execution_count": 28
        }
      ]
    },
    {
      "cell_type": "code",
      "metadata": {
        "colab": {
          "base_uri": "https://localhost:8080/"
        },
        "id": "jXjzEnXncCQm",
        "outputId": "60586680-7274-4021-ae1c-8ded8b5b9a45"
      },
      "source": [
        "predictions.select(\"prediction\", \"sc_status\", \"features\").show(5)"
      ],
      "execution_count": null,
      "outputs": [
        {
          "output_type": "stream",
          "text": [
            "+----------+---------+--------------------+\n",
            "|prediction|sc_status|            features|\n",
            "+----------+---------+--------------------+\n",
            "|       0.0|        0|[4.0,1866.0,899.0...|\n",
            "|       0.0|        0|[4.0,2119.0,899.0...|\n",
            "|       0.0|        0|[7.0,1059.0,196.0...|\n",
            "|       0.0|        0|[10.0,2124.0,1386...|\n",
            "|       0.0|        0|[16.0,2146.0,561....|\n",
            "+----------+---------+--------------------+\n",
            "only showing top 5 rows\n",
            "\n"
          ],
          "name": "stdout"
        }
      ]
    },
    {
      "cell_type": "code",
      "metadata": {
        "colab": {
          "base_uri": "https://localhost:8080/"
        },
        "id": "nH0q0DIPcKCw",
        "outputId": "a0856b9b-4a82-41e5-a6e0-e268e3a86750"
      },
      "source": [
        "class_temp = predictions.select(\"sc_status\").groupBy(\"sc_status\").count().sort('count', ascending=False).toPandas()\n",
        "class_temp = class_temp[\"sc_status\"].values.tolist()\n",
        "class_temp"
      ],
      "execution_count": null,
      "outputs": [
        {
          "output_type": "execute_result",
          "data": {
            "text/plain": [
              "[0, 3, 1, 2, 5, 4]"
            ]
          },
          "metadata": {
            "tags": []
          },
          "execution_count": 30
        }
      ]
    },
    {
      "cell_type": "code",
      "metadata": {
        "colab": {
          "base_uri": "https://localhost:8080/"
        },
        "id": "-NCjW-GjcOZp",
        "outputId": "bf77e3fd-0654-4a01-e5a0-169acda0ac04"
      },
      "source": [
        "from sklearn.metrics import confusion_matrix\n",
        "y_true = predictions.select(\"sc_status\")\n",
        "y_true = y_true.toPandas()\n",
        "\n",
        "y_pred = predictions.select(\"prediction\")\n",
        "y_pred = y_pred.toPandas()\n",
        "\n",
        "cnf_matrix = confusion_matrix(y_true, y_pred,labels=class_temp)\n",
        "cnf_matrix"
      ],
      "execution_count": null,
      "outputs": [
        {
          "output_type": "execute_result",
          "data": {
            "text/plain": [
              "array([[75734,     2,     9,     0,     2,     0],\n",
              "       [   14,    59,     0,     0,     0,     0],\n",
              "       [   34,     0,    35,     0,     0,     0],\n",
              "       [    0,     0,     0,     6,     0,     0],\n",
              "       [    0,     0,     0,     0,     0,     1],\n",
              "       [    0,     0,     0,     0,     0,     1]])"
            ]
          },
          "metadata": {
            "tags": []
          },
          "execution_count": 31
        }
      ]
    },
    {
      "cell_type": "code",
      "metadata": {
        "id": "Nmx7vXdBcYqd"
      },
      "source": [
        "import itertools\n",
        "\n",
        "def print_confusion_matrix(cnf_matrix, classes,\n",
        "                          normalize=False,\n",
        "                          title='Confusion matrix',\n",
        "                          cmap=plt.cm.Blues):\n",
        "    if normalize:\n",
        "        cnf_matrix = cnf_matrix.astype('float') / cnf_matrix.sum(axis=1)[:, np.newaxis]\n",
        "        print(\"Normalized confusion matrix\")\n",
        "    else:\n",
        "        print('Confusion matrix, without normalization')\n",
        "\n",
        "    print(cnf_matrix)\n",
        "\n",
        "    plt.imshow(cnf_matrix, interpolation='nearest', cmap=cmap)\n",
        "    plt.title(title)\n",
        "    plt.colorbar()\n",
        "    tick_marks = np.arange(len(classes))\n",
        "    plt.xticks(tick_marks, classes, rotation=45)\n",
        "    plt.yticks(tick_marks, classes)\n",
        "\n",
        "    fmt = '.2f' if normalize else 'd'\n",
        "    thresh = cnf_matrix.max() / 2.\n",
        "    for i, j in itertools.product(range(cnf_matrix.shape[0]), range(cnf_matrix.shape[1])):\n",
        "        plt.text(j, i, format(cnf_matrix[i, j], fmt),\n",
        "                 horizontalalignment=\"center\",\n",
        "                 color=\"white\" if cnf_matrix[i, j] > thresh else \"black\")\n",
        "\n",
        "    plt.tight_layout()\n",
        "    plt.ylabel('True label')\n",
        "    plt.xlabel('Predicted label')"
      ],
      "execution_count": null,
      "outputs": []
    },
    {
      "cell_type": "code",
      "metadata": {
        "colab": {
          "base_uri": "https://localhost:8080/",
          "height": 433
        },
        "id": "FuSPeIZkcarQ",
        "outputId": "83ab511d-1f5c-4e03-f52e-c43a1390e7c3"
      },
      "source": [
        "# Plot non-normalized confusion matrix\n",
        "plt.figure()\n",
        "print_confusion_matrix(cnf_matrix, classes=class_temp, title='Confusion matrix, without normalization')\n",
        "plt.show()"
      ],
      "execution_count": null,
      "outputs": [
        {
          "output_type": "stream",
          "text": [
            "Confusion matrix, without normalization\n",
            "[[75734     2     9     0     2     0]\n",
            " [   14    59     0     0     0     0]\n",
            " [   34     0    35     0     0     0]\n",
            " [    0     0     0     6     0     0]\n",
            " [    0     0     0     0     0     1]\n",
            " [    0     0     0     0     0     1]]\n"
          ],
          "name": "stdout"
        },
        {
          "output_type": "display_data",
          "data": {
            "image/png": "[encoded data removed]",
            "text/plain": [
              "<Figure size 432x288 with 2 Axes>"
            ]
          },
          "metadata": {
            "tags": [],
            "needs_background": "light"
          }
        }
      ]
    },
    {
      "cell_type": "code",
      "metadata": {
        "colab": {
          "base_uri": "https://localhost:8080/",
          "height": 537
        },
        "id": "tsOJWa84cdgR",
        "outputId": "3905ddfc-cd47-4eeb-a349-82b0d7dd6e4a"
      },
      "source": [
        "# Plot normalized confusion matrix\n",
        "plt.figure()\n",
        "print_confusion_matrix(cnf_matrix, classes=class_temp, normalize=True, title='Normalized confusion matrix')\n",
        "\n",
        "plt.show()"
      ],
      "execution_count": null,
      "outputs": [
        {
          "output_type": "stream",
          "text": [
            "Normalized confusion matrix\n",
            "[[9.99828376e-01 2.64036860e-05 1.18816587e-04 0.00000000e+00\n",
            "  2.64036860e-05 0.00000000e+00]\n",
            " [1.91780822e-01 8.08219178e-01 0.00000000e+00 0.00000000e+00\n",
            "  0.00000000e+00 0.00000000e+00]\n",
            " [4.92753623e-01 0.00000000e+00 5.07246377e-01 0.00000000e+00\n",
            "  0.00000000e+00 0.00000000e+00]\n",
            " [0.00000000e+00 0.00000000e+00 0.00000000e+00 1.00000000e+00\n",
            "  0.00000000e+00 0.00000000e+00]\n",
            " [0.00000000e+00 0.00000000e+00 0.00000000e+00 0.00000000e+00\n",
            "  0.00000000e+00 1.00000000e+00]\n",
            " [0.00000000e+00 0.00000000e+00 0.00000000e+00 0.00000000e+00\n",
            "  0.00000000e+00 1.00000000e+00]]\n"
          ],
          "name": "stdout"
        },
        {
          "output_type": "display_data",
          "data": {
            "image/png": "[encoded data removed]",
            "text/plain": [
              "<Figure size 432x288 with 2 Axes>"
            ]
          },
          "metadata": {
            "tags": [],
            "needs_background": "light"
          }
        }
      ]
    },
    {
      "cell_type": "code",
      "metadata": {
        "colab": {
          "base_uri": "https://localhost:8080/"
        },
        "id": "-rwVzoLHcgC2",
        "outputId": "e7cb0f81-13e2-43c3-9600-6d2bdb712048"
      },
      "source": [
        "# Select (prediction, true label) and compute test error\n",
        "evaluator = MulticlassClassificationEvaluator(\n",
        "    labelCol=\"sc_status\", predictionCol=\"prediction\", metricName=\"accuracy\")\n",
        "accuracy = evaluator.evaluate(predictions)\n",
        "print(\"Accuracy = \", accuracy)\n",
        "print(\"Test Error = %g\" % (1.0 - accuracy))"
      ],
      "execution_count": null,
      "outputs": [
        {
          "output_type": "stream",
          "text": [
            "Accuracy =  0.9991831034164723\n",
            "Test Error = 0.000816897\n"
          ],
          "name": "stdout"
        }
      ]
    },
    {
      "cell_type": "code",
      "metadata": {
        "colab": {
          "base_uri": "https://localhost:8080/"
        },
        "id": "66ESM5L3O1cp",
        "outputId": "532fc161-7ddf-459a-a836-87d29ede1891"
      },
      "source": [
        "# Your code to display TP, TN, FP, FN\n",
        "TP = np.diag(cnf_matrix)\n",
        "print(\"TP = \",TP)\n",
        "\n",
        "FP = []\n",
        "for i in range(5):\n",
        "    FP.append(sum(cnf_matrix[:,i]) - cnf_matrix[i,i])\n",
        "print(\"FP = \",FP)\n",
        "\n",
        "FN = []\n",
        "for i in range(5):\n",
        "    FN.append(sum(cnf_matrix[i,:]) - cnf_matrix[i,i])\n",
        "print(\"FN = \",FN)\n",
        "\n",
        "TN = []\n",
        "for i in range(5):\n",
        "    temp = np.delete(cnf_matrix, i, 0)   # delete ith row\n",
        "    temp = np.delete(temp, i, 1)  # delete ith column\n",
        "    TN.append(sum(sum(temp)))\n",
        "print(\"TN = \",TN)"
      ],
      "execution_count": null,
      "outputs": [
        {
          "output_type": "stream",
          "text": [
            "TP =  [75734    59    35     6     0     1]\n",
            "FP =  [48, 2, 9, 0, 2]\n",
            "FN =  [13, 14, 34, 0, 1]\n",
            "TN =  [102, 75822, 75819, 75891, 75894]\n"
          ],
          "name": "stdout"
        }
      ]
    },
    {
      "cell_type": "code",
      "metadata": {
        "colab": {
          "base_uri": "https://localhost:8080/"
        },
        "id": "9BZB16gVO2pq",
        "outputId": "384714b7-e654-4d36-f6fa-33d416fbdcd0"
      },
      "source": [
        "from sklearn.metrics import classification_report\n",
        "\n",
        "# Your Code to display the classification results as required.\n",
        "print(classification_report(y_true, y_pred, zero_division=1))"
      ],
      "execution_count": null,
      "outputs": [
        {
          "output_type": "stream",
          "text": [
            "              precision    recall  f1-score   support\n",
            "\n",
            "           0       1.00      1.00      1.00     75747\n",
            "           1       0.80      0.51      0.62        69\n",
            "           2       1.00      1.00      1.00         6\n",
            "           3       0.97      0.81      0.88        73\n",
            "           4       0.50      1.00      0.67         1\n",
            "           5       0.00      0.00      0.00         1\n",
            "\n",
            "    accuracy                           1.00     75897\n",
            "   macro avg       0.71      0.72      0.69     75897\n",
            "weighted avg       1.00      1.00      1.00     75897\n",
            "\n"
          ],
          "name": "stdout"
        }
      ]
    },
    {
      "cell_type": "code",
      "metadata": {
        "colab": {
          "base_uri": "https://localhost:8080/"
        },
        "id": "NxGbaYhA6QfC",
        "outputId": "17c18932-be83-41bc-b3f9-23966bc4e586"
      },
      "source": [
        "#Free the memory\n",
        "import gc\n",
        "del missing_data\n",
        "del temp\n",
        "del weblog_df\n",
        "del ml_df\n",
        "gc.collect()"
      ],
      "execution_count": null,
      "outputs": [
        {
          "output_type": "execute_result",
          "data": {
            "text/plain": [
              "11587"
            ]
          },
          "metadata": {
            "tags": []
          },
          "execution_count": 38
        }
      ]
    },
    {
      "cell_type": "markdown",
      "metadata": {
        "id": "vt5iA23HO5uC"
      },
      "source": [
        "### 3.3 K-fold Cross-Validation\n",
        "You are required to use K-fold cross validation to find out the best hyper-parameter set, where K = 2.\n",
        "<div class=\"alert alert-block alert-info\">\n",
        "\n",
        "**Code**: \n",
        "Implement 2-fold cross validation for three (any three) classification models, where K = 2.\n",
        "    <br>\n",
        "    *Keep the outputs for code in your notebook.\n",
        "\n",
        "**Report**:\n",
        "    1.  Your code design and running results, <br>\n",
        "\t\t2.  Your findings on hyper-parameters based on this cross-validation  results (Best results).\n",
        "</div>"
      ]
    },
    {
      "cell_type": "code",
      "metadata": {
        "id": "jgJtFjqKPEFD"
      },
      "source": [
        "from pyspark.ml import Pipeline\n",
        "# K = 2\n",
        "# Your code for 2-fold cross validation"
      ],
      "execution_count": null,
      "outputs": []
    },
    {
      "cell_type": "markdown",
      "metadata": {
        "id": "czkyD5KOx-KG"
      },
      "source": [
        "Logistic Regression\n"
      ]
    },
    {
      "cell_type": "code",
      "metadata": {
        "colab": {
          "base_uri": "https://localhost:8080/"
        },
        "id": "HT6Oflv1x_-7",
        "outputId": "dfa7c2e4-ea49-45bc-ec8c-04e2e85a98d5"
      },
      "source": [
        "from pyspark.ml.classification import LogisticRegression\n",
        "\n",
        "lr = LogisticRegression(featuresCol=\"features\", labelCol=\"sc_status\", elasticNetParam=0.8)\n",
        "\n",
        "evaluator = MulticlassClassificationEvaluator(labelCol=\"sc_status\")\n",
        "pipeline = Pipeline(stages=[lr])\n",
        "paramGrid = (ParamGridBuilder().addGrid(lr.regParam, [1.0, 2.0]).addGrid(lr.maxIter, [1, 5]).build())\n",
        "\n",
        "\n",
        "crossval = CrossValidator(estimator=pipeline,\n",
        "                          estimatorParamMaps=paramGrid,\n",
        "                          evaluator=evaluator,\n",
        "                          numFolds=2)\n",
        "\n",
        "\n",
        "\n",
        "cvModel = crossval.fit(trainingData)\n",
        "\n",
        "# RMSE from cross-validation\n",
        "print(cvModel.avgMetrics)\n",
        "# RMSE on testing data\n",
        "print(evaluator.evaluate(cvModel.transform(testData)))"
      ],
      "execution_count": null,
      "outputs": [
        {
          "output_type": "stream",
          "text": [
            "[0.9969267985807335, 0.9969267985807335, 0.9969267985807335, 0.9969267985807335]\n",
            "0.9970364334151738\n"
          ],
          "name": "stdout"
        }
      ]
    },
    {
      "cell_type": "code",
      "metadata": {
        "colab": {
          "base_uri": "https://localhost:8080/"
        },
        "id": "TlBB__qoN-sK",
        "outputId": "9d765f3c-dbf1-46ff-ba46-f4c328851187"
      },
      "source": [
        "predictions = cvModel.transform(testData)\n",
        "accuracy = evaluator.evaluate(predictions)\n",
        "print(\"Accuracy = \", accuracy)\n",
        "print(\"Test Error = %g\" % (1.0 - accuracy))"
      ],
      "execution_count": null,
      "outputs": [
        {
          "output_type": "stream",
          "text": [
            "Accuracy =  0.9970364334151738\n",
            "Test Error = 0.00296357\n"
          ],
          "name": "stdout"
        }
      ]
    },
    {
      "cell_type": "markdown",
      "metadata": {
        "id": "lzU-19HddRfH"
      },
      "source": [
        "Random Forest Classifier"
      ]
    },
    {
      "cell_type": "code",
      "metadata": {
        "colab": {
          "base_uri": "https://localhost:8080/"
        },
        "id": "PO2B11cBdREv",
        "outputId": "b793e353-ef44-464c-eb81-f5db86e73c13"
      },
      "source": [
        "from pyspark.ml.classification import RandomForestClassifier\n",
        "\n",
        "rf = RandomForestClassifier(featuresCol=\"features\", labelCol=\"sc_status\")\n",
        "\n",
        "evaluator = MulticlassClassificationEvaluator(labelCol=\"sc_status\")\n",
        "pipeline = Pipeline(stages=[rf])\n",
        "paramGrid = (ParamGridBuilder()\n",
        "             .addGrid(rf.maxDepth, [2, 4, 6])\n",
        "             .addGrid(rf.maxBins, [20, 60])\n",
        "             .addGrid(rf.numTrees, [5, 20])\n",
        "             .build())\n",
        "\n",
        "\n",
        "crossval = CrossValidator(estimator=pipeline,\n",
        "                          estimatorParamMaps=paramGrid,\n",
        "                          evaluator=evaluator,\n",
        "                          numFolds=2)\n",
        "\n",
        "\n",
        "cvModel = crossval.fit(trainingData)\n",
        "\n",
        "# RMSE from cross-validation\n",
        "print(cvModel.avgMetrics)\n",
        "# RMSE on testing data\n",
        "print(evaluator.evaluate(cvModel.transform(testData)))"
      ],
      "execution_count": null,
      "outputs": [
        {
          "output_type": "stream",
          "text": [
            "[0.9969267985807335, 0.9969267985807335, 0.9969408175882687, 0.996943536712183, 0.9975928390533755, 0.9969296176720033, 0.9970792309913052, 0.9970441498962664, 0.9981504869062968, 0.9980547215130855, 0.99722785102454, 0.9971249962928543]\n",
            "0.9971133559677737\n"
          ],
          "name": "stdout"
        }
      ]
    },
    {
      "cell_type": "code",
      "metadata": {
        "colab": {
          "base_uri": "https://localhost:8080/"
        },
        "id": "L9FdefL9OP1p",
        "outputId": "4f5cab50-fd4a-4aaa-cc4f-3ccfc1248c72"
      },
      "source": [
        "predictions = cvModel.transform(testData)\n",
        "accuracy = evaluator.evaluate(predictions)\n",
        "print(\"Accuracy = \", accuracy)\n",
        "print(\"Test Error = %g\" % (1.0 - accuracy))"
      ],
      "execution_count": null,
      "outputs": [
        {
          "output_type": "stream",
          "text": [
            "Accuracy =  0.9971133559677737\n",
            "Test Error = 0.00288664\n"
          ],
          "name": "stdout"
        }
      ]
    },
    {
      "cell_type": "markdown",
      "metadata": {
        "id": "dZa-mqTDrh65"
      },
      "source": [
        "NaiveBayes Classifier"
      ]
    },
    {
      "cell_type": "code",
      "metadata": {
        "colab": {
          "base_uri": "https://localhost:8080/"
        },
        "id": "VD9EPN_prhii",
        "outputId": "cd77fa57-a3f3-4e66-846a-abbf7edd8462"
      },
      "source": [
        "from pyspark.ml.classification import NaiveBayes\n",
        "\n",
        "nb = NaiveBayes(smoothing=1, featuresCol=\"features\", labelCol=\"sc_status\")\n",
        "\n",
        "evaluator = MulticlassClassificationEvaluator(labelCol=\"sc_status\")\n",
        "pipeline = Pipeline(stages=[nb])\n",
        "paramGrid = ParamGridBuilder().build()\n",
        "\n",
        "\n",
        "crossval = CrossValidator(estimator=pipeline,\n",
        "                          estimatorParamMaps=paramGrid,\n",
        "                          evaluator=evaluator,\n",
        "                          numFolds=2)\n",
        "\n",
        "\n",
        "cvModel = crossval.fit(trainingData)\n",
        "\n",
        "# RMSE from cross-validation\n",
        "print(cvModel.avgMetrics)\n",
        "# RMSE on testing data\n",
        "print(evaluator.evaluate(cvModel.transform(testData)))"
      ],
      "execution_count": null,
      "outputs": [
        {
          "output_type": "stream",
          "text": [
            "[0.5836395247415114]\n",
            "0.5884149472260739\n"
          ],
          "name": "stdout"
        }
      ]
    },
    {
      "cell_type": "code",
      "metadata": {
        "colab": {
          "base_uri": "https://localhost:8080/"
        },
        "id": "ypYTOfi_ORsS",
        "outputId": "4871c3e1-cb8a-476c-98f0-b3f0bea451ca"
      },
      "source": [
        "predictions = cvModel.transform(testData)\n",
        "accuracy = evaluator.evaluate(predictions)\n",
        "print(\"Accuracy = \", accuracy)\n",
        "print(\"Test Error = %g\" % (1.0 - accuracy))"
      ],
      "execution_count": null,
      "outputs": [
        {
          "output_type": "stream",
          "text": [
            "Accuracy =  0.5884149472260739\n",
            "Test Error = 0.411585\n"
          ],
          "name": "stdout"
        }
      ]
    },
    {
      "cell_type": "markdown",
      "metadata": {
        "id": "-ThOmZbnPyMa"
      },
      "source": [
        "## 4.Association Rule Mining\n",
        "<div class=\"alert alert-block alert-info\">\n",
        "\n",
        "**Code**: \n",
        "Implement association rule mining with a suitable threshold for support, and confidence \n",
        "    <br>\n",
        "    *Keep the outputs for code in your notebook.\n",
        "\n",
        "**Report**:\n",
        "    1.  Your code design and running results, <br>\n",
        "\t\t2.  Your findings on on ARMing results.\n",
        "</div>"
      ]
    },
    {
      "cell_type": "code",
      "metadata": {
        "colab": {
          "base_uri": "https://localhost:8080/"
        },
        "id": "VtZ5-w3tQJDl",
        "outputId": "72ff6c6a-244e-4b4c-dc74-b31a95de7212"
      },
      "source": [
        "!pip install apyori"
      ],
      "execution_count": null,
      "outputs": [
        {
          "output_type": "stream",
          "text": [
            "Requirement already satisfied: apyori in /usr/local/lib/python3.7/dist-packages (1.1.2)\n"
          ],
          "name": "stdout"
        }
      ]
    },
    {
      "cell_type": "code",
      "metadata": {
        "colab": {
          "base_uri": "https://localhost:8080/"
        },
        "id": "sLR-Vp-cQPki",
        "outputId": "1a5efc85-4867-4fb3-be88-6d4456c63da3"
      },
      "source": [
        "# you can also use PySpark package, if preferred\n",
        "from apyori import apriori\n",
        "\n",
        "# Your code\n",
        "transactions = []\n",
        "for i in range(0, len(le_df)):\n",
        "    transactions.append([str(le_df.values[i,j]) for j in range(0, 5)])\n",
        "print(transactions)"
      ],
      "execution_count": null,
      "outputs": [
        {
          "output_type": "stream",
          "text": [
            "IOPub data rate exceeded.\n",
            "The notebook server will temporarily stop sending output\n",
            "to the client in order to avoid crashing it.\n",
            "To change this limit, set the config variable\n",
            "`--NotebookApp.iopub_data_rate_limit`.\n",
            "\n",
            "Current values:\n",
            "NotebookApp.iopub_data_rate_limit=1000000.0 (bytes/sec)\n",
            "NotebookApp.rate_limit_window=3.0 (secs)\n",
            "\n"
          ],
          "name": "stderr"
        }
      ]
    },
    {
      "cell_type": "code",
      "metadata": {
        "colab": {
          "base_uri": "https://localhost:8080/"
        },
        "id": "0RjE5fXXy9CF",
        "outputId": "1c1aee98-c00f-4c92-a111-14162902b86a"
      },
      "source": [
        "threshold_support=0.0015\n",
        "confidence_values = np.arange(0.5, 1, 0.05)\n",
        "for i in confidence_values:\n",
        "  print(round(i,4))"
      ],
      "execution_count": null,
      "outputs": [
        {
          "output_type": "stream",
          "text": [
            "0.5\n",
            "0.55\n",
            "0.6\n",
            "0.65\n",
            "0.7\n",
            "0.75\n",
            "0.8\n",
            "0.85\n",
            "0.9\n",
            "0.95\n"
          ],
          "name": "stdout"
        }
      ]
    },
    {
      "cell_type": "code",
      "metadata": {
        "colab": {
          "base_uri": "https://localhost:8080/"
        },
        "id": "mV-_EnkuzKhr",
        "outputId": "bb399d13-7cab-4ceb-a00e-bb7b1af1423f"
      },
      "source": [
        "i=0\n",
        "for c in confidence_values:\n",
        "  print(\"Support= \",threshold_support,\"\\tConfidence= \", round(c,4))\n",
        "  rules = apriori(transactions, min_support = threshold_support, min_confidence = round(c,4), min_lift = 3, min_length = 2)\n",
        "  # Visualising the results\n",
        "  results = list(rules)\n",
        "  myResults = [list(x) for x in results]\n",
        "  print(\"Round: \",i)\n",
        "  for j in range(len(results)):\n",
        "      print(j)\n",
        "      print(results[j])\n",
        "      print(results[j].items)\n",
        "  print(\"##############################################################################\")\n",
        "  i=i+1"
      ],
      "execution_count": null,
      "outputs": [
        {
          "output_type": "stream",
          "text": [
            "Support=  0.0015 \tConfidence=  0.5\n",
            "Round:  0\n",
            "0\n",
            "RelationRecord(items=frozenset({'1646', '7450'}), support=0.0019477440311070015, ordered_statistics=[OrderedStatistic(items_base=frozenset({'7450'}), items_add=frozenset({'1646'}), confidence=0.5421845781542185, lift=32.84412057854287)])\n",
            "frozenset({'1646', '7450'})\n",
            "1\n",
            "RelationRecord(items=frozenset({'204', '4'}), support=0.00222909800760288, ordered_statistics=[OrderedStatistic(items_base=frozenset({'204'}), items_add=frozenset({'4'}), confidence=0.7865309537088678, lift=3.10517984027185)])\n",
            "frozenset({'204', '4'})\n",
            "2\n",
            "RelationRecord(items=frozenset({'3018', '7'}), support=0.001864365254364543, ordered_statistics=[OrderedStatistic(items_base=frozenset({'3018'}), items_add=frozenset({'7'}), confidence=0.9184348841736423, lift=54.29001159953055)])\n",
            "frozenset({'3018', '7'})\n",
            "3\n",
            "RelationRecord(items=frozenset({'3118', '7'}), support=0.008831827773431018, ordered_statistics=[OrderedStatistic(items_base=frozenset({'3118'}), items_add=frozenset({'7'}), confidence=0.9142974023317653, lift=54.045439076144255), OrderedStatistic(items_base=frozenset({'7'}), items_add=frozenset({'3118'}), confidence=0.5220620868468384, lift=54.045439076144255)])\n",
            "frozenset({'3118', '7'})\n",
            "4\n",
            "RelationRecord(items=frozenset({'1646', '0', '7450'}), support=0.0019426069500754755, ordered_statistics=[OrderedStatistic(items_base=frozenset({'7450'}), items_add=frozenset({'1646', '0'}), confidence=0.5407545924540754, lift=32.78732028550524), OrderedStatistic(items_base=frozenset({'7450', '0'}), items_add=frozenset({'1646'}), confidence=0.5415289711390173, lift=32.80440562402921)])\n",
            "frozenset({'1646', '0', '7450'})\n",
            "5\n",
            "RelationRecord(items=frozenset({'204', '4', '0'}), support=0.00222909800760288, ordered_statistics=[OrderedStatistic(items_base=frozenset({'204'}), items_add=frozenset({'4', '0'}), confidence=0.7865309537088678, lift=3.105315486512975), OrderedStatistic(items_base=frozenset({'204', '0'}), items_add=frozenset({'4'}), confidence=0.7865309537088678, lift=3.10517984027185)])\n",
            "frozenset({'204', '4', '0'})\n",
            "6\n",
            "RelationRecord(items=frozenset({'3018', '7', '0'}), support=0.001864365254364543, ordered_statistics=[OrderedStatistic(items_base=frozenset({'3018'}), items_add=frozenset({'7', '0'}), confidence=0.9184348841736423, lift=54.386561052708615), OrderedStatistic(items_base=frozenset({'3018', '0'}), items_add=frozenset({'7'}), confidence=0.918613707165109, lift=54.30058208465507)])\n",
            "frozenset({'3018', '7', '0'})\n",
            "7\n",
            "RelationRecord(items=frozenset({'3118', '0', '7'}), support=0.00883103745327232, ordered_statistics=[OrderedStatistic(items_base=frozenset({'3118'}), items_add=frozenset({'7', '0'}), confidence=0.9142155860094089, lift=54.13670869935955), OrderedStatistic(items_base=frozenset({'7'}), items_add=frozenset({'3118', '0'}), confidence=0.5220153698815725, lift=54.05165856504521), OrderedStatistic(items_base=frozenset({'3118', '0'}), items_add=frozenset({'7'}), confidence=0.9144026186579378, lift=54.05165856504521), OrderedStatistic(items_base=frozenset({'7', '0'}), items_add=frozenset({'3118'}), confidence=0.5229437229437229, lift=54.13670869935955)])\n",
            "frozenset({'3118', '0', '7'})\n",
            "8\n",
            "RelationRecord(items=frozenset({'3118', '1386', '7'}), support=0.0015312453074740578, ordered_statistics=[OrderedStatistic(items_base=frozenset({'3118', '1386'}), items_add=frozenset({'7'}), confidence=1.0, lift=59.11144332064189), OrderedStatistic(items_base=frozenset({'7', '1386'}), items_add=frozenset({'3118'}), confidence=0.6890113798008535, lift=71.32853254046373)])\n",
            "frozenset({'3118', '1386', '7'})\n",
            "9\n",
            "RelationRecord(items=frozenset({'7', '3118', '1535'}), support=0.0016683658550078638, ordered_statistics=[OrderedStatistic(items_base=frozenset({'3118', '1535'}), items_add=frozenset({'7'}), confidence=1.0, lift=59.11144332064189), OrderedStatistic(items_base=frozenset({'7', '1535'}), items_add=frozenset({'3118'}), confidence=0.6352693349383087, lift=65.76499424755913)])\n",
            "frozenset({'7', '3118', '1535'})\n",
            "10\n",
            "RelationRecord(items=frozenset({'1646', '4', '7450'}), support=0.0015913096395349757, ordered_statistics=[OrderedStatistic(items_base=frozenset({'1646', '7450'}), items_add=frozenset({'4'}), confidence=0.8170014201663623, lift=3.2254755231325576), OrderedStatistic(items_base=frozenset({'4', '7450'}), items_add=frozenset({'1646'}), confidence=0.6185867895545316, lift=37.47236628084953)])\n",
            "frozenset({'1646', '4', '7450'})\n",
            "11\n",
            "RelationRecord(items=frozenset({'3118', '0', '1386', '7'}), support=0.0015312453074740578, ordered_statistics=[OrderedStatistic(items_base=frozenset({'3118', '1386'}), items_add=frozenset({'7', '0'}), confidence=1.0, lift=59.21656721656721), OrderedStatistic(items_base=frozenset({'7', '1386'}), items_add=frozenset({'3118', '0'}), confidence=0.6890113798008535, lift=71.3431251207707), OrderedStatistic(items_base=frozenset({'3118', '0', '1386'}), items_add=frozenset({'7'}), confidence=1.0, lift=59.11144332064189), OrderedStatistic(items_base=frozenset({'7', '0', '1386'}), items_add=frozenset({'3118'}), confidence=0.6890113798008535, lift=71.32853254046373)])\n",
            "frozenset({'3118', '0', '1386', '7'})\n",
            "12\n",
            "RelationRecord(items=frozenset({'7', '3118', '0', '1535'}), support=0.0016683658550078638, ordered_statistics=[OrderedStatistic(items_base=frozenset({'3118', '1535'}), items_add=frozenset({'7', '0'}), confidence=1.0, lift=59.21656721656721), OrderedStatistic(items_base=frozenset({'7', '1535'}), items_add=frozenset({'3118', '0'}), confidence=0.6352693349383087, lift=65.77844862445102), OrderedStatistic(items_base=frozenset({'3118', '0', '1535'}), items_add=frozenset({'7'}), confidence=1.0, lift=59.11144332064189), OrderedStatistic(items_base=frozenset({'7', '0', '1535'}), items_add=frozenset({'3118'}), confidence=0.6352693349383087, lift=65.76499424755913)])\n",
            "frozenset({'7', '3118', '0', '1535'})\n",
            "13\n",
            "RelationRecord(items=frozenset({'4', '1646', '0', '7450'}), support=0.0015913096395349757, ordered_statistics=[OrderedStatistic(items_base=frozenset({'1646', '7450'}), items_add=frozenset({'4', '0'}), confidence=0.8170014201663623, lift=3.2256164243534395), OrderedStatistic(items_base=frozenset({'4', '7450'}), items_add=frozenset({'1646', '0'}), confidence=0.6185867895545316, lift=37.50648348905021), OrderedStatistic(items_base=frozenset({'1646', '0', '7450'}), items_add=frozenset({'4'}), confidence=0.8191619202603744, lift=3.2340050556388076), OrderedStatistic(items_base=frozenset({'4', '0', '7450'}), items_add=frozenset({'1646'}), confidence=0.6185867895545316, lift=37.47236628084953)])\n",
            "frozenset({'4', '1646', '0', '7450'})\n",
            "##############################################################################\n",
            "Support=  0.0015 \tConfidence=  0.55\n",
            "Round:  1\n",
            "0\n",
            "RelationRecord(items=frozenset({'204', '4'}), support=0.00222909800760288, ordered_statistics=[OrderedStatistic(items_base=frozenset({'204'}), items_add=frozenset({'4'}), confidence=0.7865309537088678, lift=3.10517984027185)])\n",
            "frozenset({'204', '4'})\n",
            "1\n",
            "RelationRecord(items=frozenset({'3018', '7'}), support=0.001864365254364543, ordered_statistics=[OrderedStatistic(items_base=frozenset({'3018'}), items_add=frozenset({'7'}), confidence=0.9184348841736423, lift=54.29001159953055)])\n",
            "frozenset({'3018', '7'})\n",
            "2\n",
            "RelationRecord(items=frozenset({'3118', '7'}), support=0.008831827773431018, ordered_statistics=[OrderedStatistic(items_base=frozenset({'3118'}), items_add=frozenset({'7'}), confidence=0.9142974023317653, lift=54.045439076144255)])\n",
            "frozenset({'3118', '7'})\n",
            "3\n",
            "RelationRecord(items=frozenset({'204', '4', '0'}), support=0.00222909800760288, ordered_statistics=[OrderedStatistic(items_base=frozenset({'204'}), items_add=frozenset({'4', '0'}), confidence=0.7865309537088678, lift=3.105315486512975), OrderedStatistic(items_base=frozenset({'204', '0'}), items_add=frozenset({'4'}), confidence=0.7865309537088678, lift=3.10517984027185)])\n",
            "frozenset({'204', '4', '0'})\n",
            "4\n",
            "RelationRecord(items=frozenset({'3018', '7', '0'}), support=0.001864365254364543, ordered_statistics=[OrderedStatistic(items_base=frozenset({'3018'}), items_add=frozenset({'7', '0'}), confidence=0.9184348841736423, lift=54.386561052708615), OrderedStatistic(items_base=frozenset({'3018', '0'}), items_add=frozenset({'7'}), confidence=0.918613707165109, lift=54.30058208465507)])\n",
            "frozenset({'3018', '7', '0'})\n",
            "5\n",
            "RelationRecord(items=frozenset({'3118', '0', '7'}), support=0.00883103745327232, ordered_statistics=[OrderedStatistic(items_base=frozenset({'3118'}), items_add=frozenset({'7', '0'}), confidence=0.9142155860094089, lift=54.13670869935955), OrderedStatistic(items_base=frozenset({'3118', '0'}), items_add=frozenset({'7'}), confidence=0.9144026186579378, lift=54.05165856504521)])\n",
            "frozenset({'3118', '0', '7'})\n",
            "6\n",
            "RelationRecord(items=frozenset({'3118', '1386', '7'}), support=0.0015312453074740578, ordered_statistics=[OrderedStatistic(items_base=frozenset({'3118', '1386'}), items_add=frozenset({'7'}), confidence=1.0, lift=59.11144332064189), OrderedStatistic(items_base=frozenset({'7', '1386'}), items_add=frozenset({'3118'}), confidence=0.6890113798008535, lift=71.32853254046373)])\n",
            "frozenset({'3118', '1386', '7'})\n",
            "7\n",
            "RelationRecord(items=frozenset({'7', '3118', '1535'}), support=0.0016683658550078638, ordered_statistics=[OrderedStatistic(items_base=frozenset({'3118', '1535'}), items_add=frozenset({'7'}), confidence=1.0, lift=59.11144332064189), OrderedStatistic(items_base=frozenset({'7', '1535'}), items_add=frozenset({'3118'}), confidence=0.6352693349383087, lift=65.76499424755913)])\n",
            "frozenset({'7', '3118', '1535'})\n",
            "8\n",
            "RelationRecord(items=frozenset({'1646', '4', '7450'}), support=0.0015913096395349757, ordered_statistics=[OrderedStatistic(items_base=frozenset({'1646', '7450'}), items_add=frozenset({'4'}), confidence=0.8170014201663623, lift=3.2254755231325576), OrderedStatistic(items_base=frozenset({'4', '7450'}), items_add=frozenset({'1646'}), confidence=0.6185867895545316, lift=37.47236628084953)])\n",
            "frozenset({'1646', '4', '7450'})\n",
            "9\n",
            "RelationRecord(items=frozenset({'3118', '0', '1386', '7'}), support=0.0015312453074740578, ordered_statistics=[OrderedStatistic(items_base=frozenset({'3118', '1386'}), items_add=frozenset({'7', '0'}), confidence=1.0, lift=59.21656721656721), OrderedStatistic(items_base=frozenset({'7', '1386'}), items_add=frozenset({'3118', '0'}), confidence=0.6890113798008535, lift=71.3431251207707), OrderedStatistic(items_base=frozenset({'3118', '0', '1386'}), items_add=frozenset({'7'}), confidence=1.0, lift=59.11144332064189), OrderedStatistic(items_base=frozenset({'7', '0', '1386'}), items_add=frozenset({'3118'}), confidence=0.6890113798008535, lift=71.32853254046373)])\n",
            "frozenset({'3118', '0', '1386', '7'})\n",
            "10\n",
            "RelationRecord(items=frozenset({'7', '3118', '0', '1535'}), support=0.0016683658550078638, ordered_statistics=[OrderedStatistic(items_base=frozenset({'3118', '1535'}), items_add=frozenset({'7', '0'}), confidence=1.0, lift=59.21656721656721), OrderedStatistic(items_base=frozenset({'7', '1535'}), items_add=frozenset({'3118', '0'}), confidence=0.6352693349383087, lift=65.77844862445102), OrderedStatistic(items_base=frozenset({'3118', '0', '1535'}), items_add=frozenset({'7'}), confidence=1.0, lift=59.11144332064189), OrderedStatistic(items_base=frozenset({'7', '0', '1535'}), items_add=frozenset({'3118'}), confidence=0.6352693349383087, lift=65.76499424755913)])\n",
            "frozenset({'7', '3118', '0', '1535'})\n",
            "11\n",
            "RelationRecord(items=frozenset({'4', '1646', '0', '7450'}), support=0.0015913096395349757, ordered_statistics=[OrderedStatistic(items_base=frozenset({'1646', '7450'}), items_add=frozenset({'4', '0'}), confidence=0.8170014201663623, lift=3.2256164243534395), OrderedStatistic(items_base=frozenset({'4', '7450'}), items_add=frozenset({'1646', '0'}), confidence=0.6185867895545316, lift=37.50648348905021), OrderedStatistic(items_base=frozenset({'1646', '0', '7450'}), items_add=frozenset({'4'}), confidence=0.8191619202603744, lift=3.2340050556388076), OrderedStatistic(items_base=frozenset({'4', '0', '7450'}), items_add=frozenset({'1646'}), confidence=0.6185867895545316, lift=37.47236628084953)])\n",
            "frozenset({'4', '1646', '0', '7450'})\n",
            "##############################################################################\n",
            "Support=  0.0015 \tConfidence=  0.6\n",
            "Round:  2\n",
            "0\n",
            "RelationRecord(items=frozenset({'204', '4'}), support=0.00222909800760288, ordered_statistics=[OrderedStatistic(items_base=frozenset({'204'}), items_add=frozenset({'4'}), confidence=0.7865309537088678, lift=3.10517984027185)])\n",
            "frozenset({'204', '4'})\n",
            "1\n",
            "RelationRecord(items=frozenset({'3018', '7'}), support=0.001864365254364543, ordered_statistics=[OrderedStatistic(items_base=frozenset({'3018'}), items_add=frozenset({'7'}), confidence=0.9184348841736423, lift=54.29001159953055)])\n",
            "frozenset({'3018', '7'})\n",
            "2\n",
            "RelationRecord(items=frozenset({'3118', '7'}), support=0.008831827773431018, ordered_statistics=[OrderedStatistic(items_base=frozenset({'3118'}), items_add=frozenset({'7'}), confidence=0.9142974023317653, lift=54.045439076144255)])\n",
            "frozenset({'3118', '7'})\n",
            "3\n",
            "RelationRecord(items=frozenset({'204', '4', '0'}), support=0.00222909800760288, ordered_statistics=[OrderedStatistic(items_base=frozenset({'204'}), items_add=frozenset({'4', '0'}), confidence=0.7865309537088678, lift=3.105315486512975), OrderedStatistic(items_base=frozenset({'204', '0'}), items_add=frozenset({'4'}), confidence=0.7865309537088678, lift=3.10517984027185)])\n",
            "frozenset({'204', '4', '0'})\n",
            "4\n",
            "RelationRecord(items=frozenset({'3018', '7', '0'}), support=0.001864365254364543, ordered_statistics=[OrderedStatistic(items_base=frozenset({'3018'}), items_add=frozenset({'7', '0'}), confidence=0.9184348841736423, lift=54.386561052708615), OrderedStatistic(items_base=frozenset({'3018', '0'}), items_add=frozenset({'7'}), confidence=0.918613707165109, lift=54.30058208465507)])\n",
            "frozenset({'3018', '7', '0'})\n",
            "5\n",
            "RelationRecord(items=frozenset({'3118', '0', '7'}), support=0.00883103745327232, ordered_statistics=[OrderedStatistic(items_base=frozenset({'3118'}), items_add=frozenset({'7', '0'}), confidence=0.9142155860094089, lift=54.13670869935955), OrderedStatistic(items_base=frozenset({'3118', '0'}), items_add=frozenset({'7'}), confidence=0.9144026186579378, lift=54.05165856504521)])\n",
            "frozenset({'3118', '0', '7'})\n",
            "6\n",
            "RelationRecord(items=frozenset({'3118', '1386', '7'}), support=0.0015312453074740578, ordered_statistics=[OrderedStatistic(items_base=frozenset({'3118', '1386'}), items_add=frozenset({'7'}), confidence=1.0, lift=59.11144332064189), OrderedStatistic(items_base=frozenset({'7', '1386'}), items_add=frozenset({'3118'}), confidence=0.6890113798008535, lift=71.32853254046373)])\n",
            "frozenset({'3118', '1386', '7'})\n",
            "7\n",
            "RelationRecord(items=frozenset({'7', '3118', '1535'}), support=0.0016683658550078638, ordered_statistics=[OrderedStatistic(items_base=frozenset({'3118', '1535'}), items_add=frozenset({'7'}), confidence=1.0, lift=59.11144332064189), OrderedStatistic(items_base=frozenset({'7', '1535'}), items_add=frozenset({'3118'}), confidence=0.6352693349383087, lift=65.76499424755913)])\n",
            "frozenset({'7', '3118', '1535'})\n",
            "8\n",
            "RelationRecord(items=frozenset({'1646', '4', '7450'}), support=0.0015913096395349757, ordered_statistics=[OrderedStatistic(items_base=frozenset({'1646', '7450'}), items_add=frozenset({'4'}), confidence=0.8170014201663623, lift=3.2254755231325576), OrderedStatistic(items_base=frozenset({'4', '7450'}), items_add=frozenset({'1646'}), confidence=0.6185867895545316, lift=37.47236628084953)])\n",
            "frozenset({'1646', '4', '7450'})\n",
            "9\n",
            "RelationRecord(items=frozenset({'3118', '0', '1386', '7'}), support=0.0015312453074740578, ordered_statistics=[OrderedStatistic(items_base=frozenset({'3118', '1386'}), items_add=frozenset({'7', '0'}), confidence=1.0, lift=59.21656721656721), OrderedStatistic(items_base=frozenset({'7', '1386'}), items_add=frozenset({'3118', '0'}), confidence=0.6890113798008535, lift=71.3431251207707), OrderedStatistic(items_base=frozenset({'3118', '0', '1386'}), items_add=frozenset({'7'}), confidence=1.0, lift=59.11144332064189), OrderedStatistic(items_base=frozenset({'7', '0', '1386'}), items_add=frozenset({'3118'}), confidence=0.6890113798008535, lift=71.32853254046373)])\n",
            "frozenset({'3118', '0', '1386', '7'})\n",
            "10\n",
            "RelationRecord(items=frozenset({'7', '3118', '0', '1535'}), support=0.0016683658550078638, ordered_statistics=[OrderedStatistic(items_base=frozenset({'3118', '1535'}), items_add=frozenset({'7', '0'}), confidence=1.0, lift=59.21656721656721), OrderedStatistic(items_base=frozenset({'7', '1535'}), items_add=frozenset({'3118', '0'}), confidence=0.6352693349383087, lift=65.77844862445102), OrderedStatistic(items_base=frozenset({'3118', '0', '1535'}), items_add=frozenset({'7'}), confidence=1.0, lift=59.11144332064189), OrderedStatistic(items_base=frozenset({'7', '0', '1535'}), items_add=frozenset({'3118'}), confidence=0.6352693349383087, lift=65.76499424755913)])\n",
            "frozenset({'7', '3118', '0', '1535'})\n",
            "11\n",
            "RelationRecord(items=frozenset({'4', '1646', '0', '7450'}), support=0.0015913096395349757, ordered_statistics=[OrderedStatistic(items_base=frozenset({'1646', '7450'}), items_add=frozenset({'4', '0'}), confidence=0.8170014201663623, lift=3.2256164243534395), OrderedStatistic(items_base=frozenset({'4', '7450'}), items_add=frozenset({'1646', '0'}), confidence=0.6185867895545316, lift=37.50648348905021), OrderedStatistic(items_base=frozenset({'1646', '0', '7450'}), items_add=frozenset({'4'}), confidence=0.8191619202603744, lift=3.2340050556388076), OrderedStatistic(items_base=frozenset({'4', '0', '7450'}), items_add=frozenset({'1646'}), confidence=0.6185867895545316, lift=37.47236628084953)])\n",
            "frozenset({'4', '1646', '0', '7450'})\n",
            "##############################################################################\n",
            "Support=  0.0015 \tConfidence=  0.65\n",
            "Round:  3\n",
            "0\n",
            "RelationRecord(items=frozenset({'204', '4'}), support=0.00222909800760288, ordered_statistics=[OrderedStatistic(items_base=frozenset({'204'}), items_add=frozenset({'4'}), confidence=0.7865309537088678, lift=3.10517984027185)])\n",
            "frozenset({'204', '4'})\n",
            "1\n",
            "RelationRecord(items=frozenset({'3018', '7'}), support=0.001864365254364543, ordered_statistics=[OrderedStatistic(items_base=frozenset({'3018'}), items_add=frozenset({'7'}), confidence=0.9184348841736423, lift=54.29001159953055)])\n",
            "frozenset({'3018', '7'})\n",
            "2\n",
            "RelationRecord(items=frozenset({'3118', '7'}), support=0.008831827773431018, ordered_statistics=[OrderedStatistic(items_base=frozenset({'3118'}), items_add=frozenset({'7'}), confidence=0.9142974023317653, lift=54.045439076144255)])\n",
            "frozenset({'3118', '7'})\n",
            "3\n",
            "RelationRecord(items=frozenset({'204', '4', '0'}), support=0.00222909800760288, ordered_statistics=[OrderedStatistic(items_base=frozenset({'204'}), items_add=frozenset({'4', '0'}), confidence=0.7865309537088678, lift=3.105315486512975), OrderedStatistic(items_base=frozenset({'204', '0'}), items_add=frozenset({'4'}), confidence=0.7865309537088678, lift=3.10517984027185)])\n",
            "frozenset({'204', '4', '0'})\n",
            "4\n",
            "RelationRecord(items=frozenset({'3018', '7', '0'}), support=0.001864365254364543, ordered_statistics=[OrderedStatistic(items_base=frozenset({'3018'}), items_add=frozenset({'7', '0'}), confidence=0.9184348841736423, lift=54.386561052708615), OrderedStatistic(items_base=frozenset({'3018', '0'}), items_add=frozenset({'7'}), confidence=0.918613707165109, lift=54.30058208465507)])\n",
            "frozenset({'3018', '7', '0'})\n",
            "5\n",
            "RelationRecord(items=frozenset({'3118', '0', '7'}), support=0.00883103745327232, ordered_statistics=[OrderedStatistic(items_base=frozenset({'3118'}), items_add=frozenset({'7', '0'}), confidence=0.9142155860094089, lift=54.13670869935955), OrderedStatistic(items_base=frozenset({'3118', '0'}), items_add=frozenset({'7'}), confidence=0.9144026186579378, lift=54.05165856504521)])\n",
            "frozenset({'3118', '0', '7'})\n",
            "6\n",
            "RelationRecord(items=frozenset({'3118', '1386', '7'}), support=0.0015312453074740578, ordered_statistics=[OrderedStatistic(items_base=frozenset({'3118', '1386'}), items_add=frozenset({'7'}), confidence=1.0, lift=59.11144332064189), OrderedStatistic(items_base=frozenset({'7', '1386'}), items_add=frozenset({'3118'}), confidence=0.6890113798008535, lift=71.32853254046373)])\n",
            "frozenset({'3118', '1386', '7'})\n",
            "7\n",
            "RelationRecord(items=frozenset({'7', '3118', '1535'}), support=0.0016683658550078638, ordered_statistics=[OrderedStatistic(items_base=frozenset({'3118', '1535'}), items_add=frozenset({'7'}), confidence=1.0, lift=59.11144332064189)])\n",
            "frozenset({'7', '3118', '1535'})\n",
            "8\n",
            "RelationRecord(items=frozenset({'1646', '4', '7450'}), support=0.0015913096395349757, ordered_statistics=[OrderedStatistic(items_base=frozenset({'1646', '7450'}), items_add=frozenset({'4'}), confidence=0.8170014201663623, lift=3.2254755231325576)])\n",
            "frozenset({'1646', '4', '7450'})\n",
            "9\n",
            "RelationRecord(items=frozenset({'3118', '0', '1386', '7'}), support=0.0015312453074740578, ordered_statistics=[OrderedStatistic(items_base=frozenset({'3118', '1386'}), items_add=frozenset({'7', '0'}), confidence=1.0, lift=59.21656721656721), OrderedStatistic(items_base=frozenset({'7', '1386'}), items_add=frozenset({'3118', '0'}), confidence=0.6890113798008535, lift=71.3431251207707), OrderedStatistic(items_base=frozenset({'3118', '0', '1386'}), items_add=frozenset({'7'}), confidence=1.0, lift=59.11144332064189), OrderedStatistic(items_base=frozenset({'7', '0', '1386'}), items_add=frozenset({'3118'}), confidence=0.6890113798008535, lift=71.32853254046373)])\n",
            "frozenset({'3118', '0', '1386', '7'})\n",
            "10\n",
            "RelationRecord(items=frozenset({'7', '3118', '0', '1535'}), support=0.0016683658550078638, ordered_statistics=[OrderedStatistic(items_base=frozenset({'3118', '1535'}), items_add=frozenset({'7', '0'}), confidence=1.0, lift=59.21656721656721), OrderedStatistic(items_base=frozenset({'3118', '0', '1535'}), items_add=frozenset({'7'}), confidence=1.0, lift=59.11144332064189)])\n",
            "frozenset({'7', '3118', '0', '1535'})\n",
            "11\n",
            "RelationRecord(items=frozenset({'4', '1646', '0', '7450'}), support=0.0015913096395349757, ordered_statistics=[OrderedStatistic(items_base=frozenset({'1646', '7450'}), items_add=frozenset({'4', '0'}), confidence=0.8170014201663623, lift=3.2256164243534395), OrderedStatistic(items_base=frozenset({'1646', '0', '7450'}), items_add=frozenset({'4'}), confidence=0.8191619202603744, lift=3.2340050556388076)])\n",
            "frozenset({'4', '1646', '0', '7450'})\n",
            "##############################################################################\n",
            "Support=  0.0015 \tConfidence=  0.7\n",
            "Round:  4\n",
            "0\n",
            "RelationRecord(items=frozenset({'204', '4'}), support=0.00222909800760288, ordered_statistics=[OrderedStatistic(items_base=frozenset({'204'}), items_add=frozenset({'4'}), confidence=0.7865309537088678, lift=3.10517984027185)])\n",
            "frozenset({'204', '4'})\n",
            "1\n",
            "RelationRecord(items=frozenset({'3018', '7'}), support=0.001864365254364543, ordered_statistics=[OrderedStatistic(items_base=frozenset({'3018'}), items_add=frozenset({'7'}), confidence=0.9184348841736423, lift=54.29001159953055)])\n",
            "frozenset({'3018', '7'})\n",
            "2\n",
            "RelationRecord(items=frozenset({'3118', '7'}), support=0.008831827773431018, ordered_statistics=[OrderedStatistic(items_base=frozenset({'3118'}), items_add=frozenset({'7'}), confidence=0.9142974023317653, lift=54.045439076144255)])\n",
            "frozenset({'3118', '7'})\n",
            "3\n",
            "RelationRecord(items=frozenset({'204', '4', '0'}), support=0.00222909800760288, ordered_statistics=[OrderedStatistic(items_base=frozenset({'204'}), items_add=frozenset({'4', '0'}), confidence=0.7865309537088678, lift=3.105315486512975), OrderedStatistic(items_base=frozenset({'204', '0'}), items_add=frozenset({'4'}), confidence=0.7865309537088678, lift=3.10517984027185)])\n",
            "frozenset({'204', '4', '0'})\n",
            "4\n",
            "RelationRecord(items=frozenset({'3018', '7', '0'}), support=0.001864365254364543, ordered_statistics=[OrderedStatistic(items_base=frozenset({'3018'}), items_add=frozenset({'7', '0'}), confidence=0.9184348841736423, lift=54.386561052708615), OrderedStatistic(items_base=frozenset({'3018', '0'}), items_add=frozenset({'7'}), confidence=0.918613707165109, lift=54.30058208465507)])\n",
            "frozenset({'3018', '7', '0'})\n",
            "5\n",
            "RelationRecord(items=frozenset({'3118', '0', '7'}), support=0.00883103745327232, ordered_statistics=[OrderedStatistic(items_base=frozenset({'3118'}), items_add=frozenset({'7', '0'}), confidence=0.9142155860094089, lift=54.13670869935955), OrderedStatistic(items_base=frozenset({'3118', '0'}), items_add=frozenset({'7'}), confidence=0.9144026186579378, lift=54.05165856504521)])\n",
            "frozenset({'3118', '0', '7'})\n",
            "6\n",
            "RelationRecord(items=frozenset({'3118', '1386', '7'}), support=0.0015312453074740578, ordered_statistics=[OrderedStatistic(items_base=frozenset({'3118', '1386'}), items_add=frozenset({'7'}), confidence=1.0, lift=59.11144332064189)])\n",
            "frozenset({'3118', '1386', '7'})\n",
            "7\n",
            "RelationRecord(items=frozenset({'7', '3118', '1535'}), support=0.0016683658550078638, ordered_statistics=[OrderedStatistic(items_base=frozenset({'3118', '1535'}), items_add=frozenset({'7'}), confidence=1.0, lift=59.11144332064189)])\n",
            "frozenset({'7', '3118', '1535'})\n",
            "8\n",
            "RelationRecord(items=frozenset({'1646', '4', '7450'}), support=0.0015913096395349757, ordered_statistics=[OrderedStatistic(items_base=frozenset({'1646', '7450'}), items_add=frozenset({'4'}), confidence=0.8170014201663623, lift=3.2254755231325576)])\n",
            "frozenset({'1646', '4', '7450'})\n",
            "9\n",
            "RelationRecord(items=frozenset({'3118', '0', '1386', '7'}), support=0.0015312453074740578, ordered_statistics=[OrderedStatistic(items_base=frozenset({'3118', '1386'}), items_add=frozenset({'7', '0'}), confidence=1.0, lift=59.21656721656721), OrderedStatistic(items_base=frozenset({'3118', '0', '1386'}), items_add=frozenset({'7'}), confidence=1.0, lift=59.11144332064189)])\n",
            "frozenset({'3118', '0', '1386', '7'})\n",
            "10\n",
            "RelationRecord(items=frozenset({'7', '3118', '0', '1535'}), support=0.0016683658550078638, ordered_statistics=[OrderedStatistic(items_base=frozenset({'3118', '1535'}), items_add=frozenset({'7', '0'}), confidence=1.0, lift=59.21656721656721), OrderedStatistic(items_base=frozenset({'3118', '0', '1535'}), items_add=frozenset({'7'}), confidence=1.0, lift=59.11144332064189)])\n",
            "frozenset({'7', '3118', '0', '1535'})\n",
            "11\n",
            "RelationRecord(items=frozenset({'4', '1646', '0', '7450'}), support=0.0015913096395349757, ordered_statistics=[OrderedStatistic(items_base=frozenset({'1646', '7450'}), items_add=frozenset({'4', '0'}), confidence=0.8170014201663623, lift=3.2256164243534395), OrderedStatistic(items_base=frozenset({'1646', '0', '7450'}), items_add=frozenset({'4'}), confidence=0.8191619202603744, lift=3.2340050556388076)])\n",
            "frozenset({'4', '1646', '0', '7450'})\n",
            "##############################################################################\n",
            "Support=  0.0015 \tConfidence=  0.75\n",
            "Round:  5\n",
            "0\n",
            "RelationRecord(items=frozenset({'204', '4'}), support=0.00222909800760288, ordered_statistics=[OrderedStatistic(items_base=frozenset({'204'}), items_add=frozenset({'4'}), confidence=0.7865309537088678, lift=3.10517984027185)])\n",
            "frozenset({'204', '4'})\n",
            "1\n",
            "RelationRecord(items=frozenset({'3018', '7'}), support=0.001864365254364543, ordered_statistics=[OrderedStatistic(items_base=frozenset({'3018'}), items_add=frozenset({'7'}), confidence=0.9184348841736423, lift=54.29001159953055)])\n",
            "frozenset({'3018', '7'})\n",
            "2\n",
            "RelationRecord(items=frozenset({'3118', '7'}), support=0.008831827773431018, ordered_statistics=[OrderedStatistic(items_base=frozenset({'3118'}), items_add=frozenset({'7'}), confidence=0.9142974023317653, lift=54.045439076144255)])\n",
            "frozenset({'3118', '7'})\n",
            "3\n",
            "RelationRecord(items=frozenset({'204', '4', '0'}), support=0.00222909800760288, ordered_statistics=[OrderedStatistic(items_base=frozenset({'204'}), items_add=frozenset({'4', '0'}), confidence=0.7865309537088678, lift=3.105315486512975), OrderedStatistic(items_base=frozenset({'204', '0'}), items_add=frozenset({'4'}), confidence=0.7865309537088678, lift=3.10517984027185)])\n",
            "frozenset({'204', '4', '0'})\n",
            "4\n",
            "RelationRecord(items=frozenset({'3018', '7', '0'}), support=0.001864365254364543, ordered_statistics=[OrderedStatistic(items_base=frozenset({'3018'}), items_add=frozenset({'7', '0'}), confidence=0.9184348841736423, lift=54.386561052708615), OrderedStatistic(items_base=frozenset({'3018', '0'}), items_add=frozenset({'7'}), confidence=0.918613707165109, lift=54.30058208465507)])\n",
            "frozenset({'3018', '7', '0'})\n",
            "5\n",
            "RelationRecord(items=frozenset({'3118', '0', '7'}), support=0.00883103745327232, ordered_statistics=[OrderedStatistic(items_base=frozenset({'3118'}), items_add=frozenset({'7', '0'}), confidence=0.9142155860094089, lift=54.13670869935955), OrderedStatistic(items_base=frozenset({'3118', '0'}), items_add=frozenset({'7'}), confidence=0.9144026186579378, lift=54.05165856504521)])\n",
            "frozenset({'3118', '0', '7'})\n",
            "6\n",
            "RelationRecord(items=frozenset({'3118', '1386', '7'}), support=0.0015312453074740578, ordered_statistics=[OrderedStatistic(items_base=frozenset({'3118', '1386'}), items_add=frozenset({'7'}), confidence=1.0, lift=59.11144332064189)])\n",
            "frozenset({'3118', '1386', '7'})\n",
            "7\n",
            "RelationRecord(items=frozenset({'7', '3118', '1535'}), support=0.0016683658550078638, ordered_statistics=[OrderedStatistic(items_base=frozenset({'3118', '1535'}), items_add=frozenset({'7'}), confidence=1.0, lift=59.11144332064189)])\n",
            "frozenset({'7', '3118', '1535'})\n",
            "8\n",
            "RelationRecord(items=frozenset({'1646', '4', '7450'}), support=0.0015913096395349757, ordered_statistics=[OrderedStatistic(items_base=frozenset({'1646', '7450'}), items_add=frozenset({'4'}), confidence=0.8170014201663623, lift=3.2254755231325576)])\n",
            "frozenset({'1646', '4', '7450'})\n",
            "9\n",
            "RelationRecord(items=frozenset({'3118', '0', '1386', '7'}), support=0.0015312453074740578, ordered_statistics=[OrderedStatistic(items_base=frozenset({'3118', '1386'}), items_add=frozenset({'7', '0'}), confidence=1.0, lift=59.21656721656721), OrderedStatistic(items_base=frozenset({'3118', '0', '1386'}), items_add=frozenset({'7'}), confidence=1.0, lift=59.11144332064189)])\n",
            "frozenset({'3118', '0', '1386', '7'})\n",
            "10\n",
            "RelationRecord(items=frozenset({'7', '3118', '0', '1535'}), support=0.0016683658550078638, ordered_statistics=[OrderedStatistic(items_base=frozenset({'3118', '1535'}), items_add=frozenset({'7', '0'}), confidence=1.0, lift=59.21656721656721), OrderedStatistic(items_base=frozenset({'3118', '0', '1535'}), items_add=frozenset({'7'}), confidence=1.0, lift=59.11144332064189)])\n",
            "frozenset({'7', '3118', '0', '1535'})\n",
            "11\n",
            "RelationRecord(items=frozenset({'4', '1646', '0', '7450'}), support=0.0015913096395349757, ordered_statistics=[OrderedStatistic(items_base=frozenset({'1646', '7450'}), items_add=frozenset({'4', '0'}), confidence=0.8170014201663623, lift=3.2256164243534395), OrderedStatistic(items_base=frozenset({'1646', '0', '7450'}), items_add=frozenset({'4'}), confidence=0.8191619202603744, lift=3.2340050556388076)])\n",
            "frozenset({'4', '1646', '0', '7450'})\n",
            "##############################################################################\n",
            "Support=  0.0015 \tConfidence=  0.8\n",
            "Round:  6\n",
            "0\n",
            "RelationRecord(items=frozenset({'3018', '7'}), support=0.001864365254364543, ordered_statistics=[OrderedStatistic(items_base=frozenset({'3018'}), items_add=frozenset({'7'}), confidence=0.9184348841736423, lift=54.29001159953055)])\n",
            "frozenset({'3018', '7'})\n",
            "1\n",
            "RelationRecord(items=frozenset({'3118', '7'}), support=0.008831827773431018, ordered_statistics=[OrderedStatistic(items_base=frozenset({'3118'}), items_add=frozenset({'7'}), confidence=0.9142974023317653, lift=54.045439076144255)])\n",
            "frozenset({'3118', '7'})\n",
            "2\n",
            "RelationRecord(items=frozenset({'3018', '7', '0'}), support=0.001864365254364543, ordered_statistics=[OrderedStatistic(items_base=frozenset({'3018'}), items_add=frozenset({'7', '0'}), confidence=0.9184348841736423, lift=54.386561052708615), OrderedStatistic(items_base=frozenset({'3018', '0'}), items_add=frozenset({'7'}), confidence=0.918613707165109, lift=54.30058208465507)])\n",
            "frozenset({'3018', '7', '0'})\n",
            "3\n",
            "RelationRecord(items=frozenset({'3118', '0', '7'}), support=0.00883103745327232, ordered_statistics=[OrderedStatistic(items_base=frozenset({'3118'}), items_add=frozenset({'7', '0'}), confidence=0.9142155860094089, lift=54.13670869935955), OrderedStatistic(items_base=frozenset({'3118', '0'}), items_add=frozenset({'7'}), confidence=0.9144026186579378, lift=54.05165856504521)])\n",
            "frozenset({'3118', '0', '7'})\n",
            "4\n",
            "RelationRecord(items=frozenset({'3118', '1386', '7'}), support=0.0015312453074740578, ordered_statistics=[OrderedStatistic(items_base=frozenset({'3118', '1386'}), items_add=frozenset({'7'}), confidence=1.0, lift=59.11144332064189)])\n",
            "frozenset({'3118', '1386', '7'})\n",
            "5\n",
            "RelationRecord(items=frozenset({'7', '3118', '1535'}), support=0.0016683658550078638, ordered_statistics=[OrderedStatistic(items_base=frozenset({'3118', '1535'}), items_add=frozenset({'7'}), confidence=1.0, lift=59.11144332064189)])\n",
            "frozenset({'7', '3118', '1535'})\n",
            "6\n",
            "RelationRecord(items=frozenset({'1646', '4', '7450'}), support=0.0015913096395349757, ordered_statistics=[OrderedStatistic(items_base=frozenset({'1646', '7450'}), items_add=frozenset({'4'}), confidence=0.8170014201663623, lift=3.2254755231325576)])\n",
            "frozenset({'1646', '4', '7450'})\n",
            "7\n",
            "RelationRecord(items=frozenset({'3118', '0', '1386', '7'}), support=0.0015312453074740578, ordered_statistics=[OrderedStatistic(items_base=frozenset({'3118', '1386'}), items_add=frozenset({'7', '0'}), confidence=1.0, lift=59.21656721656721), OrderedStatistic(items_base=frozenset({'3118', '0', '1386'}), items_add=frozenset({'7'}), confidence=1.0, lift=59.11144332064189)])\n",
            "frozenset({'3118', '0', '1386', '7'})\n",
            "8\n",
            "RelationRecord(items=frozenset({'7', '3118', '0', '1535'}), support=0.0016683658550078638, ordered_statistics=[OrderedStatistic(items_base=frozenset({'3118', '1535'}), items_add=frozenset({'7', '0'}), confidence=1.0, lift=59.21656721656721), OrderedStatistic(items_base=frozenset({'3118', '0', '1535'}), items_add=frozenset({'7'}), confidence=1.0, lift=59.11144332064189)])\n",
            "frozenset({'7', '3118', '0', '1535'})\n",
            "9\n",
            "RelationRecord(items=frozenset({'4', '1646', '0', '7450'}), support=0.0015913096395349757, ordered_statistics=[OrderedStatistic(items_base=frozenset({'1646', '7450'}), items_add=frozenset({'4', '0'}), confidence=0.8170014201663623, lift=3.2256164243534395), OrderedStatistic(items_base=frozenset({'1646', '0', '7450'}), items_add=frozenset({'4'}), confidence=0.8191619202603744, lift=3.2340050556388076)])\n",
            "frozenset({'4', '1646', '0', '7450'})\n",
            "##############################################################################\n",
            "Support=  0.0015 \tConfidence=  0.85\n",
            "Round:  7\n",
            "0\n",
            "RelationRecord(items=frozenset({'3018', '7'}), support=0.001864365254364543, ordered_statistics=[OrderedStatistic(items_base=frozenset({'3018'}), items_add=frozenset({'7'}), confidence=0.9184348841736423, lift=54.29001159953055)])\n",
            "frozenset({'3018', '7'})\n",
            "1\n",
            "RelationRecord(items=frozenset({'3118', '7'}), support=0.008831827773431018, ordered_statistics=[OrderedStatistic(items_base=frozenset({'3118'}), items_add=frozenset({'7'}), confidence=0.9142974023317653, lift=54.045439076144255)])\n",
            "frozenset({'3118', '7'})\n",
            "2\n",
            "RelationRecord(items=frozenset({'3018', '7', '0'}), support=0.001864365254364543, ordered_statistics=[OrderedStatistic(items_base=frozenset({'3018'}), items_add=frozenset({'7', '0'}), confidence=0.9184348841736423, lift=54.386561052708615), OrderedStatistic(items_base=frozenset({'3018', '0'}), items_add=frozenset({'7'}), confidence=0.918613707165109, lift=54.30058208465507)])\n",
            "frozenset({'3018', '7', '0'})\n",
            "3\n",
            "RelationRecord(items=frozenset({'3118', '0', '7'}), support=0.00883103745327232, ordered_statistics=[OrderedStatistic(items_base=frozenset({'3118'}), items_add=frozenset({'7', '0'}), confidence=0.9142155860094089, lift=54.13670869935955), OrderedStatistic(items_base=frozenset({'3118', '0'}), items_add=frozenset({'7'}), confidence=0.9144026186579378, lift=54.05165856504521)])\n",
            "frozenset({'3118', '0', '7'})\n",
            "4\n",
            "RelationRecord(items=frozenset({'3118', '1386', '7'}), support=0.0015312453074740578, ordered_statistics=[OrderedStatistic(items_base=frozenset({'3118', '1386'}), items_add=frozenset({'7'}), confidence=1.0, lift=59.11144332064189)])\n",
            "frozenset({'3118', '1386', '7'})\n",
            "5\n",
            "RelationRecord(items=frozenset({'7', '3118', '1535'}), support=0.0016683658550078638, ordered_statistics=[OrderedStatistic(items_base=frozenset({'3118', '1535'}), items_add=frozenset({'7'}), confidence=1.0, lift=59.11144332064189)])\n",
            "frozenset({'7', '3118', '1535'})\n",
            "6\n",
            "RelationRecord(items=frozenset({'3118', '0', '1386', '7'}), support=0.0015312453074740578, ordered_statistics=[OrderedStatistic(items_base=frozenset({'3118', '1386'}), items_add=frozenset({'7', '0'}), confidence=1.0, lift=59.21656721656721), OrderedStatistic(items_base=frozenset({'3118', '0', '1386'}), items_add=frozenset({'7'}), confidence=1.0, lift=59.11144332064189)])\n",
            "frozenset({'3118', '0', '1386', '7'})\n",
            "7\n",
            "RelationRecord(items=frozenset({'7', '3118', '0', '1535'}), support=0.0016683658550078638, ordered_statistics=[OrderedStatistic(items_base=frozenset({'3118', '1535'}), items_add=frozenset({'7', '0'}), confidence=1.0, lift=59.21656721656721), OrderedStatistic(items_base=frozenset({'3118', '0', '1535'}), items_add=frozenset({'7'}), confidence=1.0, lift=59.11144332064189)])\n",
            "frozenset({'7', '3118', '0', '1535'})\n",
            "##############################################################################\n",
            "Support=  0.0015 \tConfidence=  0.9\n",
            "Round:  8\n",
            "0\n",
            "RelationRecord(items=frozenset({'3018', '7'}), support=0.001864365254364543, ordered_statistics=[OrderedStatistic(items_base=frozenset({'3018'}), items_add=frozenset({'7'}), confidence=0.9184348841736423, lift=54.29001159953055)])\n",
            "frozenset({'3018', '7'})\n",
            "1\n",
            "RelationRecord(items=frozenset({'3118', '7'}), support=0.008831827773431018, ordered_statistics=[OrderedStatistic(items_base=frozenset({'3118'}), items_add=frozenset({'7'}), confidence=0.9142974023317653, lift=54.045439076144255)])\n",
            "frozenset({'3118', '7'})\n",
            "2\n",
            "RelationRecord(items=frozenset({'3018', '7', '0'}), support=0.001864365254364543, ordered_statistics=[OrderedStatistic(items_base=frozenset({'3018'}), items_add=frozenset({'7', '0'}), confidence=0.9184348841736423, lift=54.386561052708615), OrderedStatistic(items_base=frozenset({'3018', '0'}), items_add=frozenset({'7'}), confidence=0.918613707165109, lift=54.30058208465507)])\n",
            "frozenset({'3018', '7', '0'})\n",
            "3\n",
            "RelationRecord(items=frozenset({'3118', '0', '7'}), support=0.00883103745327232, ordered_statistics=[OrderedStatistic(items_base=frozenset({'3118'}), items_add=frozenset({'7', '0'}), confidence=0.9142155860094089, lift=54.13670869935955), OrderedStatistic(items_base=frozenset({'3118', '0'}), items_add=frozenset({'7'}), confidence=0.9144026186579378, lift=54.05165856504521)])\n",
            "frozenset({'3118', '0', '7'})\n",
            "4\n",
            "RelationRecord(items=frozenset({'3118', '1386', '7'}), support=0.0015312453074740578, ordered_statistics=[OrderedStatistic(items_base=frozenset({'3118', '1386'}), items_add=frozenset({'7'}), confidence=1.0, lift=59.11144332064189)])\n",
            "frozenset({'3118', '1386', '7'})\n",
            "5\n",
            "RelationRecord(items=frozenset({'7', '3118', '1535'}), support=0.0016683658550078638, ordered_statistics=[OrderedStatistic(items_base=frozenset({'3118', '1535'}), items_add=frozenset({'7'}), confidence=1.0, lift=59.11144332064189)])\n",
            "frozenset({'7', '3118', '1535'})\n",
            "6\n",
            "RelationRecord(items=frozenset({'3118', '0', '1386', '7'}), support=0.0015312453074740578, ordered_statistics=[OrderedStatistic(items_base=frozenset({'3118', '1386'}), items_add=frozenset({'7', '0'}), confidence=1.0, lift=59.21656721656721), OrderedStatistic(items_base=frozenset({'3118', '0', '1386'}), items_add=frozenset({'7'}), confidence=1.0, lift=59.11144332064189)])\n",
            "frozenset({'3118', '0', '1386', '7'})\n",
            "7\n",
            "RelationRecord(items=frozenset({'7', '3118', '0', '1535'}), support=0.0016683658550078638, ordered_statistics=[OrderedStatistic(items_base=frozenset({'3118', '1535'}), items_add=frozenset({'7', '0'}), confidence=1.0, lift=59.21656721656721), OrderedStatistic(items_base=frozenset({'3118', '0', '1535'}), items_add=frozenset({'7'}), confidence=1.0, lift=59.11144332064189)])\n",
            "frozenset({'7', '3118', '0', '1535'})\n",
            "##############################################################################\n",
            "Support=  0.0015 \tConfidence=  0.95\n",
            "Round:  9\n",
            "0\n",
            "RelationRecord(items=frozenset({'3118', '1386', '7'}), support=0.0015312453074740578, ordered_statistics=[OrderedStatistic(items_base=frozenset({'3118', '1386'}), items_add=frozenset({'7'}), confidence=1.0, lift=59.11144332064189)])\n",
            "frozenset({'3118', '1386', '7'})\n",
            "1\n",
            "RelationRecord(items=frozenset({'7', '3118', '1535'}), support=0.0016683658550078638, ordered_statistics=[OrderedStatistic(items_base=frozenset({'3118', '1535'}), items_add=frozenset({'7'}), confidence=1.0, lift=59.11144332064189)])\n",
            "frozenset({'7', '3118', '1535'})\n",
            "2\n",
            "RelationRecord(items=frozenset({'3118', '0', '1386', '7'}), support=0.0015312453074740578, ordered_statistics=[OrderedStatistic(items_base=frozenset({'3118', '1386'}), items_add=frozenset({'7', '0'}), confidence=1.0, lift=59.21656721656721), OrderedStatistic(items_base=frozenset({'3118', '0', '1386'}), items_add=frozenset({'7'}), confidence=1.0, lift=59.11144332064189)])\n",
            "frozenset({'3118', '0', '1386', '7'})\n",
            "3\n",
            "RelationRecord(items=frozenset({'7', '3118', '0', '1535'}), support=0.0016683658550078638, ordered_statistics=[OrderedStatistic(items_base=frozenset({'3118', '1535'}), items_add=frozenset({'7', '0'}), confidence=1.0, lift=59.21656721656721), OrderedStatistic(items_base=frozenset({'3118', '0', '1535'}), items_add=frozenset({'7'}), confidence=1.0, lift=59.11144332064189)])\n",
            "frozenset({'7', '3118', '0', '1535'})\n",
            "##############################################################################\n"
          ],
          "name": "stdout"
        }
      ]
    },
    {
      "cell_type": "code",
      "metadata": {
        "colab": {
          "base_uri": "https://localhost:8080/"
        },
        "id": "UHE0zehRXvkw",
        "outputId": "1b5a9d77-6664-420d-fac5-b73071f1054a"
      },
      "source": [
        "threshold_support=0.001\n",
        "i=0\n",
        "for c in confidence_values:\n",
        "  print(\"Support= \",threshold_support,\"\\tConfidence= \", round(c,4))\n",
        "  rules = apriori(transactions, min_support = threshold_support, min_confidence = round(c,4), min_lift = 3, min_length = 2)\n",
        "  # Visualising the results\n",
        "  results = list(rules)\n",
        "  myResults = [list(x) for x in results]\n",
        "  print(\"Round: \",i)\n",
        "  for j in range(len(results)):\n",
        "      print(j)\n",
        "      print(results[j])\n",
        "      print(results[j].items)\n",
        "  print(\"##############################################################################\")\n",
        "  i=i+1"
      ],
      "execution_count": null,
      "outputs": [
        {
          "output_type": "stream",
          "text": [
            "Support=  0.001 \tConfidence=  0.5\n",
            "Round:  0\n",
            "0\n",
            "RelationRecord(items=frozenset({'2400', '1'}), support=0.001029392006701915, ordered_statistics=[OrderedStatistic(items_base=frozenset({'2400'}), items_add=frozenset({'1'}), confidence=0.7434360730593607, lift=78.93904230291945)])\n",
            "frozenset({'2400', '1'})\n",
            "1\n",
            "RelationRecord(items=frozenset({'1386', '33447'}), support=0.0011250207459041657, ordered_statistics=[OrderedStatistic(items_base=frozenset({'33447'}), items_add=frozenset({'1386'}), confidence=0.9858033240997228, lift=5.170617354335957)])\n",
            "frozenset({'1386', '33447'})\n",
            "2\n",
            "RelationRecord(items=frozenset({'1646', '7450'}), support=0.0019477440311070015, ordered_statistics=[OrderedStatistic(items_base=frozenset({'7450'}), items_add=frozenset({'1646'}), confidence=0.5421845781542185, lift=32.84412057854287)])\n",
            "frozenset({'1646', '7450'})\n",
            "3\n",
            "RelationRecord(items=frozenset({'204', '4'}), support=0.00222909800760288, ordered_statistics=[OrderedStatistic(items_base=frozenset({'204'}), items_add=frozenset({'4'}), confidence=0.7865309537088678, lift=3.10517984027185)])\n",
            "frozenset({'204', '4'})\n",
            "4\n",
            "RelationRecord(items=frozenset({'3018', '7'}), support=0.001864365254364543, ordered_statistics=[OrderedStatistic(items_base=frozenset({'3018'}), items_add=frozenset({'7'}), confidence=0.9184348841736423, lift=54.29001159953055)])\n",
            "frozenset({'3018', '7'})\n",
            "5\n",
            "RelationRecord(items=frozenset({'3118', '7'}), support=0.008831827773431018, ordered_statistics=[OrderedStatistic(items_base=frozenset({'3118'}), items_add=frozenset({'7'}), confidence=0.9142974023317653, lift=54.045439076144255), OrderedStatistic(items_base=frozenset({'7'}), items_add=frozenset({'3118'}), confidence=0.5220620868468384, lift=54.045439076144255)])\n",
            "frozenset({'3118', '7'})\n",
            "6\n",
            "RelationRecord(items=frozenset({'3585', '7'}), support=0.001386221558353289, ordered_statistics=[OrderedStatistic(items_base=frozenset({'3585'}), items_add=frozenset({'7'}), confidence=0.9929238607415795, lift=58.693162515938795)])\n",
            "frozenset({'3585', '7'})\n",
            "7\n",
            "RelationRecord(items=frozenset({'2400', '0', '1'}), support=0.001029392006701915, ordered_statistics=[OrderedStatistic(items_base=frozenset({'2400'}), items_add=frozenset({'0', '1'}), confidence=0.7434360730593607, lift=79.02525287543492), OrderedStatistic(items_base=frozenset({'2400', '0'}), items_add=frozenset({'1'}), confidence=0.743648301455895, lift=78.96157699955175)])\n",
            "frozenset({'2400', '0', '1'})\n",
            "8\n",
            "RelationRecord(items=frozenset({'0', '1386', '33447'}), support=0.0011250207459041657, ordered_statistics=[OrderedStatistic(items_base=frozenset({'33447'}), items_add=frozenset({'0', '1386'}), confidence=0.9858033240997228, lift=5.175015004269633), OrderedStatistic(items_base=frozenset({'0', '33447'}), items_add=frozenset({'1386'}), confidence=0.9858033240997228, lift=5.170617354335957)])\n",
            "frozenset({'0', '1386', '33447'})\n",
            "9\n",
            "RelationRecord(items=frozenset({'1646', '0', '7450'}), support=0.0019426069500754755, ordered_statistics=[OrderedStatistic(items_base=frozenset({'7450'}), items_add=frozenset({'1646', '0'}), confidence=0.5407545924540754, lift=32.78732028550524), OrderedStatistic(items_base=frozenset({'7450', '0'}), items_add=frozenset({'1646'}), confidence=0.5415289711390173, lift=32.80440562402921)])\n",
            "frozenset({'1646', '0', '7450'})\n",
            "10\n",
            "RelationRecord(items=frozenset({'204', '4', '0'}), support=0.00222909800760288, ordered_statistics=[OrderedStatistic(items_base=frozenset({'204'}), items_add=frozenset({'4', '0'}), confidence=0.7865309537088678, lift=3.105315486512975), OrderedStatistic(items_base=frozenset({'204', '0'}), items_add=frozenset({'4'}), confidence=0.7865309537088678, lift=3.10517984027185)])\n",
            "frozenset({'204', '4', '0'})\n",
            "11\n",
            "RelationRecord(items=frozenset({'3018', '7', '0'}), support=0.001864365254364543, ordered_statistics=[OrderedStatistic(items_base=frozenset({'3018'}), items_add=frozenset({'7', '0'}), confidence=0.9184348841736423, lift=54.386561052708615), OrderedStatistic(items_base=frozenset({'3018', '0'}), items_add=frozenset({'7'}), confidence=0.918613707165109, lift=54.30058208465507)])\n",
            "frozenset({'3018', '7', '0'})\n",
            "12\n",
            "RelationRecord(items=frozenset({'3118', '0', '7'}), support=0.00883103745327232, ordered_statistics=[OrderedStatistic(items_base=frozenset({'3118'}), items_add=frozenset({'7', '0'}), confidence=0.9142155860094089, lift=54.13670869935955), OrderedStatistic(items_base=frozenset({'7'}), items_add=frozenset({'3118', '0'}), confidence=0.5220153698815725, lift=54.05165856504521), OrderedStatistic(items_base=frozenset({'3118', '0'}), items_add=frozenset({'7'}), confidence=0.9144026186579378, lift=54.05165856504521), OrderedStatistic(items_base=frozenset({'7', '0'}), items_add=frozenset({'3118'}), confidence=0.5229437229437229, lift=54.13670869935955)])\n",
            "frozenset({'3118', '0', '7'})\n",
            "13\n",
            "RelationRecord(items=frozenset({'3585', '7', '0'}), support=0.001386221558353289, ordered_statistics=[OrderedStatistic(items_base=frozenset({'3585'}), items_add=frozenset({'7', '0'}), confidence=0.9929238607415795, lift=58.797542540537165), OrderedStatistic(items_base=frozenset({'3585', '0'}), items_add=frozenset({'7'}), confidence=0.9929238607415795, lift=58.693162515938795)])\n",
            "frozenset({'3585', '7', '0'})\n",
            "14\n",
            "RelationRecord(items=frozenset({'3118', '1386', '7'}), support=0.0015312453074740578, ordered_statistics=[OrderedStatistic(items_base=frozenset({'3118', '1386'}), items_add=frozenset({'7'}), confidence=1.0, lift=59.11144332064189), OrderedStatistic(items_base=frozenset({'7', '1386'}), items_add=frozenset({'3118'}), confidence=0.6890113798008535, lift=71.32853254046373)])\n",
            "frozenset({'3118', '1386', '7'})\n",
            "15\n",
            "RelationRecord(items=frozenset({'7', '3118', '1535'}), support=0.0016683658550078638, ordered_statistics=[OrderedStatistic(items_base=frozenset({'3118', '1535'}), items_add=frozenset({'7'}), confidence=1.0, lift=59.11144332064189), OrderedStatistic(items_base=frozenset({'7', '1535'}), items_add=frozenset({'3118'}), confidence=0.6352693349383087, lift=65.76499424755913)])\n",
            "frozenset({'7', '3118', '1535'})\n",
            "16\n",
            "RelationRecord(items=frozenset({'1646', '4', '7450'}), support=0.0015913096395349757, ordered_statistics=[OrderedStatistic(items_base=frozenset({'1646', '7450'}), items_add=frozenset({'4'}), confidence=0.8170014201663623, lift=3.2254755231325576), OrderedStatistic(items_base=frozenset({'4', '7450'}), items_add=frozenset({'1646'}), confidence=0.6185867895545316, lift=37.47236628084953)])\n",
            "frozenset({'1646', '4', '7450'})\n",
            "17\n",
            "RelationRecord(items=frozenset({'3118', '0', '1386', '7'}), support=0.0015312453074740578, ordered_statistics=[OrderedStatistic(items_base=frozenset({'3118', '1386'}), items_add=frozenset({'7', '0'}), confidence=1.0, lift=59.21656721656721), OrderedStatistic(items_base=frozenset({'7', '1386'}), items_add=frozenset({'3118', '0'}), confidence=0.6890113798008535, lift=71.3431251207707), OrderedStatistic(items_base=frozenset({'3118', '0', '1386'}), items_add=frozenset({'7'}), confidence=1.0, lift=59.11144332064189), OrderedStatistic(items_base=frozenset({'7', '0', '1386'}), items_add=frozenset({'3118'}), confidence=0.6890113798008535, lift=71.32853254046373)])\n",
            "frozenset({'3118', '0', '1386', '7'})\n",
            "18\n",
            "RelationRecord(items=frozenset({'7', '3118', '0', '1535'}), support=0.0016683658550078638, ordered_statistics=[OrderedStatistic(items_base=frozenset({'3118', '1535'}), items_add=frozenset({'7', '0'}), confidence=1.0, lift=59.21656721656721), OrderedStatistic(items_base=frozenset({'7', '1535'}), items_add=frozenset({'3118', '0'}), confidence=0.6352693349383087, lift=65.77844862445102), OrderedStatistic(items_base=frozenset({'3118', '0', '1535'}), items_add=frozenset({'7'}), confidence=1.0, lift=59.11144332064189), OrderedStatistic(items_base=frozenset({'7', '0', '1535'}), items_add=frozenset({'3118'}), confidence=0.6352693349383087, lift=65.76499424755913)])\n",
            "frozenset({'7', '3118', '0', '1535'})\n",
            "19\n",
            "RelationRecord(items=frozenset({'4', '1646', '0', '7450'}), support=0.0015913096395349757, ordered_statistics=[OrderedStatistic(items_base=frozenset({'1646', '7450'}), items_add=frozenset({'4', '0'}), confidence=0.8170014201663623, lift=3.2256164243534395), OrderedStatistic(items_base=frozenset({'4', '7450'}), items_add=frozenset({'1646', '0'}), confidence=0.6185867895545316, lift=37.50648348905021), OrderedStatistic(items_base=frozenset({'1646', '0', '7450'}), items_add=frozenset({'4'}), confidence=0.8191619202603744, lift=3.2340050556388076), OrderedStatistic(items_base=frozenset({'4', '0', '7450'}), items_add=frozenset({'1646'}), confidence=0.6185867895545316, lift=37.47236628084953)])\n",
            "frozenset({'4', '1646', '0', '7450'})\n",
            "##############################################################################\n",
            "Support=  0.001 \tConfidence=  0.55\n",
            "Round:  1\n",
            "0\n",
            "RelationRecord(items=frozenset({'2400', '1'}), support=0.001029392006701915, ordered_statistics=[OrderedStatistic(items_base=frozenset({'2400'}), items_add=frozenset({'1'}), confidence=0.7434360730593607, lift=78.93904230291945)])\n",
            "frozenset({'2400', '1'})\n",
            "1\n",
            "RelationRecord(items=frozenset({'1386', '33447'}), support=0.0011250207459041657, ordered_statistics=[OrderedStatistic(items_base=frozenset({'33447'}), items_add=frozenset({'1386'}), confidence=0.9858033240997228, lift=5.170617354335957)])\n",
            "frozenset({'1386', '33447'})\n",
            "2\n",
            "RelationRecord(items=frozenset({'204', '4'}), support=0.00222909800760288, ordered_statistics=[OrderedStatistic(items_base=frozenset({'204'}), items_add=frozenset({'4'}), confidence=0.7865309537088678, lift=3.10517984027185)])\n",
            "frozenset({'204', '4'})\n",
            "3\n",
            "RelationRecord(items=frozenset({'3018', '7'}), support=0.001864365254364543, ordered_statistics=[OrderedStatistic(items_base=frozenset({'3018'}), items_add=frozenset({'7'}), confidence=0.9184348841736423, lift=54.29001159953055)])\n",
            "frozenset({'3018', '7'})\n",
            "4\n",
            "RelationRecord(items=frozenset({'3118', '7'}), support=0.008831827773431018, ordered_statistics=[OrderedStatistic(items_base=frozenset({'3118'}), items_add=frozenset({'7'}), confidence=0.9142974023317653, lift=54.045439076144255)])\n",
            "frozenset({'3118', '7'})\n",
            "5\n",
            "RelationRecord(items=frozenset({'3585', '7'}), support=0.001386221558353289, ordered_statistics=[OrderedStatistic(items_base=frozenset({'3585'}), items_add=frozenset({'7'}), confidence=0.9929238607415795, lift=58.693162515938795)])\n",
            "frozenset({'3585', '7'})\n",
            "6\n",
            "RelationRecord(items=frozenset({'2400', '0', '1'}), support=0.001029392006701915, ordered_statistics=[OrderedStatistic(items_base=frozenset({'2400'}), items_add=frozenset({'0', '1'}), confidence=0.7434360730593607, lift=79.02525287543492), OrderedStatistic(items_base=frozenset({'2400', '0'}), items_add=frozenset({'1'}), confidence=0.743648301455895, lift=78.96157699955175)])\n",
            "frozenset({'2400', '0', '1'})\n",
            "7\n",
            "RelationRecord(items=frozenset({'0', '1386', '33447'}), support=0.0011250207459041657, ordered_statistics=[OrderedStatistic(items_base=frozenset({'33447'}), items_add=frozenset({'0', '1386'}), confidence=0.9858033240997228, lift=5.175015004269633), OrderedStatistic(items_base=frozenset({'0', '33447'}), items_add=frozenset({'1386'}), confidence=0.9858033240997228, lift=5.170617354335957)])\n",
            "frozenset({'0', '1386', '33447'})\n",
            "8\n",
            "RelationRecord(items=frozenset({'204', '4', '0'}), support=0.00222909800760288, ordered_statistics=[OrderedStatistic(items_base=frozenset({'204'}), items_add=frozenset({'4', '0'}), confidence=0.7865309537088678, lift=3.105315486512975), OrderedStatistic(items_base=frozenset({'204', '0'}), items_add=frozenset({'4'}), confidence=0.7865309537088678, lift=3.10517984027185)])\n",
            "frozenset({'204', '4', '0'})\n",
            "9\n",
            "RelationRecord(items=frozenset({'3018', '7', '0'}), support=0.001864365254364543, ordered_statistics=[OrderedStatistic(items_base=frozenset({'3018'}), items_add=frozenset({'7', '0'}), confidence=0.9184348841736423, lift=54.386561052708615), OrderedStatistic(items_base=frozenset({'3018', '0'}), items_add=frozenset({'7'}), confidence=0.918613707165109, lift=54.30058208465507)])\n",
            "frozenset({'3018', '7', '0'})\n",
            "10\n",
            "RelationRecord(items=frozenset({'3118', '0', '7'}), support=0.00883103745327232, ordered_statistics=[OrderedStatistic(items_base=frozenset({'3118'}), items_add=frozenset({'7', '0'}), confidence=0.9142155860094089, lift=54.13670869935955), OrderedStatistic(items_base=frozenset({'3118', '0'}), items_add=frozenset({'7'}), confidence=0.9144026186579378, lift=54.05165856504521)])\n",
            "frozenset({'3118', '0', '7'})\n",
            "11\n",
            "RelationRecord(items=frozenset({'3585', '7', '0'}), support=0.001386221558353289, ordered_statistics=[OrderedStatistic(items_base=frozenset({'3585'}), items_add=frozenset({'7', '0'}), confidence=0.9929238607415795, lift=58.797542540537165), OrderedStatistic(items_base=frozenset({'3585', '0'}), items_add=frozenset({'7'}), confidence=0.9929238607415795, lift=58.693162515938795)])\n",
            "frozenset({'3585', '7', '0'})\n",
            "12\n",
            "RelationRecord(items=frozenset({'3118', '1386', '7'}), support=0.0015312453074740578, ordered_statistics=[OrderedStatistic(items_base=frozenset({'3118', '1386'}), items_add=frozenset({'7'}), confidence=1.0, lift=59.11144332064189), OrderedStatistic(items_base=frozenset({'7', '1386'}), items_add=frozenset({'3118'}), confidence=0.6890113798008535, lift=71.32853254046373)])\n",
            "frozenset({'3118', '1386', '7'})\n",
            "13\n",
            "RelationRecord(items=frozenset({'7', '3118', '1535'}), support=0.0016683658550078638, ordered_statistics=[OrderedStatistic(items_base=frozenset({'3118', '1535'}), items_add=frozenset({'7'}), confidence=1.0, lift=59.11144332064189), OrderedStatistic(items_base=frozenset({'7', '1535'}), items_add=frozenset({'3118'}), confidence=0.6352693349383087, lift=65.76499424755913)])\n",
            "frozenset({'7', '3118', '1535'})\n",
            "14\n",
            "RelationRecord(items=frozenset({'1646', '4', '7450'}), support=0.0015913096395349757, ordered_statistics=[OrderedStatistic(items_base=frozenset({'1646', '7450'}), items_add=frozenset({'4'}), confidence=0.8170014201663623, lift=3.2254755231325576), OrderedStatistic(items_base=frozenset({'4', '7450'}), items_add=frozenset({'1646'}), confidence=0.6185867895545316, lift=37.47236628084953)])\n",
            "frozenset({'1646', '4', '7450'})\n",
            "15\n",
            "RelationRecord(items=frozenset({'3118', '0', '1386', '7'}), support=0.0015312453074740578, ordered_statistics=[OrderedStatistic(items_base=frozenset({'3118', '1386'}), items_add=frozenset({'7', '0'}), confidence=1.0, lift=59.21656721656721), OrderedStatistic(items_base=frozenset({'7', '1386'}), items_add=frozenset({'3118', '0'}), confidence=0.6890113798008535, lift=71.3431251207707), OrderedStatistic(items_base=frozenset({'3118', '0', '1386'}), items_add=frozenset({'7'}), confidence=1.0, lift=59.11144332064189), OrderedStatistic(items_base=frozenset({'7', '0', '1386'}), items_add=frozenset({'3118'}), confidence=0.6890113798008535, lift=71.32853254046373)])\n",
            "frozenset({'3118', '0', '1386', '7'})\n",
            "16\n",
            "RelationRecord(items=frozenset({'7', '3118', '0', '1535'}), support=0.0016683658550078638, ordered_statistics=[OrderedStatistic(items_base=frozenset({'3118', '1535'}), items_add=frozenset({'7', '0'}), confidence=1.0, lift=59.21656721656721), OrderedStatistic(items_base=frozenset({'7', '1535'}), items_add=frozenset({'3118', '0'}), confidence=0.6352693349383087, lift=65.77844862445102), OrderedStatistic(items_base=frozenset({'3118', '0', '1535'}), items_add=frozenset({'7'}), confidence=1.0, lift=59.11144332064189), OrderedStatistic(items_base=frozenset({'7', '0', '1535'}), items_add=frozenset({'3118'}), confidence=0.6352693349383087, lift=65.76499424755913)])\n",
            "frozenset({'7', '3118', '0', '1535'})\n",
            "17\n",
            "RelationRecord(items=frozenset({'4', '1646', '0', '7450'}), support=0.0015913096395349757, ordered_statistics=[OrderedStatistic(items_base=frozenset({'1646', '7450'}), items_add=frozenset({'4', '0'}), confidence=0.8170014201663623, lift=3.2256164243534395), OrderedStatistic(items_base=frozenset({'4', '7450'}), items_add=frozenset({'1646', '0'}), confidence=0.6185867895545316, lift=37.50648348905021), OrderedStatistic(items_base=frozenset({'1646', '0', '7450'}), items_add=frozenset({'4'}), confidence=0.8191619202603744, lift=3.2340050556388076), OrderedStatistic(items_base=frozenset({'4', '0', '7450'}), items_add=frozenset({'1646'}), confidence=0.6185867895545316, lift=37.47236628084953)])\n",
            "frozenset({'4', '1646', '0', '7450'})\n",
            "##############################################################################\n",
            "Support=  0.001 \tConfidence=  0.6\n",
            "Round:  2\n",
            "0\n",
            "RelationRecord(items=frozenset({'2400', '1'}), support=0.001029392006701915, ordered_statistics=[OrderedStatistic(items_base=frozenset({'2400'}), items_add=frozenset({'1'}), confidence=0.7434360730593607, lift=78.93904230291945)])\n",
            "frozenset({'2400', '1'})\n",
            "1\n",
            "RelationRecord(items=frozenset({'1386', '33447'}), support=0.0011250207459041657, ordered_statistics=[OrderedStatistic(items_base=frozenset({'33447'}), items_add=frozenset({'1386'}), confidence=0.9858033240997228, lift=5.170617354335957)])\n",
            "frozenset({'1386', '33447'})\n",
            "2\n",
            "RelationRecord(items=frozenset({'204', '4'}), support=0.00222909800760288, ordered_statistics=[OrderedStatistic(items_base=frozenset({'204'}), items_add=frozenset({'4'}), confidence=0.7865309537088678, lift=3.10517984027185)])\n",
            "frozenset({'204', '4'})\n",
            "3\n",
            "RelationRecord(items=frozenset({'3018', '7'}), support=0.001864365254364543, ordered_statistics=[OrderedStatistic(items_base=frozenset({'3018'}), items_add=frozenset({'7'}), confidence=0.9184348841736423, lift=54.29001159953055)])\n",
            "frozenset({'3018', '7'})\n",
            "4\n",
            "RelationRecord(items=frozenset({'3118', '7'}), support=0.008831827773431018, ordered_statistics=[OrderedStatistic(items_base=frozenset({'3118'}), items_add=frozenset({'7'}), confidence=0.9142974023317653, lift=54.045439076144255)])\n",
            "frozenset({'3118', '7'})\n",
            "5\n",
            "RelationRecord(items=frozenset({'3585', '7'}), support=0.001386221558353289, ordered_statistics=[OrderedStatistic(items_base=frozenset({'3585'}), items_add=frozenset({'7'}), confidence=0.9929238607415795, lift=58.693162515938795)])\n",
            "frozenset({'3585', '7'})\n",
            "6\n",
            "RelationRecord(items=frozenset({'2400', '0', '1'}), support=0.001029392006701915, ordered_statistics=[OrderedStatistic(items_base=frozenset({'2400'}), items_add=frozenset({'0', '1'}), confidence=0.7434360730593607, lift=79.02525287543492), OrderedStatistic(items_base=frozenset({'2400', '0'}), items_add=frozenset({'1'}), confidence=0.743648301455895, lift=78.96157699955175)])\n",
            "frozenset({'2400', '0', '1'})\n",
            "7\n",
            "RelationRecord(items=frozenset({'0', '1386', '33447'}), support=0.0011250207459041657, ordered_statistics=[OrderedStatistic(items_base=frozenset({'33447'}), items_add=frozenset({'0', '1386'}), confidence=0.9858033240997228, lift=5.175015004269633), OrderedStatistic(items_base=frozenset({'0', '33447'}), items_add=frozenset({'1386'}), confidence=0.9858033240997228, lift=5.170617354335957)])\n",
            "frozenset({'0', '1386', '33447'})\n",
            "8\n",
            "RelationRecord(items=frozenset({'204', '4', '0'}), support=0.00222909800760288, ordered_statistics=[OrderedStatistic(items_base=frozenset({'204'}), items_add=frozenset({'4', '0'}), confidence=0.7865309537088678, lift=3.105315486512975), OrderedStatistic(items_base=frozenset({'204', '0'}), items_add=frozenset({'4'}), confidence=0.7865309537088678, lift=3.10517984027185)])\n",
            "frozenset({'204', '4', '0'})\n",
            "9\n",
            "RelationRecord(items=frozenset({'3018', '7', '0'}), support=0.001864365254364543, ordered_statistics=[OrderedStatistic(items_base=frozenset({'3018'}), items_add=frozenset({'7', '0'}), confidence=0.9184348841736423, lift=54.386561052708615), OrderedStatistic(items_base=frozenset({'3018', '0'}), items_add=frozenset({'7'}), confidence=0.918613707165109, lift=54.30058208465507)])\n",
            "frozenset({'3018', '7', '0'})\n",
            "10\n",
            "RelationRecord(items=frozenset({'3118', '0', '7'}), support=0.00883103745327232, ordered_statistics=[OrderedStatistic(items_base=frozenset({'3118'}), items_add=frozenset({'7', '0'}), confidence=0.9142155860094089, lift=54.13670869935955), OrderedStatistic(items_base=frozenset({'3118', '0'}), items_add=frozenset({'7'}), confidence=0.9144026186579378, lift=54.05165856504521)])\n",
            "frozenset({'3118', '0', '7'})\n",
            "11\n",
            "RelationRecord(items=frozenset({'3585', '7', '0'}), support=0.001386221558353289, ordered_statistics=[OrderedStatistic(items_base=frozenset({'3585'}), items_add=frozenset({'7', '0'}), confidence=0.9929238607415795, lift=58.797542540537165), OrderedStatistic(items_base=frozenset({'3585', '0'}), items_add=frozenset({'7'}), confidence=0.9929238607415795, lift=58.693162515938795)])\n",
            "frozenset({'3585', '7', '0'})\n",
            "12\n",
            "RelationRecord(items=frozenset({'3118', '1386', '7'}), support=0.0015312453074740578, ordered_statistics=[OrderedStatistic(items_base=frozenset({'3118', '1386'}), items_add=frozenset({'7'}), confidence=1.0, lift=59.11144332064189), OrderedStatistic(items_base=frozenset({'7', '1386'}), items_add=frozenset({'3118'}), confidence=0.6890113798008535, lift=71.32853254046373)])\n",
            "frozenset({'3118', '1386', '7'})\n",
            "13\n",
            "RelationRecord(items=frozenset({'7', '3118', '1535'}), support=0.0016683658550078638, ordered_statistics=[OrderedStatistic(items_base=frozenset({'3118', '1535'}), items_add=frozenset({'7'}), confidence=1.0, lift=59.11144332064189), OrderedStatistic(items_base=frozenset({'7', '1535'}), items_add=frozenset({'3118'}), confidence=0.6352693349383087, lift=65.76499424755913)])\n",
            "frozenset({'7', '3118', '1535'})\n",
            "14\n",
            "RelationRecord(items=frozenset({'1646', '4', '7450'}), support=0.0015913096395349757, ordered_statistics=[OrderedStatistic(items_base=frozenset({'1646', '7450'}), items_add=frozenset({'4'}), confidence=0.8170014201663623, lift=3.2254755231325576), OrderedStatistic(items_base=frozenset({'4', '7450'}), items_add=frozenset({'1646'}), confidence=0.6185867895545316, lift=37.47236628084953)])\n",
            "frozenset({'1646', '4', '7450'})\n",
            "15\n",
            "RelationRecord(items=frozenset({'3118', '0', '1386', '7'}), support=0.0015312453074740578, ordered_statistics=[OrderedStatistic(items_base=frozenset({'3118', '1386'}), items_add=frozenset({'7', '0'}), confidence=1.0, lift=59.21656721656721), OrderedStatistic(items_base=frozenset({'7', '1386'}), items_add=frozenset({'3118', '0'}), confidence=0.6890113798008535, lift=71.3431251207707), OrderedStatistic(items_base=frozenset({'3118', '0', '1386'}), items_add=frozenset({'7'}), confidence=1.0, lift=59.11144332064189), OrderedStatistic(items_base=frozenset({'7', '0', '1386'}), items_add=frozenset({'3118'}), confidence=0.6890113798008535, lift=71.32853254046373)])\n",
            "frozenset({'3118', '0', '1386', '7'})\n",
            "16\n",
            "RelationRecord(items=frozenset({'7', '3118', '0', '1535'}), support=0.0016683658550078638, ordered_statistics=[OrderedStatistic(items_base=frozenset({'3118', '1535'}), items_add=frozenset({'7', '0'}), confidence=1.0, lift=59.21656721656721), OrderedStatistic(items_base=frozenset({'7', '1535'}), items_add=frozenset({'3118', '0'}), confidence=0.6352693349383087, lift=65.77844862445102), OrderedStatistic(items_base=frozenset({'3118', '0', '1535'}), items_add=frozenset({'7'}), confidence=1.0, lift=59.11144332064189), OrderedStatistic(items_base=frozenset({'7', '0', '1535'}), items_add=frozenset({'3118'}), confidence=0.6352693349383087, lift=65.76499424755913)])\n",
            "frozenset({'7', '3118', '0', '1535'})\n",
            "17\n",
            "RelationRecord(items=frozenset({'4', '1646', '0', '7450'}), support=0.0015913096395349757, ordered_statistics=[OrderedStatistic(items_base=frozenset({'1646', '7450'}), items_add=frozenset({'4', '0'}), confidence=0.8170014201663623, lift=3.2256164243534395), OrderedStatistic(items_base=frozenset({'4', '7450'}), items_add=frozenset({'1646', '0'}), confidence=0.6185867895545316, lift=37.50648348905021), OrderedStatistic(items_base=frozenset({'1646', '0', '7450'}), items_add=frozenset({'4'}), confidence=0.8191619202603744, lift=3.2340050556388076), OrderedStatistic(items_base=frozenset({'4', '0', '7450'}), items_add=frozenset({'1646'}), confidence=0.6185867895545316, lift=37.47236628084953)])\n",
            "frozenset({'4', '1646', '0', '7450'})\n",
            "##############################################################################\n",
            "Support=  0.001 \tConfidence=  0.65\n",
            "Round:  3\n",
            "0\n",
            "RelationRecord(items=frozenset({'2400', '1'}), support=0.001029392006701915, ordered_statistics=[OrderedStatistic(items_base=frozenset({'2400'}), items_add=frozenset({'1'}), confidence=0.7434360730593607, lift=78.93904230291945)])\n",
            "frozenset({'2400', '1'})\n",
            "1\n",
            "RelationRecord(items=frozenset({'1386', '33447'}), support=0.0011250207459041657, ordered_statistics=[OrderedStatistic(items_base=frozenset({'33447'}), items_add=frozenset({'1386'}), confidence=0.9858033240997228, lift=5.170617354335957)])\n",
            "frozenset({'1386', '33447'})\n",
            "2\n",
            "RelationRecord(items=frozenset({'204', '4'}), support=0.00222909800760288, ordered_statistics=[OrderedStatistic(items_base=frozenset({'204'}), items_add=frozenset({'4'}), confidence=0.7865309537088678, lift=3.10517984027185)])\n",
            "frozenset({'204', '4'})\n",
            "3\n",
            "RelationRecord(items=frozenset({'3018', '7'}), support=0.001864365254364543, ordered_statistics=[OrderedStatistic(items_base=frozenset({'3018'}), items_add=frozenset({'7'}), confidence=0.9184348841736423, lift=54.29001159953055)])\n",
            "frozenset({'3018', '7'})\n",
            "4\n",
            "RelationRecord(items=frozenset({'3118', '7'}), support=0.008831827773431018, ordered_statistics=[OrderedStatistic(items_base=frozenset({'3118'}), items_add=frozenset({'7'}), confidence=0.9142974023317653, lift=54.045439076144255)])\n",
            "frozenset({'3118', '7'})\n",
            "5\n",
            "RelationRecord(items=frozenset({'3585', '7'}), support=0.001386221558353289, ordered_statistics=[OrderedStatistic(items_base=frozenset({'3585'}), items_add=frozenset({'7'}), confidence=0.9929238607415795, lift=58.693162515938795)])\n",
            "frozenset({'3585', '7'})\n",
            "6\n",
            "RelationRecord(items=frozenset({'2400', '0', '1'}), support=0.001029392006701915, ordered_statistics=[OrderedStatistic(items_base=frozenset({'2400'}), items_add=frozenset({'0', '1'}), confidence=0.7434360730593607, lift=79.02525287543492), OrderedStatistic(items_base=frozenset({'2400', '0'}), items_add=frozenset({'1'}), confidence=0.743648301455895, lift=78.96157699955175)])\n",
            "frozenset({'2400', '0', '1'})\n",
            "7\n",
            "RelationRecord(items=frozenset({'0', '1386', '33447'}), support=0.0011250207459041657, ordered_statistics=[OrderedStatistic(items_base=frozenset({'33447'}), items_add=frozenset({'0', '1386'}), confidence=0.9858033240997228, lift=5.175015004269633), OrderedStatistic(items_base=frozenset({'0', '33447'}), items_add=frozenset({'1386'}), confidence=0.9858033240997228, lift=5.170617354335957)])\n",
            "frozenset({'0', '1386', '33447'})\n",
            "8\n",
            "RelationRecord(items=frozenset({'204', '4', '0'}), support=0.00222909800760288, ordered_statistics=[OrderedStatistic(items_base=frozenset({'204'}), items_add=frozenset({'4', '0'}), confidence=0.7865309537088678, lift=3.105315486512975), OrderedStatistic(items_base=frozenset({'204', '0'}), items_add=frozenset({'4'}), confidence=0.7865309537088678, lift=3.10517984027185)])\n",
            "frozenset({'204', '4', '0'})\n",
            "9\n",
            "RelationRecord(items=frozenset({'3018', '7', '0'}), support=0.001864365254364543, ordered_statistics=[OrderedStatistic(items_base=frozenset({'3018'}), items_add=frozenset({'7', '0'}), confidence=0.9184348841736423, lift=54.386561052708615), OrderedStatistic(items_base=frozenset({'3018', '0'}), items_add=frozenset({'7'}), confidence=0.918613707165109, lift=54.30058208465507)])\n",
            "frozenset({'3018', '7', '0'})\n",
            "10\n",
            "RelationRecord(items=frozenset({'3118', '0', '7'}), support=0.00883103745327232, ordered_statistics=[OrderedStatistic(items_base=frozenset({'3118'}), items_add=frozenset({'7', '0'}), confidence=0.9142155860094089, lift=54.13670869935955), OrderedStatistic(items_base=frozenset({'3118', '0'}), items_add=frozenset({'7'}), confidence=0.9144026186579378, lift=54.05165856504521)])\n",
            "frozenset({'3118', '0', '7'})\n",
            "11\n",
            "RelationRecord(items=frozenset({'3585', '7', '0'}), support=0.001386221558353289, ordered_statistics=[OrderedStatistic(items_base=frozenset({'3585'}), items_add=frozenset({'7', '0'}), confidence=0.9929238607415795, lift=58.797542540537165), OrderedStatistic(items_base=frozenset({'3585', '0'}), items_add=frozenset({'7'}), confidence=0.9929238607415795, lift=58.693162515938795)])\n",
            "frozenset({'3585', '7', '0'})\n",
            "12\n",
            "RelationRecord(items=frozenset({'3118', '1386', '7'}), support=0.0015312453074740578, ordered_statistics=[OrderedStatistic(items_base=frozenset({'3118', '1386'}), items_add=frozenset({'7'}), confidence=1.0, lift=59.11144332064189), OrderedStatistic(items_base=frozenset({'7', '1386'}), items_add=frozenset({'3118'}), confidence=0.6890113798008535, lift=71.32853254046373)])\n",
            "frozenset({'3118', '1386', '7'})\n",
            "13\n",
            "RelationRecord(items=frozenset({'7', '3118', '1535'}), support=0.0016683658550078638, ordered_statistics=[OrderedStatistic(items_base=frozenset({'3118', '1535'}), items_add=frozenset({'7'}), confidence=1.0, lift=59.11144332064189)])\n",
            "frozenset({'7', '3118', '1535'})\n",
            "14\n",
            "RelationRecord(items=frozenset({'1646', '4', '7450'}), support=0.0015913096395349757, ordered_statistics=[OrderedStatistic(items_base=frozenset({'1646', '7450'}), items_add=frozenset({'4'}), confidence=0.8170014201663623, lift=3.2254755231325576)])\n",
            "frozenset({'1646', '4', '7450'})\n",
            "15\n",
            "RelationRecord(items=frozenset({'3118', '0', '1386', '7'}), support=0.0015312453074740578, ordered_statistics=[OrderedStatistic(items_base=frozenset({'3118', '1386'}), items_add=frozenset({'7', '0'}), confidence=1.0, lift=59.21656721656721), OrderedStatistic(items_base=frozenset({'7', '1386'}), items_add=frozenset({'3118', '0'}), confidence=0.6890113798008535, lift=71.3431251207707), OrderedStatistic(items_base=frozenset({'3118', '0', '1386'}), items_add=frozenset({'7'}), confidence=1.0, lift=59.11144332064189), OrderedStatistic(items_base=frozenset({'7', '0', '1386'}), items_add=frozenset({'3118'}), confidence=0.6890113798008535, lift=71.32853254046373)])\n",
            "frozenset({'3118', '0', '1386', '7'})\n",
            "16\n",
            "RelationRecord(items=frozenset({'7', '3118', '0', '1535'}), support=0.0016683658550078638, ordered_statistics=[OrderedStatistic(items_base=frozenset({'3118', '1535'}), items_add=frozenset({'7', '0'}), confidence=1.0, lift=59.21656721656721), OrderedStatistic(items_base=frozenset({'3118', '0', '1535'}), items_add=frozenset({'7'}), confidence=1.0, lift=59.11144332064189)])\n",
            "frozenset({'7', '3118', '0', '1535'})\n",
            "17\n",
            "RelationRecord(items=frozenset({'4', '1646', '0', '7450'}), support=0.0015913096395349757, ordered_statistics=[OrderedStatistic(items_base=frozenset({'1646', '7450'}), items_add=frozenset({'4', '0'}), confidence=0.8170014201663623, lift=3.2256164243534395), OrderedStatistic(items_base=frozenset({'1646', '0', '7450'}), items_add=frozenset({'4'}), confidence=0.8191619202603744, lift=3.2340050556388076)])\n",
            "frozenset({'4', '1646', '0', '7450'})\n",
            "##############################################################################\n",
            "Support=  0.001 \tConfidence=  0.7\n",
            "Round:  4\n",
            "0\n",
            "RelationRecord(items=frozenset({'2400', '1'}), support=0.001029392006701915, ordered_statistics=[OrderedStatistic(items_base=frozenset({'2400'}), items_add=frozenset({'1'}), confidence=0.7434360730593607, lift=78.93904230291945)])\n",
            "frozenset({'2400', '1'})\n",
            "1\n",
            "RelationRecord(items=frozenset({'1386', '33447'}), support=0.0011250207459041657, ordered_statistics=[OrderedStatistic(items_base=frozenset({'33447'}), items_add=frozenset({'1386'}), confidence=0.9858033240997228, lift=5.170617354335957)])\n",
            "frozenset({'1386', '33447'})\n",
            "2\n",
            "RelationRecord(items=frozenset({'204', '4'}), support=0.00222909800760288, ordered_statistics=[OrderedStatistic(items_base=frozenset({'204'}), items_add=frozenset({'4'}), confidence=0.7865309537088678, lift=3.10517984027185)])\n",
            "frozenset({'204', '4'})\n",
            "3\n",
            "RelationRecord(items=frozenset({'3018', '7'}), support=0.001864365254364543, ordered_statistics=[OrderedStatistic(items_base=frozenset({'3018'}), items_add=frozenset({'7'}), confidence=0.9184348841736423, lift=54.29001159953055)])\n",
            "frozenset({'3018', '7'})\n",
            "4\n",
            "RelationRecord(items=frozenset({'3118', '7'}), support=0.008831827773431018, ordered_statistics=[OrderedStatistic(items_base=frozenset({'3118'}), items_add=frozenset({'7'}), confidence=0.9142974023317653, lift=54.045439076144255)])\n",
            "frozenset({'3118', '7'})\n",
            "5\n",
            "RelationRecord(items=frozenset({'3585', '7'}), support=0.001386221558353289, ordered_statistics=[OrderedStatistic(items_base=frozenset({'3585'}), items_add=frozenset({'7'}), confidence=0.9929238607415795, lift=58.693162515938795)])\n",
            "frozenset({'3585', '7'})\n",
            "6\n",
            "RelationRecord(items=frozenset({'2400', '0', '1'}), support=0.001029392006701915, ordered_statistics=[OrderedStatistic(items_base=frozenset({'2400'}), items_add=frozenset({'0', '1'}), confidence=0.7434360730593607, lift=79.02525287543492), OrderedStatistic(items_base=frozenset({'2400', '0'}), items_add=frozenset({'1'}), confidence=0.743648301455895, lift=78.96157699955175)])\n",
            "frozenset({'2400', '0', '1'})\n",
            "7\n",
            "RelationRecord(items=frozenset({'0', '1386', '33447'}), support=0.0011250207459041657, ordered_statistics=[OrderedStatistic(items_base=frozenset({'33447'}), items_add=frozenset({'0', '1386'}), confidence=0.9858033240997228, lift=5.175015004269633), OrderedStatistic(items_base=frozenset({'0', '33447'}), items_add=frozenset({'1386'}), confidence=0.9858033240997228, lift=5.170617354335957)])\n",
            "frozenset({'0', '1386', '33447'})\n",
            "8\n",
            "RelationRecord(items=frozenset({'204', '4', '0'}), support=0.00222909800760288, ordered_statistics=[OrderedStatistic(items_base=frozenset({'204'}), items_add=frozenset({'4', '0'}), confidence=0.7865309537088678, lift=3.105315486512975), OrderedStatistic(items_base=frozenset({'204', '0'}), items_add=frozenset({'4'}), confidence=0.7865309537088678, lift=3.10517984027185)])\n",
            "frozenset({'204', '4', '0'})\n",
            "9\n",
            "RelationRecord(items=frozenset({'3018', '7', '0'}), support=0.001864365254364543, ordered_statistics=[OrderedStatistic(items_base=frozenset({'3018'}), items_add=frozenset({'7', '0'}), confidence=0.9184348841736423, lift=54.386561052708615), OrderedStatistic(items_base=frozenset({'3018', '0'}), items_add=frozenset({'7'}), confidence=0.918613707165109, lift=54.30058208465507)])\n",
            "frozenset({'3018', '7', '0'})\n",
            "10\n",
            "RelationRecord(items=frozenset({'3118', '0', '7'}), support=0.00883103745327232, ordered_statistics=[OrderedStatistic(items_base=frozenset({'3118'}), items_add=frozenset({'7', '0'}), confidence=0.9142155860094089, lift=54.13670869935955), OrderedStatistic(items_base=frozenset({'3118', '0'}), items_add=frozenset({'7'}), confidence=0.9144026186579378, lift=54.05165856504521)])\n",
            "frozenset({'3118', '0', '7'})\n",
            "11\n",
            "RelationRecord(items=frozenset({'3585', '7', '0'}), support=0.001386221558353289, ordered_statistics=[OrderedStatistic(items_base=frozenset({'3585'}), items_add=frozenset({'7', '0'}), confidence=0.9929238607415795, lift=58.797542540537165), OrderedStatistic(items_base=frozenset({'3585', '0'}), items_add=frozenset({'7'}), confidence=0.9929238607415795, lift=58.693162515938795)])\n",
            "frozenset({'3585', '7', '0'})\n",
            "12\n",
            "RelationRecord(items=frozenset({'3118', '1386', '7'}), support=0.0015312453074740578, ordered_statistics=[OrderedStatistic(items_base=frozenset({'3118', '1386'}), items_add=frozenset({'7'}), confidence=1.0, lift=59.11144332064189)])\n",
            "frozenset({'3118', '1386', '7'})\n",
            "13\n",
            "RelationRecord(items=frozenset({'7', '3118', '1535'}), support=0.0016683658550078638, ordered_statistics=[OrderedStatistic(items_base=frozenset({'3118', '1535'}), items_add=frozenset({'7'}), confidence=1.0, lift=59.11144332064189)])\n",
            "frozenset({'7', '3118', '1535'})\n",
            "14\n",
            "RelationRecord(items=frozenset({'1646', '4', '7450'}), support=0.0015913096395349757, ordered_statistics=[OrderedStatistic(items_base=frozenset({'1646', '7450'}), items_add=frozenset({'4'}), confidence=0.8170014201663623, lift=3.2254755231325576)])\n",
            "frozenset({'1646', '4', '7450'})\n",
            "15\n",
            "RelationRecord(items=frozenset({'3118', '0', '1386', '7'}), support=0.0015312453074740578, ordered_statistics=[OrderedStatistic(items_base=frozenset({'3118', '1386'}), items_add=frozenset({'7', '0'}), confidence=1.0, lift=59.21656721656721), OrderedStatistic(items_base=frozenset({'3118', '0', '1386'}), items_add=frozenset({'7'}), confidence=1.0, lift=59.11144332064189)])\n",
            "frozenset({'3118', '0', '1386', '7'})\n",
            "16\n",
            "RelationRecord(items=frozenset({'7', '3118', '0', '1535'}), support=0.0016683658550078638, ordered_statistics=[OrderedStatistic(items_base=frozenset({'3118', '1535'}), items_add=frozenset({'7', '0'}), confidence=1.0, lift=59.21656721656721), OrderedStatistic(items_base=frozenset({'3118', '0', '1535'}), items_add=frozenset({'7'}), confidence=1.0, lift=59.11144332064189)])\n",
            "frozenset({'7', '3118', '0', '1535'})\n",
            "17\n",
            "RelationRecord(items=frozenset({'4', '1646', '0', '7450'}), support=0.0015913096395349757, ordered_statistics=[OrderedStatistic(items_base=frozenset({'1646', '7450'}), items_add=frozenset({'4', '0'}), confidence=0.8170014201663623, lift=3.2256164243534395), OrderedStatistic(items_base=frozenset({'1646', '0', '7450'}), items_add=frozenset({'4'}), confidence=0.8191619202603744, lift=3.2340050556388076)])\n",
            "frozenset({'4', '1646', '0', '7450'})\n",
            "##############################################################################\n",
            "Support=  0.001 \tConfidence=  0.75\n",
            "Round:  5\n",
            "0\n",
            "RelationRecord(items=frozenset({'1386', '33447'}), support=0.0011250207459041657, ordered_statistics=[OrderedStatistic(items_base=frozenset({'33447'}), items_add=frozenset({'1386'}), confidence=0.9858033240997228, lift=5.170617354335957)])\n",
            "frozenset({'1386', '33447'})\n",
            "1\n",
            "RelationRecord(items=frozenset({'204', '4'}), support=0.00222909800760288, ordered_statistics=[OrderedStatistic(items_base=frozenset({'204'}), items_add=frozenset({'4'}), confidence=0.7865309537088678, lift=3.10517984027185)])\n",
            "frozenset({'204', '4'})\n",
            "2\n",
            "RelationRecord(items=frozenset({'3018', '7'}), support=0.001864365254364543, ordered_statistics=[OrderedStatistic(items_base=frozenset({'3018'}), items_add=frozenset({'7'}), confidence=0.9184348841736423, lift=54.29001159953055)])\n",
            "frozenset({'3018', '7'})\n",
            "3\n",
            "RelationRecord(items=frozenset({'3118', '7'}), support=0.008831827773431018, ordered_statistics=[OrderedStatistic(items_base=frozenset({'3118'}), items_add=frozenset({'7'}), confidence=0.9142974023317653, lift=54.045439076144255)])\n",
            "frozenset({'3118', '7'})\n",
            "4\n",
            "RelationRecord(items=frozenset({'3585', '7'}), support=0.001386221558353289, ordered_statistics=[OrderedStatistic(items_base=frozenset({'3585'}), items_add=frozenset({'7'}), confidence=0.9929238607415795, lift=58.693162515938795)])\n",
            "frozenset({'3585', '7'})\n",
            "5\n",
            "RelationRecord(items=frozenset({'0', '1386', '33447'}), support=0.0011250207459041657, ordered_statistics=[OrderedStatistic(items_base=frozenset({'33447'}), items_add=frozenset({'0', '1386'}), confidence=0.9858033240997228, lift=5.175015004269633), OrderedStatistic(items_base=frozenset({'0', '33447'}), items_add=frozenset({'1386'}), confidence=0.9858033240997228, lift=5.170617354335957)])\n",
            "frozenset({'0', '1386', '33447'})\n",
            "6\n",
            "RelationRecord(items=frozenset({'204', '4', '0'}), support=0.00222909800760288, ordered_statistics=[OrderedStatistic(items_base=frozenset({'204'}), items_add=frozenset({'4', '0'}), confidence=0.7865309537088678, lift=3.105315486512975), OrderedStatistic(items_base=frozenset({'204', '0'}), items_add=frozenset({'4'}), confidence=0.7865309537088678, lift=3.10517984027185)])\n",
            "frozenset({'204', '4', '0'})\n",
            "7\n",
            "RelationRecord(items=frozenset({'3018', '7', '0'}), support=0.001864365254364543, ordered_statistics=[OrderedStatistic(items_base=frozenset({'3018'}), items_add=frozenset({'7', '0'}), confidence=0.9184348841736423, lift=54.386561052708615), OrderedStatistic(items_base=frozenset({'3018', '0'}), items_add=frozenset({'7'}), confidence=0.918613707165109, lift=54.30058208465507)])\n",
            "frozenset({'3018', '7', '0'})\n",
            "8\n",
            "RelationRecord(items=frozenset({'3118', '0', '7'}), support=0.00883103745327232, ordered_statistics=[OrderedStatistic(items_base=frozenset({'3118'}), items_add=frozenset({'7', '0'}), confidence=0.9142155860094089, lift=54.13670869935955), OrderedStatistic(items_base=frozenset({'3118', '0'}), items_add=frozenset({'7'}), confidence=0.9144026186579378, lift=54.05165856504521)])\n",
            "frozenset({'3118', '0', '7'})\n",
            "9\n",
            "RelationRecord(items=frozenset({'3585', '7', '0'}), support=0.001386221558353289, ordered_statistics=[OrderedStatistic(items_base=frozenset({'3585'}), items_add=frozenset({'7', '0'}), confidence=0.9929238607415795, lift=58.797542540537165), OrderedStatistic(items_base=frozenset({'3585', '0'}), items_add=frozenset({'7'}), confidence=0.9929238607415795, lift=58.693162515938795)])\n",
            "frozenset({'3585', '7', '0'})\n",
            "10\n",
            "RelationRecord(items=frozenset({'3118', '1386', '7'}), support=0.0015312453074740578, ordered_statistics=[OrderedStatistic(items_base=frozenset({'3118', '1386'}), items_add=frozenset({'7'}), confidence=1.0, lift=59.11144332064189)])\n",
            "frozenset({'3118', '1386', '7'})\n",
            "11\n",
            "RelationRecord(items=frozenset({'7', '3118', '1535'}), support=0.0016683658550078638, ordered_statistics=[OrderedStatistic(items_base=frozenset({'3118', '1535'}), items_add=frozenset({'7'}), confidence=1.0, lift=59.11144332064189)])\n",
            "frozenset({'7', '3118', '1535'})\n",
            "12\n",
            "RelationRecord(items=frozenset({'1646', '4', '7450'}), support=0.0015913096395349757, ordered_statistics=[OrderedStatistic(items_base=frozenset({'1646', '7450'}), items_add=frozenset({'4'}), confidence=0.8170014201663623, lift=3.2254755231325576)])\n",
            "frozenset({'1646', '4', '7450'})\n",
            "13\n",
            "RelationRecord(items=frozenset({'3118', '0', '1386', '7'}), support=0.0015312453074740578, ordered_statistics=[OrderedStatistic(items_base=frozenset({'3118', '1386'}), items_add=frozenset({'7', '0'}), confidence=1.0, lift=59.21656721656721), OrderedStatistic(items_base=frozenset({'3118', '0', '1386'}), items_add=frozenset({'7'}), confidence=1.0, lift=59.11144332064189)])\n",
            "frozenset({'3118', '0', '1386', '7'})\n",
            "14\n",
            "RelationRecord(items=frozenset({'7', '3118', '0', '1535'}), support=0.0016683658550078638, ordered_statistics=[OrderedStatistic(items_base=frozenset({'3118', '1535'}), items_add=frozenset({'7', '0'}), confidence=1.0, lift=59.21656721656721), OrderedStatistic(items_base=frozenset({'3118', '0', '1535'}), items_add=frozenset({'7'}), confidence=1.0, lift=59.11144332064189)])\n",
            "frozenset({'7', '3118', '0', '1535'})\n",
            "15\n",
            "RelationRecord(items=frozenset({'4', '1646', '0', '7450'}), support=0.0015913096395349757, ordered_statistics=[OrderedStatistic(items_base=frozenset({'1646', '7450'}), items_add=frozenset({'4', '0'}), confidence=0.8170014201663623, lift=3.2256164243534395), OrderedStatistic(items_base=frozenset({'1646', '0', '7450'}), items_add=frozenset({'4'}), confidence=0.8191619202603744, lift=3.2340050556388076)])\n",
            "frozenset({'4', '1646', '0', '7450'})\n",
            "##############################################################################\n",
            "Support=  0.001 \tConfidence=  0.8\n",
            "Round:  6\n",
            "0\n",
            "RelationRecord(items=frozenset({'1386', '33447'}), support=0.0011250207459041657, ordered_statistics=[OrderedStatistic(items_base=frozenset({'33447'}), items_add=frozenset({'1386'}), confidence=0.9858033240997228, lift=5.170617354335957)])\n",
            "frozenset({'1386', '33447'})\n",
            "1\n",
            "RelationRecord(items=frozenset({'3018', '7'}), support=0.001864365254364543, ordered_statistics=[OrderedStatistic(items_base=frozenset({'3018'}), items_add=frozenset({'7'}), confidence=0.9184348841736423, lift=54.29001159953055)])\n",
            "frozenset({'3018', '7'})\n",
            "2\n",
            "RelationRecord(items=frozenset({'3118', '7'}), support=0.008831827773431018, ordered_statistics=[OrderedStatistic(items_base=frozenset({'3118'}), items_add=frozenset({'7'}), confidence=0.9142974023317653, lift=54.045439076144255)])\n",
            "frozenset({'3118', '7'})\n",
            "3\n",
            "RelationRecord(items=frozenset({'3585', '7'}), support=0.001386221558353289, ordered_statistics=[OrderedStatistic(items_base=frozenset({'3585'}), items_add=frozenset({'7'}), confidence=0.9929238607415795, lift=58.693162515938795)])\n",
            "frozenset({'3585', '7'})\n",
            "4\n",
            "RelationRecord(items=frozenset({'0', '1386', '33447'}), support=0.0011250207459041657, ordered_statistics=[OrderedStatistic(items_base=frozenset({'33447'}), items_add=frozenset({'0', '1386'}), confidence=0.9858033240997228, lift=5.175015004269633), OrderedStatistic(items_base=frozenset({'0', '33447'}), items_add=frozenset({'1386'}), confidence=0.9858033240997228, lift=5.170617354335957)])\n",
            "frozenset({'0', '1386', '33447'})\n",
            "5\n",
            "RelationRecord(items=frozenset({'3018', '7', '0'}), support=0.001864365254364543, ordered_statistics=[OrderedStatistic(items_base=frozenset({'3018'}), items_add=frozenset({'7', '0'}), confidence=0.9184348841736423, lift=54.386561052708615), OrderedStatistic(items_base=frozenset({'3018', '0'}), items_add=frozenset({'7'}), confidence=0.918613707165109, lift=54.30058208465507)])\n",
            "frozenset({'3018', '7', '0'})\n",
            "6\n",
            "RelationRecord(items=frozenset({'3118', '0', '7'}), support=0.00883103745327232, ordered_statistics=[OrderedStatistic(items_base=frozenset({'3118'}), items_add=frozenset({'7', '0'}), confidence=0.9142155860094089, lift=54.13670869935955), OrderedStatistic(items_base=frozenset({'3118', '0'}), items_add=frozenset({'7'}), confidence=0.9144026186579378, lift=54.05165856504521)])\n",
            "frozenset({'3118', '0', '7'})\n",
            "7\n",
            "RelationRecord(items=frozenset({'3585', '7', '0'}), support=0.001386221558353289, ordered_statistics=[OrderedStatistic(items_base=frozenset({'3585'}), items_add=frozenset({'7', '0'}), confidence=0.9929238607415795, lift=58.797542540537165), OrderedStatistic(items_base=frozenset({'3585', '0'}), items_add=frozenset({'7'}), confidence=0.9929238607415795, lift=58.693162515938795)])\n",
            "frozenset({'3585', '7', '0'})\n",
            "8\n",
            "RelationRecord(items=frozenset({'3118', '1386', '7'}), support=0.0015312453074740578, ordered_statistics=[OrderedStatistic(items_base=frozenset({'3118', '1386'}), items_add=frozenset({'7'}), confidence=1.0, lift=59.11144332064189)])\n",
            "frozenset({'3118', '1386', '7'})\n",
            "9\n",
            "RelationRecord(items=frozenset({'7', '3118', '1535'}), support=0.0016683658550078638, ordered_statistics=[OrderedStatistic(items_base=frozenset({'3118', '1535'}), items_add=frozenset({'7'}), confidence=1.0, lift=59.11144332064189)])\n",
            "frozenset({'7', '3118', '1535'})\n",
            "10\n",
            "RelationRecord(items=frozenset({'1646', '4', '7450'}), support=0.0015913096395349757, ordered_statistics=[OrderedStatistic(items_base=frozenset({'1646', '7450'}), items_add=frozenset({'4'}), confidence=0.8170014201663623, lift=3.2254755231325576)])\n",
            "frozenset({'1646', '4', '7450'})\n",
            "11\n",
            "RelationRecord(items=frozenset({'3118', '0', '1386', '7'}), support=0.0015312453074740578, ordered_statistics=[OrderedStatistic(items_base=frozenset({'3118', '1386'}), items_add=frozenset({'7', '0'}), confidence=1.0, lift=59.21656721656721), OrderedStatistic(items_base=frozenset({'3118', '0', '1386'}), items_add=frozenset({'7'}), confidence=1.0, lift=59.11144332064189)])\n",
            "frozenset({'3118', '0', '1386', '7'})\n",
            "12\n",
            "RelationRecord(items=frozenset({'7', '3118', '0', '1535'}), support=0.0016683658550078638, ordered_statistics=[OrderedStatistic(items_base=frozenset({'3118', '1535'}), items_add=frozenset({'7', '0'}), confidence=1.0, lift=59.21656721656721), OrderedStatistic(items_base=frozenset({'3118', '0', '1535'}), items_add=frozenset({'7'}), confidence=1.0, lift=59.11144332064189)])\n",
            "frozenset({'7', '3118', '0', '1535'})\n",
            "13\n",
            "RelationRecord(items=frozenset({'4', '1646', '0', '7450'}), support=0.0015913096395349757, ordered_statistics=[OrderedStatistic(items_base=frozenset({'1646', '7450'}), items_add=frozenset({'4', '0'}), confidence=0.8170014201663623, lift=3.2256164243534395), OrderedStatistic(items_base=frozenset({'1646', '0', '7450'}), items_add=frozenset({'4'}), confidence=0.8191619202603744, lift=3.2340050556388076)])\n",
            "frozenset({'4', '1646', '0', '7450'})\n",
            "##############################################################################\n",
            "Support=  0.001 \tConfidence=  0.85\n",
            "Round:  7\n",
            "0\n",
            "RelationRecord(items=frozenset({'1386', '33447'}), support=0.0011250207459041657, ordered_statistics=[OrderedStatistic(items_base=frozenset({'33447'}), items_add=frozenset({'1386'}), confidence=0.9858033240997228, lift=5.170617354335957)])\n",
            "frozenset({'1386', '33447'})\n",
            "1\n",
            "RelationRecord(items=frozenset({'3018', '7'}), support=0.001864365254364543, ordered_statistics=[OrderedStatistic(items_base=frozenset({'3018'}), items_add=frozenset({'7'}), confidence=0.9184348841736423, lift=54.29001159953055)])\n",
            "frozenset({'3018', '7'})\n",
            "2\n",
            "RelationRecord(items=frozenset({'3118', '7'}), support=0.008831827773431018, ordered_statistics=[OrderedStatistic(items_base=frozenset({'3118'}), items_add=frozenset({'7'}), confidence=0.9142974023317653, lift=54.045439076144255)])\n",
            "frozenset({'3118', '7'})\n",
            "3\n",
            "RelationRecord(items=frozenset({'3585', '7'}), support=0.001386221558353289, ordered_statistics=[OrderedStatistic(items_base=frozenset({'3585'}), items_add=frozenset({'7'}), confidence=0.9929238607415795, lift=58.693162515938795)])\n",
            "frozenset({'3585', '7'})\n",
            "4\n",
            "RelationRecord(items=frozenset({'0', '1386', '33447'}), support=0.0011250207459041657, ordered_statistics=[OrderedStatistic(items_base=frozenset({'33447'}), items_add=frozenset({'0', '1386'}), confidence=0.9858033240997228, lift=5.175015004269633), OrderedStatistic(items_base=frozenset({'0', '33447'}), items_add=frozenset({'1386'}), confidence=0.9858033240997228, lift=5.170617354335957)])\n",
            "frozenset({'0', '1386', '33447'})\n",
            "5\n",
            "RelationRecord(items=frozenset({'3018', '7', '0'}), support=0.001864365254364543, ordered_statistics=[OrderedStatistic(items_base=frozenset({'3018'}), items_add=frozenset({'7', '0'}), confidence=0.9184348841736423, lift=54.386561052708615), OrderedStatistic(items_base=frozenset({'3018', '0'}), items_add=frozenset({'7'}), confidence=0.918613707165109, lift=54.30058208465507)])\n",
            "frozenset({'3018', '7', '0'})\n",
            "6\n",
            "RelationRecord(items=frozenset({'3118', '0', '7'}), support=0.00883103745327232, ordered_statistics=[OrderedStatistic(items_base=frozenset({'3118'}), items_add=frozenset({'7', '0'}), confidence=0.9142155860094089, lift=54.13670869935955), OrderedStatistic(items_base=frozenset({'3118', '0'}), items_add=frozenset({'7'}), confidence=0.9144026186579378, lift=54.05165856504521)])\n",
            "frozenset({'3118', '0', '7'})\n",
            "7\n",
            "RelationRecord(items=frozenset({'3585', '7', '0'}), support=0.001386221558353289, ordered_statistics=[OrderedStatistic(items_base=frozenset({'3585'}), items_add=frozenset({'7', '0'}), confidence=0.9929238607415795, lift=58.797542540537165), OrderedStatistic(items_base=frozenset({'3585', '0'}), items_add=frozenset({'7'}), confidence=0.9929238607415795, lift=58.693162515938795)])\n",
            "frozenset({'3585', '7', '0'})\n",
            "8\n",
            "RelationRecord(items=frozenset({'3118', '1386', '7'}), support=0.0015312453074740578, ordered_statistics=[OrderedStatistic(items_base=frozenset({'3118', '1386'}), items_add=frozenset({'7'}), confidence=1.0, lift=59.11144332064189)])\n",
            "frozenset({'3118', '1386', '7'})\n",
            "9\n",
            "RelationRecord(items=frozenset({'7', '3118', '1535'}), support=0.0016683658550078638, ordered_statistics=[OrderedStatistic(items_base=frozenset({'3118', '1535'}), items_add=frozenset({'7'}), confidence=1.0, lift=59.11144332064189)])\n",
            "frozenset({'7', '3118', '1535'})\n",
            "10\n",
            "RelationRecord(items=frozenset({'3118', '0', '1386', '7'}), support=0.0015312453074740578, ordered_statistics=[OrderedStatistic(items_base=frozenset({'3118', '1386'}), items_add=frozenset({'7', '0'}), confidence=1.0, lift=59.21656721656721), OrderedStatistic(items_base=frozenset({'3118', '0', '1386'}), items_add=frozenset({'7'}), confidence=1.0, lift=59.11144332064189)])\n",
            "frozenset({'3118', '0', '1386', '7'})\n",
            "11\n",
            "RelationRecord(items=frozenset({'7', '3118', '0', '1535'}), support=0.0016683658550078638, ordered_statistics=[OrderedStatistic(items_base=frozenset({'3118', '1535'}), items_add=frozenset({'7', '0'}), confidence=1.0, lift=59.21656721656721), OrderedStatistic(items_base=frozenset({'3118', '0', '1535'}), items_add=frozenset({'7'}), confidence=1.0, lift=59.11144332064189)])\n",
            "frozenset({'7', '3118', '0', '1535'})\n",
            "##############################################################################\n",
            "Support=  0.001 \tConfidence=  0.9\n",
            "Round:  8\n",
            "0\n",
            "RelationRecord(items=frozenset({'1386', '33447'}), support=0.0011250207459041657, ordered_statistics=[OrderedStatistic(items_base=frozenset({'33447'}), items_add=frozenset({'1386'}), confidence=0.9858033240997228, lift=5.170617354335957)])\n",
            "frozenset({'1386', '33447'})\n",
            "1\n",
            "RelationRecord(items=frozenset({'3018', '7'}), support=0.001864365254364543, ordered_statistics=[OrderedStatistic(items_base=frozenset({'3018'}), items_add=frozenset({'7'}), confidence=0.9184348841736423, lift=54.29001159953055)])\n",
            "frozenset({'3018', '7'})\n",
            "2\n",
            "RelationRecord(items=frozenset({'3118', '7'}), support=0.008831827773431018, ordered_statistics=[OrderedStatistic(items_base=frozenset({'3118'}), items_add=frozenset({'7'}), confidence=0.9142974023317653, lift=54.045439076144255)])\n",
            "frozenset({'3118', '7'})\n",
            "3\n",
            "RelationRecord(items=frozenset({'3585', '7'}), support=0.001386221558353289, ordered_statistics=[OrderedStatistic(items_base=frozenset({'3585'}), items_add=frozenset({'7'}), confidence=0.9929238607415795, lift=58.693162515938795)])\n",
            "frozenset({'3585', '7'})\n",
            "4\n",
            "RelationRecord(items=frozenset({'0', '1386', '33447'}), support=0.0011250207459041657, ordered_statistics=[OrderedStatistic(items_base=frozenset({'33447'}), items_add=frozenset({'0', '1386'}), confidence=0.9858033240997228, lift=5.175015004269633), OrderedStatistic(items_base=frozenset({'0', '33447'}), items_add=frozenset({'1386'}), confidence=0.9858033240997228, lift=5.170617354335957)])\n",
            "frozenset({'0', '1386', '33447'})\n",
            "5\n",
            "RelationRecord(items=frozenset({'3018', '7', '0'}), support=0.001864365254364543, ordered_statistics=[OrderedStatistic(items_base=frozenset({'3018'}), items_add=frozenset({'7', '0'}), confidence=0.9184348841736423, lift=54.386561052708615), OrderedStatistic(items_base=frozenset({'3018', '0'}), items_add=frozenset({'7'}), confidence=0.918613707165109, lift=54.30058208465507)])\n",
            "frozenset({'3018', '7', '0'})\n",
            "6\n",
            "RelationRecord(items=frozenset({'3118', '0', '7'}), support=0.00883103745327232, ordered_statistics=[OrderedStatistic(items_base=frozenset({'3118'}), items_add=frozenset({'7', '0'}), confidence=0.9142155860094089, lift=54.13670869935955), OrderedStatistic(items_base=frozenset({'3118', '0'}), items_add=frozenset({'7'}), confidence=0.9144026186579378, lift=54.05165856504521)])\n",
            "frozenset({'3118', '0', '7'})\n",
            "7\n",
            "RelationRecord(items=frozenset({'3585', '7', '0'}), support=0.001386221558353289, ordered_statistics=[OrderedStatistic(items_base=frozenset({'3585'}), items_add=frozenset({'7', '0'}), confidence=0.9929238607415795, lift=58.797542540537165), OrderedStatistic(items_base=frozenset({'3585', '0'}), items_add=frozenset({'7'}), confidence=0.9929238607415795, lift=58.693162515938795)])\n",
            "frozenset({'3585', '7', '0'})\n",
            "8\n",
            "RelationRecord(items=frozenset({'3118', '1386', '7'}), support=0.0015312453074740578, ordered_statistics=[OrderedStatistic(items_base=frozenset({'3118', '1386'}), items_add=frozenset({'7'}), confidence=1.0, lift=59.11144332064189)])\n",
            "frozenset({'3118', '1386', '7'})\n",
            "9\n",
            "RelationRecord(items=frozenset({'7', '3118', '1535'}), support=0.0016683658550078638, ordered_statistics=[OrderedStatistic(items_base=frozenset({'3118', '1535'}), items_add=frozenset({'7'}), confidence=1.0, lift=59.11144332064189)])\n",
            "frozenset({'7', '3118', '1535'})\n",
            "10\n",
            "RelationRecord(items=frozenset({'3118', '0', '1386', '7'}), support=0.0015312453074740578, ordered_statistics=[OrderedStatistic(items_base=frozenset({'3118', '1386'}), items_add=frozenset({'7', '0'}), confidence=1.0, lift=59.21656721656721), OrderedStatistic(items_base=frozenset({'3118', '0', '1386'}), items_add=frozenset({'7'}), confidence=1.0, lift=59.11144332064189)])\n",
            "frozenset({'3118', '0', '1386', '7'})\n",
            "11\n",
            "RelationRecord(items=frozenset({'7', '3118', '0', '1535'}), support=0.0016683658550078638, ordered_statistics=[OrderedStatistic(items_base=frozenset({'3118', '1535'}), items_add=frozenset({'7', '0'}), confidence=1.0, lift=59.21656721656721), OrderedStatistic(items_base=frozenset({'3118', '0', '1535'}), items_add=frozenset({'7'}), confidence=1.0, lift=59.11144332064189)])\n",
            "frozenset({'7', '3118', '0', '1535'})\n",
            "##############################################################################\n",
            "Support=  0.001 \tConfidence=  0.95\n",
            "Round:  9\n",
            "0\n",
            "RelationRecord(items=frozenset({'1386', '33447'}), support=0.0011250207459041657, ordered_statistics=[OrderedStatistic(items_base=frozenset({'33447'}), items_add=frozenset({'1386'}), confidence=0.9858033240997228, lift=5.170617354335957)])\n",
            "frozenset({'1386', '33447'})\n",
            "1\n",
            "RelationRecord(items=frozenset({'3585', '7'}), support=0.001386221558353289, ordered_statistics=[OrderedStatistic(items_base=frozenset({'3585'}), items_add=frozenset({'7'}), confidence=0.9929238607415795, lift=58.693162515938795)])\n",
            "frozenset({'3585', '7'})\n",
            "2\n",
            "RelationRecord(items=frozenset({'0', '1386', '33447'}), support=0.0011250207459041657, ordered_statistics=[OrderedStatistic(items_base=frozenset({'33447'}), items_add=frozenset({'0', '1386'}), confidence=0.9858033240997228, lift=5.175015004269633), OrderedStatistic(items_base=frozenset({'0', '33447'}), items_add=frozenset({'1386'}), confidence=0.9858033240997228, lift=5.170617354335957)])\n",
            "frozenset({'0', '1386', '33447'})\n",
            "3\n",
            "RelationRecord(items=frozenset({'3585', '7', '0'}), support=0.001386221558353289, ordered_statistics=[OrderedStatistic(items_base=frozenset({'3585'}), items_add=frozenset({'7', '0'}), confidence=0.9929238607415795, lift=58.797542540537165), OrderedStatistic(items_base=frozenset({'3585', '0'}), items_add=frozenset({'7'}), confidence=0.9929238607415795, lift=58.693162515938795)])\n",
            "frozenset({'3585', '7', '0'})\n",
            "4\n",
            "RelationRecord(items=frozenset({'3118', '1386', '7'}), support=0.0015312453074740578, ordered_statistics=[OrderedStatistic(items_base=frozenset({'3118', '1386'}), items_add=frozenset({'7'}), confidence=1.0, lift=59.11144332064189)])\n",
            "frozenset({'3118', '1386', '7'})\n",
            "5\n",
            "RelationRecord(items=frozenset({'7', '3118', '1535'}), support=0.0016683658550078638, ordered_statistics=[OrderedStatistic(items_base=frozenset({'3118', '1535'}), items_add=frozenset({'7'}), confidence=1.0, lift=59.11144332064189)])\n",
            "frozenset({'7', '3118', '1535'})\n",
            "6\n",
            "RelationRecord(items=frozenset({'3118', '0', '1386', '7'}), support=0.0015312453074740578, ordered_statistics=[OrderedStatistic(items_base=frozenset({'3118', '1386'}), items_add=frozenset({'7', '0'}), confidence=1.0, lift=59.21656721656721), OrderedStatistic(items_base=frozenset({'3118', '0', '1386'}), items_add=frozenset({'7'}), confidence=1.0, lift=59.11144332064189)])\n",
            "frozenset({'3118', '0', '1386', '7'})\n",
            "7\n",
            "RelationRecord(items=frozenset({'7', '3118', '0', '1535'}), support=0.0016683658550078638, ordered_statistics=[OrderedStatistic(items_base=frozenset({'3118', '1535'}), items_add=frozenset({'7', '0'}), confidence=1.0, lift=59.21656721656721), OrderedStatistic(items_base=frozenset({'3118', '0', '1535'}), items_add=frozenset({'7'}), confidence=1.0, lift=59.11144332064189)])\n",
            "frozenset({'7', '3118', '0', '1535'})\n",
            "##############################################################################\n"
          ],
          "name": "stdout"
        }
      ]
    },
    {
      "cell_type": "markdown",
      "metadata": {
        "id": "RPSNQoCJwpD7"
      },
      "source": [
        "#####The Best Results\n",
        "\n",
        "| S.No. |min_support | min_confidence | min_lift | min_length | Number of Rules |\n",
        "|---|---|---|---|---|---|\n",
        "| 1 | 0.0015 | 0.9 | 3 | 2 | **8** |\n",
        "| 2 | 0.0015 | 0.85 | 3 | 2 | **8** |\n",
        "| 3 | 0.0015 | 0.8 | 3 | 2 | **10** |\n",
        "| 4 | 0.0015 | 0.75 | 3 | 2 | **12** |\n",
        "| 5 | 0.0015 | 0.7 | 3 | 2 | **12** |\n",
        "| 6 | 0.001 | 0.95 | 3 | 2 | **8** |\n",
        "\n",
        "\n",
        "\n",
        "\n",
        "\n"
      ]
    },
    {
      "cell_type": "markdown",
      "metadata": {
        "id": "mX5Kb_DPQ3cE"
      },
      "source": [
        "# Part II - Web Crawling\n",
        "\n",
        "## Overview\n",
        "In 2021, \n",
        "to better introduce and understand the research works on the professors,\n",
        "Deakin university wants to perform the citation prediction on individual professor level.\n",
        "You are required to implement a web crawler to crawl the *citation* information \n",
        "for A/Professor Gang Li from 2003 to 2021 (start at 2003 and end at 2021),\n",
        "and also conduct several prediction coding tasks. \n",
        "You will need to make sure that \n",
        "the web crawling code and prediction code meets the requirements.\n",
        "You are free to use any **Python** package for Web crawling and prediction \n",
        "by finishing below tasks.  \n"
      ]
    },
    {
      "cell_type": "markdown",
      "metadata": {
        "id": "REp-ATy8gGyS"
      },
      "source": [
        "## 5.Crawl Gang Li citation information from 2003 to 2021"
      ]
    },
    {
      "cell_type": "code",
      "metadata": {
        "id": "WpyNYt7B7_V8",
        "colab": {
          "base_uri": "https://localhost:8080/"
        },
        "outputId": "7f2f500a-752a-4c09-f359-22cd2f243682"
      },
      "source": [
        "#important packages for web crawling\n",
        "!apt-get update\n",
        "!apt install chromium-chromedriver\n",
        "!cp /usr/lib/chromium-browser/chromedriver /usr/bin\n",
        "!pip install selenium"
      ],
      "execution_count": null,
      "outputs": [
        {
          "output_type": "stream",
          "text": [
            "\r0% [Working]\r            \rIgn:1 https://developer.download.nvidia.com/compute/cuda/repos/ubuntu1804/x86_64  InRelease\n",
            "\r0% [Connecting to archive.ubuntu.com (91.189.88.142)] [Connecting to security.u\r                                                                               \rHit:2 https://cloud.r-project.org/bin/linux/ubuntu bionic-cran40/ InRelease\n",
            "\r0% [Connecting to archive.ubuntu.com (91.189.88.142)] [Connecting to security.u\r                                                                               \rIgn:3 https://developer.download.nvidia.com/compute/machine-learning/repos/ubuntu1804/x86_64  InRelease\n",
            "\r0% [Connecting to archive.ubuntu.com (91.189.88.142)] [Connecting to security.u\r0% [2 InRelease gpgv 3,626 B] [Connecting to archive.ubuntu.com (91.189.88.142)\r                                                                               \rHit:4 https://developer.download.nvidia.com/compute/cuda/repos/ubuntu1804/x86_64  Release\n",
            "Hit:5 https://developer.download.nvidia.com/compute/machine-learning/repos/ubuntu1804/x86_64  Release\n",
            "Hit:6 http://security.ubuntu.com/ubuntu bionic-security InRelease\n",
            "Hit:7 http://archive.ubuntu.com/ubuntu bionic InRelease\n",
            "Hit:8 http://ppa.launchpad.net/c2d4u.team/c2d4u4.0+/ubuntu bionic InRelease\n",
            "Hit:9 http://archive.ubuntu.com/ubuntu bionic-updates InRelease\n",
            "Hit:11 http://archive.ubuntu.com/ubuntu bionic-backports InRelease\n",
            "Hit:12 http://ppa.launchpad.net/cran/libgit2/ubuntu bionic InRelease\n",
            "Hit:14 http://ppa.launchpad.net/deadsnakes/ppa/ubuntu bionic InRelease\n",
            "Hit:15 http://ppa.launchpad.net/graphics-drivers/ppa/ubuntu bionic InRelease\n",
            "Reading package lists... Done\n",
            "Reading package lists... Done\n",
            "Building dependency tree       \n",
            "Reading state information... Done\n",
            "chromium-chromedriver is already the newest version (90.0.4430.93-0ubuntu0.18.04.1).\n",
            "The following package was automatically installed and is no longer required:\n",
            "  libnvidia-common-460\n",
            "Use 'apt autoremove' to remove it.\n",
            "0 upgraded, 0 newly installed, 0 to remove and 72 not upgraded.\n",
            "cp: '/usr/lib/chromium-browser/chromedriver' and '/usr/bin/chromedriver' are the same file\n",
            "Requirement already satisfied: selenium in /usr/local/lib/python3.7/dist-packages (3.141.0)\n",
            "Requirement already satisfied: urllib3 in /usr/local/lib/python3.7/dist-packages (from selenium) (1.24.3)\n"
          ],
          "name": "stdout"
        }
      ]
    },
    {
      "cell_type": "markdown",
      "metadata": {
        "id": "99Y04DfvFMGO"
      },
      "source": [
        " <div class=\"alert alert-block alert-info\">\n",
        "\n",
        "**Code**: \n",
        "    You are required to write the code to generate the csv for Gang Li's citation from 2003 to 2021\n",
        "    <br>\n",
        "    *Keep the outputs for code in your notebook.\n",
        "</div>"
      ]
    },
    {
      "cell_type": "code",
      "metadata": {
        "id": "f7AbwwACFebx"
      },
      "source": [
        "# Your code to crawl and generate the csv, and save it to variable create_df\n",
        "\n",
        "#Web crawling from the citation graph\n",
        "import time\n",
        "from selenium import webdriver\n",
        "from selenium.webdriver.common.by import By\n",
        "from selenium.webdriver.support.ui import WebDriverWait\n",
        "from selenium.webdriver.support import expected_conditions as EC\n",
        "import pandas as pd\n",
        "\n",
        "# Establish chrome driver and go to site URL\n",
        "# set options to be headless\n",
        "options = webdriver.ChromeOptions()\n",
        "options.add_argument('--headless')\n",
        "options.add_argument('--no-sandbox')\n",
        "options.add_argument('--disable-dev-shm-usage')\n",
        "\n",
        "# open it, go to a website, and get results\n",
        "url = 'https://scholar.google.com/citations?user=dqwjm-0AAAAJ'\n",
        "driver = webdriver.Chrome('chromedriver',options=options)\n",
        "driver.get(url)\n",
        "\n",
        "#Web crawling process\n",
        "button = WebDriverWait(driver,10).until(EC.presence_of_element_located((By.ID, 'gsc_hist_opn')))\n",
        "#click the <view all> button\n",
        "driver.execute_script('arguments[0].click();', button)\n",
        "#get the body of the citation graph\n",
        "graph = driver.find_element_by_class_name('gsc_md_hist_b')\n",
        "#get [year] and [citation]\n",
        "span = graph.find_elements_by_xpath('span')\n",
        "a = graph.find_elements_by_xpath('a//span')\n",
        "year = []\n",
        "citation = []\n",
        "for i,j in zip(span,a):\n",
        "  year.append(i.get_attribute('innerHTML'))\n",
        "  citation.append(j.get_attribute('innerHTML'))\n",
        "\n",
        "#create dataframe\n",
        "data = {'Year':year, 'Citation':citation}\n",
        "create_df = pd.DataFrame(data)\n",
        "create_df.Year = pd.to_numeric(create_df.Year)\n",
        "create_df.Citation = pd.to_numeric(create_df.Citation)\n",
        "create_df = create_df.dropna()\n",
        "create_df = create_df.groupby('Year',as_index=True).sum()\n",
        "create_df.to_csv('Citation2003-2021.csv')"
      ],
      "execution_count": null,
      "outputs": []
    },
    {
      "cell_type": "markdown",
      "metadata": {
        "id": "mDs8ETNWII8b"
      },
      "source": [
        "## 6.Train Arima to predict the 2018 to 2020 citation"
      ]
    },
    {
      "cell_type": "markdown",
      "metadata": {
        "id": "mtKVVs6wGXwc"
      },
      "source": [
        "### 6.1 Train Arima Model\n",
        " <div class=\"alert alert-block alert-info\">\n",
        "\n",
        "**Code**: \n",
        "    You will need to use the create_df and then perform the\n",
        "Arima training with parameter of $p=1$, $q=1$ and $d=1$ on data from 2003 to 2017 (15 years)\n",
        "    <br>\n",
        "    *Keep the outputs for code in your notebook.\n",
        "</div>"
      ]
    },
    {
      "cell_type": "code",
      "metadata": {
        "id": "5azaduXOGd5_"
      },
      "source": [
        "# your code to use create_df to split the data into train (year 2003 to 2017) and test\n",
        "\n",
        "create_df.index = pd.to_datetime(create_df.index,format='%Y')\n",
        "#create_df.set_index('Year',inplace=True)\n",
        "train_set = create_df[0:15]\n",
        "test_set = create_df[15:18]"
      ],
      "execution_count": null,
      "outputs": []
    },
    {
      "cell_type": "markdown",
      "metadata": {
        "id": "iomydVFJGdFQ"
      },
      "source": [
        "### 6.2 Predicting the citation and Calculate the RMSE\n",
        " <div class=\"alert alert-block alert-info\">\n",
        "\n",
        "**Code**: \n",
        "    you will need to use the trained Arime model to predict the citation on year 2018, 2019 and 2020.\n",
        "You will need to perform the evaluation by comparing the predicted citation from 2018 to 2020 with \n",
        "the true citation from 2018 to 2020 and calculate the RMSE (root mean square error).\n",
        "    <br>\n",
        "    *Keep the outputs for code in your notebook.\n",
        "</div>"
      ]
    },
    {
      "cell_type": "code",
      "metadata": {
        "id": "5cqMwQw2Gqh1",
        "colab": {
          "base_uri": "https://localhost:8080/"
        },
        "outputId": "094c8fe8-a5f8-46d8-a01c-5bf00e2aaefd"
      },
      "source": [
        "!pip install \"statsmodels==0.11.1\""
      ],
      "execution_count": null,
      "outputs": [
        {
          "output_type": "stream",
          "text": [
            "Requirement already satisfied: statsmodels==0.11.1 in /usr/local/lib/python3.7/dist-packages (0.11.1)\n",
            "Requirement already satisfied: pandas>=0.21 in /usr/local/lib/python3.7/dist-packages (from statsmodels==0.11.1) (1.1.5)\n",
            "Requirement already satisfied: scipy>=1.0 in /usr/local/lib/python3.7/dist-packages (from statsmodels==0.11.1) (1.4.1)\n",
            "Requirement already satisfied: numpy>=1.14 in /usr/local/lib/python3.7/dist-packages (from statsmodels==0.11.1) (1.19.5)\n",
            "Requirement already satisfied: patsy>=0.5 in /usr/local/lib/python3.7/dist-packages (from statsmodels==0.11.1) (0.5.1)\n",
            "Requirement already satisfied: pytz>=2017.2 in /usr/local/lib/python3.7/dist-packages (from pandas>=0.21->statsmodels==0.11.1) (2018.9)\n",
            "Requirement already satisfied: python-dateutil>=2.7.3 in /usr/local/lib/python3.7/dist-packages (from pandas>=0.21->statsmodels==0.11.1) (2.8.1)\n",
            "Requirement already satisfied: six in /usr/local/lib/python3.7/dist-packages (from patsy>=0.5->statsmodels==0.11.1) (1.15.0)\n"
          ],
          "name": "stdout"
        }
      ]
    },
    {
      "cell_type": "code",
      "metadata": {
        "id": "Mq1fAKXTIdU4",
        "colab": {
          "base_uri": "https://localhost:8080/"
        },
        "outputId": "b71a059b-bae1-4843-d453-39312af1b6c7"
      },
      "source": [
        "# your code to predict the citation and save it to variable preds. \n",
        "# You may need to output the confidence interval(95%) here as well\n",
        "from statsmodels.tsa.arima.model import ARIMA\n",
        "\n",
        "#fit the model\n",
        "\n",
        "# avoid index warning\n",
        "train_set.index = pd.DatetimeIndex(train_set.index.values,freq=train_set.index.inferred_freq)\n",
        "model = ARIMA(train_set, order=(1,1,1)).fit()\n",
        "print(model.summary())\n",
        "\n",
        "# Forecast with 95% confidence level\n",
        "preds = model.forecast(3,alpha = 0.05) #get 3 steps forecast for 2018-2020\n",
        "result = model.get_forecast(3)\n",
        "conf = result.conf_int(0.05)"
      ],
      "execution_count": null,
      "outputs": [
        {
          "output_type": "stream",
          "text": [
            "                               SARIMAX Results                                \n",
            "==============================================================================\n",
            "Dep. Variable:               Citation   No. Observations:                   15\n",
            "Model:                 ARIMA(1, 1, 1)   Log Likelihood                 -62.377\n",
            "Date:                Wed, 19 May 2021   AIC                            130.755\n",
            "Time:                        07:04:59   BIC                            132.672\n",
            "Sample:                    01-01-2003   HQIC                           130.577\n",
            "                         - 01-01-2017                                         \n",
            "Covariance Type:                  opg                                         \n",
            "==============================================================================\n",
            "                 coef    std err          z      P>|z|      [0.025      0.975]\n",
            "------------------------------------------------------------------------------\n",
            "ar.L1          0.9490      0.240      3.957      0.000       0.479       1.419\n",
            "ma.L1         -0.4663      0.660     -0.707      0.480      -1.760       0.827\n",
            "sigma2       393.2195    170.736      2.303      0.021      58.583     727.856\n",
            "===================================================================================\n",
            "Ljung-Box (Q):                       12.37   Jarque-Bera (JB):                 0.17\n",
            "Prob(Q):                              0.50   Prob(JB):                         0.92\n",
            "Heteroskedasticity (H):               1.73   Skew:                             0.24\n",
            "Prob(H) (two-sided):                  0.56   Kurtosis:                         3.24\n",
            "===================================================================================\n",
            "\n",
            "Warnings:\n",
            "[1] Covariance matrix calculated using the outer product of gradients (complex-step).\n"
          ],
          "name": "stdout"
        },
        {
          "output_type": "stream",
          "text": [
            "/usr/local/lib/python3.7/dist-packages/statsmodels/tsa/statespace/sarimax.py:963: UserWarning: Non-stationary starting autoregressive parameters found. Using zeros as starting parameters.\n",
            "  warn('Non-stationary starting autoregressive parameters'\n"
          ],
          "name": "stderr"
        }
      ]
    },
    {
      "cell_type": "code",
      "metadata": {
        "colab": {
          "base_uri": "https://localhost:8080/"
        },
        "id": "bPqNsKGFFpAb",
        "outputId": "4304a238-3be8-499f-f397-7582c14227c0"
      },
      "source": [
        "# Print the error below by comparing the test and preds:\n",
        "from sklearn.metrics import mean_squared_error\n",
        "import matplotlib.pyplot as plt\n",
        "import numpy as np\n",
        "import math\n",
        "\n",
        "year = [2018,2019,2020]\n",
        "print('The error for each year prection:\\n')\n",
        "print('YEAR\\tPREDICTION\\tTEST_THRUTH\\tERROR')\n",
        "for i, j, y in zip(preds,test_set.values,year):\n",
        "  print('{}{:7}{:16}{:16}'.format(y,int(i),int(j),int(int(i)-j)))\n",
        "\n",
        "# Your code to show the performance RMSE\n",
        "MSE = mean_squared_error(test_set,preds)\n",
        "RMSE = math.sqrt(MSE)\n",
        "print('\\nRMSE of the model is: {}'.format(RMSE))\n"
      ],
      "execution_count": null,
      "outputs": [
        {
          "output_type": "stream",
          "text": [
            "The error for each year prection:\n",
            "\n",
            "YEAR\tPREDICTION\tTEST_THRUTH\tERROR\n",
            "2018    429             450             -21\n",
            "2019    470             579            -109\n",
            "2020    508             838            -330\n",
            "\n",
            "RMSE of the model is: 200.48296899058838\n"
          ],
          "name": "stdout"
        }
      ]
    },
    {
      "cell_type": "markdown",
      "metadata": {
        "id": "Q7k3Savqewxg"
      },
      "source": [
        "### 6.3 Draw the visualization to compare"
      ]
    },
    {
      "cell_type": "markdown",
      "metadata": {
        "id": "JC5xseYSH7ze"
      },
      "source": [
        " <div class=\"alert alert-block alert-info\">\n",
        "\n",
        "**Code**: \n",
        "   You will also need to use matplotlib to draw the line plot with training data from 2013 to 2017,\n",
        "the testing truth, the prediction and also the confidence interval (95%). \n",
        "    <br>\n",
        "    *Keep the outputs for code in your notebook.\n",
        "</div>"
      ]
    },
    {
      "cell_type": "code",
      "metadata": {
        "id": "DcsJIrOXItA5",
        "colab": {
          "base_uri": "https://localhost:8080/",
          "height": 385
        },
        "outputId": "7c12877c-bcd2-48ca-a521-8e30b6890962"
      },
      "source": [
        "# You code: Visualize as required, the prediction with its confidence interval\n",
        "\n",
        "# set up the confidence boundary\n",
        "lower = conf['lower Citation']\n",
        "upper = conf['upper Citation']\n",
        "\n",
        "# Plot the forecast\n",
        "plt.figure(figsize=(8,4), dpi=100)\n",
        "plt.plot(train_set, label='Training')\n",
        "plt.plot(test_set, label='Testing Truth')\n",
        "plt.plot(preds, label='Prediction')\n",
        "plt.fill_between(test_set.index, lower, upper, color='green', alpha=.2)\n",
        "plt.title('Prediction vs Testing Truth (95% Confidence)')\n",
        "plt.legend(loc='upper left', fontsize=8)\n",
        "plt.show()"
      ],
      "execution_count": null,
      "outputs": [
        {
          "output_type": "display_data",
          "data": {
            "image/png": "[encoded data removed]",
            "text/plain": [
              "<Figure size 800x400 with 1 Axes>"
            ]
          },
          "metadata": {
            "tags": [],
            "needs_background": "light"
          }
        }
      ]
    },
    {
      "cell_type": "markdown",
      "metadata": {
        "id": "4Qhi7QJhPenf"
      },
      "source": [
        "## 7.Conduct the Grid Search with paramter selection and then predict the 2021 and 2022"
      ]
    },
    {
      "cell_type": "markdown",
      "metadata": {
        "id": "ie6-3EY_IdT3"
      },
      "source": [
        "### 7.1 Grid Search\n",
        " <div class=\"alert alert-block alert-info\">\n",
        "\n",
        "**Code**: \n",
        "  You will need to run the grid search for parameter $p=[1,2]$, \n",
        "$q=[1,2]$,\n",
        "$d=[1,2]$\n",
        "with training data on year 2003 to 2017 and testing data on 2018 to 2020\n",
        "The result of the search on each paratemer combination (eg: p=1,q=1,d=1)\n",
        "will need to be stored in the \"search-results.csv\",\n",
        "The search-results.csv will have the column of \"RMSE\" and column \"PARAMETER\".\n",
        "    <br>\n",
        "    *Keep the outputs for code in your notebook.\n",
        "</div>"
      ]
    },
    {
      "cell_type": "code",
      "metadata": {
        "id": "9l3SYph7Psk3",
        "colab": {
          "base_uri": "https://localhost:8080/"
        },
        "outputId": "a59c0e51-2e92-49df-b481-baf4cec999c6"
      },
      "source": [
        "# your code to run grid search\n",
        "\n",
        "p_list = list(range(1,3))\n",
        "q_list = list(range(1,3))\n",
        "d_list = list(range(1,3))\n",
        "RMSE = []\n",
        "PARAMETER = []\n",
        "best_order = (1,1,1)\n",
        "\n",
        "# ARIMA evaluation function (p,q,d)\n",
        "def arima_evaluate(x, y, arima_order):\n",
        "  model = ARIMA(x, order=arima_order).fit()\n",
        "  result = model.get_forecast(3,alpha=0.05)\n",
        "  preds = result.prediction_results.results.forecasts[0]\n",
        "  rmse = math.sqrt(mean_squared_error(y,preds))\n",
        "  return rmse\n",
        "\n",
        "#Grid search\n",
        "for p in p_list:\n",
        "  for q in q_list:\n",
        "    for d in d_list:\n",
        "      order = (p,q,d)\n",
        "      try:\n",
        "        rmse = arima_evaluate(train_set, test_set, order)\n",
        "        if(len(RMSE)>0):\n",
        "            if(rmse < min(RMSE)): #select the best order\n",
        "                best_order = order\n",
        "        RMSE.append(round(rmse,2))\n",
        "        PARAMETER.append(order)\n",
        "      except:\n",
        "        RMSE.append('error')\n",
        "        PARAMETER.append(order)\n",
        "        continue\n",
        "print('Best parameter order is {}'.format(best_order))\n",
        "print('Grid search is completed.')\n"
      ],
      "execution_count": null,
      "outputs": [
        {
          "output_type": "stream",
          "text": [
            "/usr/local/lib/python3.7/dist-packages/statsmodels/tsa/statespace/sarimax.py:963: UserWarning: Non-stationary starting autoregressive parameters found. Using zeros as starting parameters.\n",
            "  warn('Non-stationary starting autoregressive parameters'\n",
            "/usr/local/lib/python3.7/dist-packages/statsmodels/tsa/statespace/sarimax.py:963: UserWarning: Non-stationary starting autoregressive parameters found. Using zeros as starting parameters.\n",
            "  warn('Non-stationary starting autoregressive parameters'\n",
            "/usr/local/lib/python3.7/dist-packages/statsmodels/tsa/statespace/sarimax.py:963: UserWarning: Non-stationary starting autoregressive parameters found. Using zeros as starting parameters.\n",
            "  warn('Non-stationary starting autoregressive parameters'\n",
            "/usr/local/lib/python3.7/dist-packages/statsmodels/tsa/statespace/sarimax.py:975: UserWarning: Non-invertible starting MA parameters found. Using zeros as starting parameters.\n",
            "  warn('Non-invertible starting MA parameters found.'\n",
            "/usr/local/lib/python3.7/dist-packages/statsmodels/tsa/statespace/sarimax.py:963: UserWarning: Non-stationary starting autoregressive parameters found. Using zeros as starting parameters.\n",
            "  warn('Non-stationary starting autoregressive parameters'\n"
          ],
          "name": "stderr"
        },
        {
          "output_type": "stream",
          "text": [
            "Best parameter order is (1, 2, 2)\n",
            "Grid search is completed.\n"
          ],
          "name": "stdout"
        },
        {
          "output_type": "stream",
          "text": [
            "/usr/local/lib/python3.7/dist-packages/statsmodels/base/model.py:568: ConvergenceWarning: Maximum Likelihood optimization failed to converge. Check mle_retvals\n",
            "  \"Check mle_retvals\", ConvergenceWarning)\n"
          ],
          "name": "stderr"
        }
      ]
    },
    {
      "cell_type": "code",
      "metadata": {
        "id": "gax9Nx6zQ7hH",
        "colab": {
          "base_uri": "https://localhost:8080/",
          "height": 233
        },
        "outputId": "785ffd45-a55e-462a-b33c-1c4bc6d53143"
      },
      "source": [
        "# your code to generate the seach-results.csv and print the top 6 rows\n",
        "\n",
        "search_result = pd.DataFrame({'RMSE':RMSE,'PARAMETER':PARAMETER})\n",
        "search_result.to_csv('Search-results.csv',index=False)\n",
        "search_result.head(6)\n",
        "\n"
      ],
      "execution_count": null,
      "outputs": [
        {
          "output_type": "execute_result",
          "data": {
            "text/html": [
              "<div>\n",
              "<style scoped>\n",
              "    .dataframe tbody tr th:only-of-type {\n",
              "        vertical-align: middle;\n",
              "    }\n",
              "\n",
              "    .dataframe tbody tr th {\n",
              "        vertical-align: top;\n",
              "    }\n",
              "\n",
              "    .dataframe thead th {\n",
              "        text-align: right;\n",
              "    }\n",
              "</style>\n",
              "<table border=\"1\" class=\"dataframe\">\n",
              "  <thead>\n",
              "    <tr style=\"text-align: right;\">\n",
              "      <th></th>\n",
              "      <th>RMSE</th>\n",
              "      <th>PARAMETER</th>\n",
              "    </tr>\n",
              "  </thead>\n",
              "  <tbody>\n",
              "    <tr>\n",
              "      <th>0</th>\n",
              "      <td>200.48</td>\n",
              "      <td>(1, 1, 1)</td>\n",
              "    </tr>\n",
              "    <tr>\n",
              "      <th>1</th>\n",
              "      <td>204.59</td>\n",
              "      <td>(1, 1, 2)</td>\n",
              "    </tr>\n",
              "    <tr>\n",
              "      <th>2</th>\n",
              "      <td>187.02</td>\n",
              "      <td>(1, 2, 1)</td>\n",
              "    </tr>\n",
              "    <tr>\n",
              "      <th>3</th>\n",
              "      <td>174.80</td>\n",
              "      <td>(1, 2, 2)</td>\n",
              "    </tr>\n",
              "    <tr>\n",
              "      <th>4</th>\n",
              "      <td>200.09</td>\n",
              "      <td>(2, 1, 1)</td>\n",
              "    </tr>\n",
              "    <tr>\n",
              "      <th>5</th>\n",
              "      <td>204.69</td>\n",
              "      <td>(2, 1, 2)</td>\n",
              "    </tr>\n",
              "  </tbody>\n",
              "</table>\n",
              "</div>"
            ],
            "text/plain": [
              "     RMSE  PARAMETER\n",
              "0  200.48  (1, 1, 1)\n",
              "1  204.59  (1, 1, 2)\n",
              "2  187.02  (1, 2, 1)\n",
              "3  174.80  (1, 2, 2)\n",
              "4  200.09  (2, 1, 1)\n",
              "5  204.69  (2, 1, 2)"
            ]
          },
          "metadata": {
            "tags": []
          },
          "execution_count": 28
        }
      ]
    },
    {
      "cell_type": "markdown",
      "metadata": {
        "id": "CTey6Y9ER0rE"
      },
      "source": [
        "### 7.2 TRAIN With Best Parameter Set with data up to 2020 and Predict the 2021 and 2022"
      ]
    },
    {
      "cell_type": "markdown",
      "metadata": {
        "id": "skoPt98jJTro"
      },
      "source": [
        "<div class=\"alert alert-block alert-info\">\n",
        "\n",
        "**Code**: \n",
        "  You will need to perform the training with Arima on data from 2003 to 2020 with best parameter you have found in last task,\n",
        "and then conduct the prediction for year 2021 and 2022.\n",
        "    <br>\n",
        "    *Keep the outputs for code in your notebook.\n",
        "</div>"
      ]
    },
    {
      "cell_type": "code",
      "metadata": {
        "id": "RKSwlnWRRzQ3",
        "colab": {
          "base_uri": "https://localhost:8080/"
        },
        "outputId": "9a574372-396c-45f9-85a7-26871661c87d"
      },
      "source": [
        "# your code to perform the Arima train on data 2003 to 2020\n",
        "\n",
        "#Get the train dataset up to 2020\n",
        "train_set = create_df[:-1].copy()\n",
        "\n",
        "\n",
        "#fit the model with the best parameters\n",
        "train_set.index = pd.DatetimeIndex(train_set.index.values,freq=train_set.index.inferred_freq) # avoid index warning\n",
        "model = ARIMA(train_set, order = best_order).fit()\n",
        "print(model.summary())\n",
        "\n",
        "# To predict 2 steps ahead for 2021 and 2022\n",
        "preds = model.forecast(2,alpha = 0.05,)\n",
        "result = model.get_forecast(2)\n",
        "conf = result.conf_int(0.05) # Get 95% confident level\n",
        "\n"
      ],
      "execution_count": null,
      "outputs": [
        {
          "output_type": "stream",
          "text": [
            "                               SARIMAX Results                                \n",
            "==============================================================================\n",
            "Dep. Variable:               Citation   No. Observations:                   18\n",
            "Model:                 ARIMA(1, 2, 2)   Log Likelihood                 -81.222\n",
            "Date:                Wed, 19 May 2021   AIC                            170.444\n",
            "Time:                        07:05:26   BIC                            173.535\n",
            "Sample:                    01-01-2003   HQIC                           170.603\n",
            "                         - 01-01-2020                                         \n",
            "Covariance Type:                  opg                                         \n",
            "==============================================================================\n",
            "                 coef    std err          z      P>|z|      [0.025      0.975]\n",
            "------------------------------------------------------------------------------\n",
            "ar.L1          0.6913      1.588      0.435      0.663      -2.421       3.803\n",
            "ma.L1         -0.1639      1.574     -0.104      0.917      -3.249       2.921\n",
            "ma.L2          0.1112      0.987      0.113      0.910      -1.823       2.046\n",
            "sigma2      1450.1717    722.008      2.009      0.045      35.063    2865.281\n",
            "===================================================================================\n",
            "Ljung-Box (Q):                       14.49   Jarque-Bera (JB):                 0.01\n",
            "Prob(Q):                              0.49   Prob(JB):                         1.00\n",
            "Heteroskedasticity (H):               3.29   Skew:                             0.03\n",
            "Prob(H) (two-sided):                  0.22   Kurtosis:                         3.10\n",
            "===================================================================================\n",
            "\n",
            "Warnings:\n",
            "[1] Covariance matrix calculated using the outer product of gradients (complex-step).\n"
          ],
          "name": "stdout"
        },
        {
          "output_type": "stream",
          "text": [
            "/usr/local/lib/python3.7/dist-packages/statsmodels/tsa/statespace/sarimax.py:963: UserWarning: Non-stationary starting autoregressive parameters found. Using zeros as starting parameters.\n",
            "  warn('Non-stationary starting autoregressive parameters'\n"
          ],
          "name": "stderr"
        }
      ]
    },
    {
      "cell_type": "markdown",
      "metadata": {
        "id": "F3TCMUg1JyNj"
      },
      "source": [
        "<div class=\"alert alert-block alert-info\">\n",
        "\n",
        "**Code**: \n",
        "  You will also need to use matplotlib to draw the line plot with training data from 2013 to 2020, the prediction and also the confidence interval (95%).\n",
        "    <br>\n",
        "    *Keep the outputs for code in your notebook.\n",
        "</div>"
      ]
    },
    {
      "cell_type": "code",
      "metadata": {
        "id": "PMTaDurDSVjj",
        "colab": {
          "base_uri": "https://localhost:8080/",
          "height": 385
        },
        "outputId": "f186c581-ff20-4a3e-e0df-8f089a432c11"
      },
      "source": [
        "# Plot the points and the prediction with its confidence interval\n",
        "\n",
        "#set up the confidence boundary\n",
        "lower = conf['lower Citation']\n",
        "upper = conf['upper Citation']\n",
        "\n",
        "# Plot the forecast\n",
        "plt.figure(figsize=(8,4), dpi=100)\n",
        "plt.plot(train_set, label='Training')\n",
        "plt.plot(preds, label='Prediction')\n",
        "plt.fill_between(preds.index, lower, upper, color='green', alpha=0.2)\n",
        "plt.title('Prediction for 2021 and 2022 (95% Confidence)')\n",
        "plt.legend(loc='upper left', fontsize=8)\n",
        "plt.show()\n"
      ],
      "execution_count": null,
      "outputs": [
        {
          "output_type": "display_data",
          "data": {
            "image/png": "[encoded data removed]",
            "text/plain": [
              "<Figure size 800x400 with 1 Axes>"
            ]
          },
          "metadata": {
            "tags": [],
            "needs_background": "light"
          }
        }
      ]
    },
    {
      "cell_type": "markdown",
      "metadata": {
        "id": "FzFJdSqaVkfn"
      },
      "source": [
        "# Part III - Self-Reflective Essay\n",
        "\n",
        "## Overview\n",
        "\n",
        "Please check the assessment task specification details.\n"
      ]
    }
  ]
}